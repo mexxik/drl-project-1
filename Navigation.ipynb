{
 "cells": [
  {
   "cell_type": "code",
   "execution_count": 1,
   "metadata": {
    "collapsed": true
   },
   "outputs": [],
   "source": [
    "import sys\n",
    "import numpy as np\n",
    "\n",
    "from collections import deque\n",
    "from unityagents import UnityEnvironment\n",
    "\n",
    "from agent import Parameters, ExperienceReplay, Agent\n",
    "\n",
    "import matplotlib.pyplot as plt\n",
    "%matplotlib inline"
   ]
  },
  {
   "cell_type": "code",
   "execution_count": 2,
   "metadata": {},
   "outputs": [],
   "source": [
    "class Monitor(object):\n",
    "    def __init__(self):\n",
    "        pass\n",
    "    \n",
    "    def run(self, params, name):\n",
    "        env = UnityEnvironment(file_name=\"Banana.x86_64\")\n",
    "\n",
    "        brain_name = env.brain_names[0]\n",
    "        brain = env.brains[brain_name]\n",
    "        \n",
    "        env_info = env.reset(train_mode=True)[brain_name]\n",
    "        \n",
    "        num_states = len(env_info.vector_observations[0])\n",
    "        num_actions = brain.vector_action_space_size\n",
    "        \n",
    "        memory = ExperienceReplay(params)\n",
    "        agent = Agent(params, num_states, num_actions, memory)\n",
    "        \n",
    "        last_rewards = deque(maxlen=100)\n",
    "        average_rewards = deque(maxlen=params.num_episodes)\n",
    "        scores = []\n",
    "        \n",
    "        solved = False\n",
    "        solved_episodes = 0\n",
    "        for i_episode in range(params.num_episodes):\n",
    "            env_info = env.reset(train_mode=True)[brain_name]\n",
    "            state = env_info.vector_observations[0]\n",
    "            score = 0\n",
    "        \n",
    "            while True:\n",
    "                action = agent.get_action(state)\n",
    "        \n",
    "                env_info = env.step(action)[brain_name]\n",
    "                new_state = env_info.vector_observations[0]\n",
    "                reward = env_info.rewards[0]\n",
    "                done = env_info.local_done[0]\n",
    "                score += reward\n",
    "        \n",
    "                memory.push(state, action, new_state, reward, done)\n",
    "                agent.optimize()\n",
    "        \n",
    "                state = new_state\n",
    "                if done:\n",
    "                    last_rewards.append(score)\n",
    "                    scores.append(score)\n",
    "        \n",
    "                    average_reward = np.mean(last_rewards)\n",
    "                    average_rewards.append(average_reward)\n",
    "        \n",
    "                    print(\"\\r {}/{}: average score {:.2f}\".format(i_episode, params.num_episodes, average_reward), end=\"\")\n",
    "                    sys.stdout.flush()\n",
    "        \n",
    "                    if average_reward >= params.solve_score:\n",
    "                        solved = True\n",
    "                        solved_episodes = i_episode\n",
    "        \n",
    "                    break\n",
    "                    \n",
    "            if solved:\n",
    "                break\n",
    "                \n",
    "        if solved:\n",
    "            print(\"\\nsolved in {} episodes\".format(solved_episodes))\n",
    "            \n",
    "            fig = plt.figure()\n",
    "            ax = fig.add_subplot(111)\n",
    "            plt.plot(np.arange(len(scores)), scores)\n",
    "            plt.ylabel(\"score\")\n",
    "            plt.xlabel(\"episode #\")\n",
    "            plt.show()\n",
    "            \n",
    "            model_path = \"navigation_{}.pth\".format(name)\n",
    "            print(\"save model to {}\".format(model_path))\n",
    "            agent.save_model(model_path)\n",
    "        \n",
    "        env.close()\n",
    "        \n",
    "    def test(self, params, name):\n",
    "        model_path = \"navigation_{}.pth\".format(name)\n",
    "        \n",
    "        env = UnityEnvironment(file_name=\"Banana.x86_64\")\n",
    "        brain_name = env.brain_names[0]\n",
    "        brain = env.brains[brain_name]\n",
    "        \n",
    "        env_info = env.reset(train_mode=False)[brain_name]\n",
    "        \n",
    "        num_states = len(env_info.vector_observations[0])\n",
    "        num_actions = brain.vector_action_space_size\n",
    "        \n",
    "        agent = Agent(params, num_states, num_actions, None)\n",
    "        agent.load_model(model_path)\n",
    "        \n",
    "        state = env_info.vector_observations[0]\n",
    "        score = 0  \n",
    "        while True:\n",
    "            action = agent.get_action(state)\n",
    "            env_info = env.step(action)[brain_name]  \n",
    "            next_state = env_info.vector_observations[0]\n",
    "            reward = env_info.rewards[0] \n",
    "            done = env_info.local_done[0] \n",
    "            score += reward\n",
    "            state = next_state \n",
    "            if done: \n",
    "                break\n",
    "\n",
    "        print(\"test score: {}\".format(score))\n",
    "\n",
    "        env.close()\n",
    "       \n",
    "    def run_basic(self):\n",
    "        params = Parameters()\n",
    "        \n",
    "        self.run(params, \"basic\")\n",
    "        \n",
    "    def test_basic(self):\n",
    "        params = Parameters()\n",
    "        \n",
    "        self.test(params, \"basic\")"
   ]
  },
  {
   "cell_type": "code",
   "execution_count": 3,
   "metadata": {},
   "outputs": [
    {
     "name": "stderr",
     "output_type": "stream",
     "text": [
      "INFO:unityagents:\n'Academy' started successfully!\nUnity Academy name: Academy\n        Number of Brains: 1\n        Number of External Brains : 1\n        Lesson number : 0\n        Reset Parameters :\n\t\t\nUnity brain name: BananaBrain\n        Number of Visual Observations (per agent): 0\n        Vector Observation space type: continuous\n        Vector Observation space size (per agent): 37\n        Number of stacked Vector Observation: 1\n        Vector Action space type: discrete\n        Vector Action space size (per agent): 4\n        Vector Action descriptions: , , , \n"
     ]
    },
    {
     "name": "stdout",
     "output_type": "stream",
     "text": [
      "\r 0/2000: average score 0.00"
     ]
    },
    {
     "name": "stdout",
     "output_type": "stream",
     "text": [
      "\r 1/2000: average score -0.50"
     ]
    },
    {
     "name": "stdout",
     "output_type": "stream",
     "text": [
      "\r 2/2000: average score -0.67"
     ]
    },
    {
     "name": "stdout",
     "output_type": "stream",
     "text": [
      "\r 3/2000: average score 1.25"
     ]
    },
    {
     "name": "stdout",
     "output_type": "stream",
     "text": [
      "\r 4/2000: average score 1.20"
     ]
    },
    {
     "name": "stdout",
     "output_type": "stream",
     "text": [
      "\r 5/2000: average score 1.17"
     ]
    },
    {
     "name": "stdout",
     "output_type": "stream",
     "text": [
      "\r 6/2000: average score 1.29"
     ]
    },
    {
     "name": "stdout",
     "output_type": "stream",
     "text": [
      "\r 7/2000: average score 1.38"
     ]
    },
    {
     "name": "stdout",
     "output_type": "stream",
     "text": [
      "\r 8/2000: average score 1.33"
     ]
    },
    {
     "name": "stdout",
     "output_type": "stream",
     "text": [
      "\r 9/2000: average score 2.00"
     ]
    },
    {
     "name": "stdout",
     "output_type": "stream",
     "text": [
      "\r 10/2000: average score 2.45"
     ]
    },
    {
     "name": "stdout",
     "output_type": "stream",
     "text": [
      "\r 11/2000: average score 2.50"
     ]
    },
    {
     "name": "stdout",
     "output_type": "stream",
     "text": [
      "\r 12/2000: average score 2.54"
     ]
    },
    {
     "name": "stdout",
     "output_type": "stream",
     "text": [
      "\r 13/2000: average score 2.71"
     ]
    },
    {
     "name": "stdout",
     "output_type": "stream",
     "text": [
      "\r 14/2000: average score 2.53"
     ]
    },
    {
     "name": "stdout",
     "output_type": "stream",
     "text": [
      "\r 15/2000: average score 2.56"
     ]
    },
    {
     "name": "stdout",
     "output_type": "stream",
     "text": [
      "\r 16/2000: average score 2.41"
     ]
    },
    {
     "name": "stdout",
     "output_type": "stream",
     "text": [
      "\r 17/2000: average score 2.56"
     ]
    },
    {
     "name": "stdout",
     "output_type": "stream",
     "text": [
      "\r 18/2000: average score 2.74"
     ]
    },
    {
     "name": "stdout",
     "output_type": "stream",
     "text": [
      "\r 19/2000: average score 2.75"
     ]
    },
    {
     "name": "stdout",
     "output_type": "stream",
     "text": [
      "\r 20/2000: average score 2.67"
     ]
    },
    {
     "name": "stdout",
     "output_type": "stream",
     "text": [
      "\r 21/2000: average score 2.55"
     ]
    },
    {
     "name": "stdout",
     "output_type": "stream",
     "text": [
      "\r 22/2000: average score 2.43"
     ]
    },
    {
     "name": "stdout",
     "output_type": "stream",
     "text": [
      "\r 23/2000: average score 2.92"
     ]
    },
    {
     "name": "stdout",
     "output_type": "stream",
     "text": [
      "\r 24/2000: average score 2.88"
     ]
    },
    {
     "name": "stdout",
     "output_type": "stream",
     "text": [
      "\r 25/2000: average score 3.12"
     ]
    },
    {
     "name": "stdout",
     "output_type": "stream",
     "text": [
      "\r 26/2000: average score 3.33"
     ]
    },
    {
     "name": "stdout",
     "output_type": "stream",
     "text": [
      "\r 27/2000: average score 3.21"
     ]
    },
    {
     "name": "stdout",
     "output_type": "stream",
     "text": [
      "\r 28/2000: average score 3.14"
     ]
    },
    {
     "name": "stdout",
     "output_type": "stream",
     "text": [
      "\r 29/2000: average score 3.33"
     ]
    },
    {
     "name": "stdout",
     "output_type": "stream",
     "text": [
      "\r 30/2000: average score 3.45"
     ]
    },
    {
     "name": "stdout",
     "output_type": "stream",
     "text": [
      "\r 31/2000: average score 3.47"
     ]
    },
    {
     "name": "stdout",
     "output_type": "stream",
     "text": [
      "\r 32/2000: average score 3.58"
     ]
    },
    {
     "name": "stdout",
     "output_type": "stream",
     "text": [
      "\r 33/2000: average score 3.68"
     ]
    },
    {
     "name": "stdout",
     "output_type": "stream",
     "text": [
      "\r 34/2000: average score 3.77"
     ]
    },
    {
     "name": "stdout",
     "output_type": "stream",
     "text": [
      "\r 35/2000: average score 3.69"
     ]
    },
    {
     "name": "stdout",
     "output_type": "stream",
     "text": [
      "\r 36/2000: average score 3.73"
     ]
    },
    {
     "name": "stdout",
     "output_type": "stream",
     "text": [
      "\r 37/2000: average score 3.63"
     ]
    },
    {
     "name": "stdout",
     "output_type": "stream",
     "text": [
      "\r 38/2000: average score 3.54"
     ]
    },
    {
     "name": "stdout",
     "output_type": "stream",
     "text": [
      "\r 39/2000: average score 3.52"
     ]
    },
    {
     "name": "stdout",
     "output_type": "stream",
     "text": [
      "\r 40/2000: average score 3.49"
     ]
    },
    {
     "name": "stdout",
     "output_type": "stream",
     "text": [
      "\r 41/2000: average score 3.48"
     ]
    },
    {
     "name": "stdout",
     "output_type": "stream",
     "text": [
      "\r 42/2000: average score 3.51"
     ]
    },
    {
     "name": "stdout",
     "output_type": "stream",
     "text": [
      "\r 43/2000: average score 3.52"
     ]
    },
    {
     "name": "stdout",
     "output_type": "stream",
     "text": [
      "\r 44/2000: average score 3.53"
     ]
    },
    {
     "name": "stdout",
     "output_type": "stream",
     "text": [
      "\r 45/2000: average score 3.52"
     ]
    },
    {
     "name": "stdout",
     "output_type": "stream",
     "text": [
      "\r 46/2000: average score 3.47"
     ]
    },
    {
     "name": "stdout",
     "output_type": "stream",
     "text": [
      "\r 47/2000: average score 3.44"
     ]
    },
    {
     "name": "stdout",
     "output_type": "stream",
     "text": [
      "\r 48/2000: average score 3.51"
     ]
    },
    {
     "name": "stdout",
     "output_type": "stream",
     "text": [
      "\r 49/2000: average score 3.50"
     ]
    },
    {
     "name": "stdout",
     "output_type": "stream",
     "text": [
      "\r 50/2000: average score 3.55"
     ]
    },
    {
     "name": "stdout",
     "output_type": "stream",
     "text": [
      "\r 51/2000: average score 3.50"
     ]
    },
    {
     "name": "stdout",
     "output_type": "stream",
     "text": [
      "\r 52/2000: average score 3.45"
     ]
    },
    {
     "name": "stdout",
     "output_type": "stream",
     "text": [
      "\r 53/2000: average score 3.48"
     ]
    },
    {
     "name": "stdout",
     "output_type": "stream",
     "text": [
      "\r 54/2000: average score 3.45"
     ]
    },
    {
     "name": "stdout",
     "output_type": "stream",
     "text": [
      "\r 55/2000: average score 3.46"
     ]
    },
    {
     "name": "stdout",
     "output_type": "stream",
     "text": [
      "\r 56/2000: average score 3.58"
     ]
    },
    {
     "name": "stdout",
     "output_type": "stream",
     "text": [
      "\r 57/2000: average score 3.69"
     ]
    },
    {
     "name": "stdout",
     "output_type": "stream",
     "text": [
      "\r 58/2000: average score 3.68"
     ]
    },
    {
     "name": "stdout",
     "output_type": "stream",
     "text": [
      "\r 59/2000: average score 3.65"
     ]
    },
    {
     "name": "stdout",
     "output_type": "stream",
     "text": [
      "\r 60/2000: average score 3.59"
     ]
    },
    {
     "name": "stdout",
     "output_type": "stream",
     "text": [
      "\r 61/2000: average score 3.53"
     ]
    },
    {
     "name": "stdout",
     "output_type": "stream",
     "text": [
      "\r 62/2000: average score 3.51"
     ]
    },
    {
     "name": "stdout",
     "output_type": "stream",
     "text": [
      "\r 63/2000: average score 3.69"
     ]
    },
    {
     "name": "stdout",
     "output_type": "stream",
     "text": [
      "\r 64/2000: average score 3.66"
     ]
    },
    {
     "name": "stdout",
     "output_type": "stream",
     "text": [
      "\r 65/2000: average score 3.67"
     ]
    },
    {
     "name": "stdout",
     "output_type": "stream",
     "text": [
      "\r 66/2000: average score 3.63"
     ]
    },
    {
     "name": "stdout",
     "output_type": "stream",
     "text": [
      "\r 67/2000: average score 3.65"
     ]
    },
    {
     "name": "stdout",
     "output_type": "stream",
     "text": [
      "\r 68/2000: average score 3.70"
     ]
    },
    {
     "name": "stdout",
     "output_type": "stream",
     "text": [
      "\r 69/2000: average score 3.70"
     ]
    },
    {
     "name": "stdout",
     "output_type": "stream",
     "text": [
      "\r 70/2000: average score 3.68"
     ]
    },
    {
     "name": "stdout",
     "output_type": "stream",
     "text": [
      "\r 71/2000: average score 3.85"
     ]
    },
    {
     "name": "stdout",
     "output_type": "stream",
     "text": [
      "\r 72/2000: average score 3.89"
     ]
    },
    {
     "name": "stdout",
     "output_type": "stream",
     "text": [
      "\r 73/2000: average score 3.93"
     ]
    },
    {
     "name": "stdout",
     "output_type": "stream",
     "text": [
      "\r 74/2000: average score 4.03"
     ]
    },
    {
     "name": "stdout",
     "output_type": "stream",
     "text": [
      "\r 75/2000: average score 4.03"
     ]
    },
    {
     "name": "stdout",
     "output_type": "stream",
     "text": [
      "\r 76/2000: average score 4.01"
     ]
    },
    {
     "name": "stdout",
     "output_type": "stream",
     "text": [
      "\r 77/2000: average score 3.96"
     ]
    },
    {
     "name": "stdout",
     "output_type": "stream",
     "text": [
      "\r 78/2000: average score 4.01"
     ]
    },
    {
     "name": "stdout",
     "output_type": "stream",
     "text": [
      "\r 79/2000: average score 4.03"
     ]
    },
    {
     "name": "stdout",
     "output_type": "stream",
     "text": [
      "\r 80/2000: average score 4.01"
     ]
    },
    {
     "name": "stdout",
     "output_type": "stream",
     "text": [
      "\r 81/2000: average score 4.05"
     ]
    },
    {
     "name": "stdout",
     "output_type": "stream",
     "text": [
      "\r 82/2000: average score 4.01"
     ]
    },
    {
     "name": "stdout",
     "output_type": "stream",
     "text": [
      "\r 83/2000: average score 4.00"
     ]
    },
    {
     "name": "stdout",
     "output_type": "stream",
     "text": [
      "\r 84/2000: average score 4.01"
     ]
    },
    {
     "name": "stdout",
     "output_type": "stream",
     "text": [
      "\r 85/2000: average score 4.05"
     ]
    },
    {
     "name": "stdout",
     "output_type": "stream",
     "text": [
      "\r 86/2000: average score 4.10"
     ]
    },
    {
     "name": "stdout",
     "output_type": "stream",
     "text": [
      "\r 87/2000: average score 4.11"
     ]
    },
    {
     "name": "stdout",
     "output_type": "stream",
     "text": [
      "\r 88/2000: average score 4.16"
     ]
    },
    {
     "name": "stdout",
     "output_type": "stream",
     "text": [
      "\r 89/2000: average score 4.11"
     ]
    },
    {
     "name": "stdout",
     "output_type": "stream",
     "text": [
      "\r 90/2000: average score 4.05"
     ]
    },
    {
     "name": "stdout",
     "output_type": "stream",
     "text": [
      "\r 91/2000: average score 4.13"
     ]
    },
    {
     "name": "stdout",
     "output_type": "stream",
     "text": [
      "\r 92/2000: average score 4.18"
     ]
    },
    {
     "name": "stdout",
     "output_type": "stream",
     "text": [
      "\r 93/2000: average score 4.20"
     ]
    },
    {
     "name": "stdout",
     "output_type": "stream",
     "text": [
      "\r 94/2000: average score 4.21"
     ]
    },
    {
     "name": "stdout",
     "output_type": "stream",
     "text": [
      "\r 95/2000: average score 4.25"
     ]
    },
    {
     "name": "stdout",
     "output_type": "stream",
     "text": [
      "\r 96/2000: average score 4.28"
     ]
    },
    {
     "name": "stdout",
     "output_type": "stream",
     "text": [
      "\r 97/2000: average score 4.28"
     ]
    },
    {
     "name": "stdout",
     "output_type": "stream",
     "text": [
      "\r 98/2000: average score 4.30"
     ]
    },
    {
     "name": "stdout",
     "output_type": "stream",
     "text": [
      "\r 99/2000: average score 4.31"
     ]
    },
    {
     "name": "stdout",
     "output_type": "stream",
     "text": [
      "\r 100/2000: average score 4.35"
     ]
    },
    {
     "name": "stdout",
     "output_type": "stream",
     "text": [
      "\r 101/2000: average score 4.36"
     ]
    },
    {
     "name": "stdout",
     "output_type": "stream",
     "text": [
      "\r 102/2000: average score 4.43"
     ]
    },
    {
     "name": "stdout",
     "output_type": "stream",
     "text": [
      "\r 103/2000: average score 4.35"
     ]
    },
    {
     "name": "stdout",
     "output_type": "stream",
     "text": [
      "\r 104/2000: average score 4.40"
     ]
    },
    {
     "name": "stdout",
     "output_type": "stream",
     "text": [
      "\r 105/2000: average score 4.47"
     ]
    },
    {
     "name": "stdout",
     "output_type": "stream",
     "text": [
      "\r 106/2000: average score 4.58"
     ]
    },
    {
     "name": "stdout",
     "output_type": "stream",
     "text": [
      "\r 107/2000: average score 4.68"
     ]
    },
    {
     "name": "stdout",
     "output_type": "stream",
     "text": [
      "\r 108/2000: average score 4.68"
     ]
    },
    {
     "name": "stdout",
     "output_type": "stream",
     "text": [
      "\r 109/2000: average score 4.60"
     ]
    },
    {
     "name": "stdout",
     "output_type": "stream",
     "text": [
      "\r 110/2000: average score 4.55"
     ]
    },
    {
     "name": "stdout",
     "output_type": "stream",
     "text": [
      "\r 111/2000: average score 4.52"
     ]
    },
    {
     "name": "stdout",
     "output_type": "stream",
     "text": [
      "\r 112/2000: average score 4.52"
     ]
    },
    {
     "name": "stdout",
     "output_type": "stream",
     "text": [
      "\r 113/2000: average score 4.54"
     ]
    },
    {
     "name": "stdout",
     "output_type": "stream",
     "text": [
      "\r 114/2000: average score 4.67"
     ]
    },
    {
     "name": "stdout",
     "output_type": "stream",
     "text": [
      "\r 115/2000: average score 4.71"
     ]
    },
    {
     "name": "stdout",
     "output_type": "stream",
     "text": [
      "\r 116/2000: average score 4.82"
     ]
    },
    {
     "name": "stdout",
     "output_type": "stream",
     "text": [
      "\r 117/2000: average score 4.85"
     ]
    },
    {
     "name": "stdout",
     "output_type": "stream",
     "text": [
      "\r 118/2000: average score 4.87"
     ]
    },
    {
     "name": "stdout",
     "output_type": "stream",
     "text": [
      "\r 119/2000: average score 4.90"
     ]
    },
    {
     "name": "stdout",
     "output_type": "stream",
     "text": [
      "\r 120/2000: average score 4.93"
     ]
    },
    {
     "name": "stdout",
     "output_type": "stream",
     "text": [
      "\r 121/2000: average score 5.00"
     ]
    },
    {
     "name": "stdout",
     "output_type": "stream",
     "text": [
      "\r 122/2000: average score 5.05"
     ]
    },
    {
     "name": "stdout",
     "output_type": "stream",
     "text": [
      "\r 123/2000: average score 4.89"
     ]
    },
    {
     "name": "stdout",
     "output_type": "stream",
     "text": [
      "\r 124/2000: average score 4.95"
     ]
    },
    {
     "name": "stdout",
     "output_type": "stream",
     "text": [
      "\r 125/2000: average score 4.90"
     ]
    },
    {
     "name": "stdout",
     "output_type": "stream",
     "text": [
      "\r 126/2000: average score 4.91"
     ]
    },
    {
     "name": "stdout",
     "output_type": "stream",
     "text": [
      "\r 127/2000: average score 5.00"
     ]
    },
    {
     "name": "stdout",
     "output_type": "stream",
     "text": [
      "\r 128/2000: average score 5.12"
     ]
    },
    {
     "name": "stdout",
     "output_type": "stream",
     "text": [
      "\r 129/2000: average score 5.12"
     ]
    },
    {
     "name": "stdout",
     "output_type": "stream",
     "text": [
      "\r 130/2000: average score 5.17"
     ]
    },
    {
     "name": "stdout",
     "output_type": "stream",
     "text": [
      "\r 131/2000: average score 5.25"
     ]
    },
    {
     "name": "stdout",
     "output_type": "stream",
     "text": [
      "\r 132/2000: average score 5.23"
     ]
    },
    {
     "name": "stdout",
     "output_type": "stream",
     "text": [
      "\r 133/2000: average score 5.23"
     ]
    },
    {
     "name": "stdout",
     "output_type": "stream",
     "text": [
      "\r 134/2000: average score 5.22"
     ]
    },
    {
     "name": "stdout",
     "output_type": "stream",
     "text": [
      "\r 135/2000: average score 5.33"
     ]
    },
    {
     "name": "stdout",
     "output_type": "stream",
     "text": [
      "\r 136/2000: average score 5.38"
     ]
    },
    {
     "name": "stdout",
     "output_type": "stream",
     "text": [
      "\r 137/2000: average score 5.43"
     ]
    },
    {
     "name": "stdout",
     "output_type": "stream",
     "text": [
      "\r 138/2000: average score 5.50"
     ]
    },
    {
     "name": "stdout",
     "output_type": "stream",
     "text": [
      "\r 139/2000: average score 5.56"
     ]
    },
    {
     "name": "stdout",
     "output_type": "stream",
     "text": [
      "\r 140/2000: average score 5.63"
     ]
    },
    {
     "name": "stdout",
     "output_type": "stream",
     "text": [
      "\r 141/2000: average score 5.67"
     ]
    },
    {
     "name": "stdout",
     "output_type": "stream",
     "text": [
      "\r 142/2000: average score 5.70"
     ]
    },
    {
     "name": "stdout",
     "output_type": "stream",
     "text": [
      "\r 143/2000: average score 5.72"
     ]
    },
    {
     "name": "stdout",
     "output_type": "stream",
     "text": [
      "\r 144/2000: average score 5.74"
     ]
    },
    {
     "name": "stdout",
     "output_type": "stream",
     "text": [
      "\r 145/2000: average score 5.85"
     ]
    },
    {
     "name": "stdout",
     "output_type": "stream",
     "text": [
      "\r 146/2000: average score 5.94"
     ]
    },
    {
     "name": "stdout",
     "output_type": "stream",
     "text": [
      "\r 147/2000: average score 6.03"
     ]
    },
    {
     "name": "stdout",
     "output_type": "stream",
     "text": [
      "\r 148/2000: average score 6.07"
     ]
    },
    {
     "name": "stdout",
     "output_type": "stream",
     "text": [
      "\r 149/2000: average score 6.11"
     ]
    },
    {
     "name": "stdout",
     "output_type": "stream",
     "text": [
      "\r 150/2000: average score 6.17"
     ]
    },
    {
     "name": "stdout",
     "output_type": "stream",
     "text": [
      "\r 151/2000: average score 6.24"
     ]
    },
    {
     "name": "stdout",
     "output_type": "stream",
     "text": [
      "\r 152/2000: average score 6.30"
     ]
    },
    {
     "name": "stdout",
     "output_type": "stream",
     "text": [
      "\r 153/2000: average score 6.29"
     ]
    },
    {
     "name": "stdout",
     "output_type": "stream",
     "text": [
      "\r 154/2000: average score 6.31"
     ]
    },
    {
     "name": "stdout",
     "output_type": "stream",
     "text": [
      "\r 155/2000: average score 6.38"
     ]
    },
    {
     "name": "stdout",
     "output_type": "stream",
     "text": [
      "\r 156/2000: average score 6.40"
     ]
    },
    {
     "name": "stdout",
     "output_type": "stream",
     "text": [
      "\r 157/2000: average score 6.37"
     ]
    },
    {
     "name": "stdout",
     "output_type": "stream",
     "text": [
      "\r 158/2000: average score 6.40"
     ]
    },
    {
     "name": "stdout",
     "output_type": "stream",
     "text": [
      "\r 159/2000: average score 6.52"
     ]
    },
    {
     "name": "stdout",
     "output_type": "stream",
     "text": [
      "\r 160/2000: average score 6.59"
     ]
    },
    {
     "name": "stdout",
     "output_type": "stream",
     "text": [
      "\r 161/2000: average score 6.66"
     ]
    },
    {
     "name": "stdout",
     "output_type": "stream",
     "text": [
      "\r 162/2000: average score 6.77"
     ]
    },
    {
     "name": "stdout",
     "output_type": "stream",
     "text": [
      "\r 163/2000: average score 6.70"
     ]
    },
    {
     "name": "stdout",
     "output_type": "stream",
     "text": [
      "\r 164/2000: average score 6.77"
     ]
    },
    {
     "name": "stdout",
     "output_type": "stream",
     "text": [
      "\r 165/2000: average score 6.84"
     ]
    },
    {
     "name": "stdout",
     "output_type": "stream",
     "text": [
      "\r 166/2000: average score 6.97"
     ]
    },
    {
     "name": "stdout",
     "output_type": "stream",
     "text": [
      "\r 167/2000: average score 6.94"
     ]
    },
    {
     "name": "stdout",
     "output_type": "stream",
     "text": [
      "\r 168/2000: average score 6.91"
     ]
    },
    {
     "name": "stdout",
     "output_type": "stream",
     "text": [
      "\r 169/2000: average score 6.92"
     ]
    },
    {
     "name": "stdout",
     "output_type": "stream",
     "text": [
      "\r 170/2000: average score 7.06"
     ]
    },
    {
     "name": "stdout",
     "output_type": "stream",
     "text": [
      "\r 171/2000: average score 6.98"
     ]
    },
    {
     "name": "stdout",
     "output_type": "stream",
     "text": [
      "\r 172/2000: average score 6.99"
     ]
    },
    {
     "name": "stdout",
     "output_type": "stream",
     "text": [
      "\r 173/2000: average score 7.00"
     ]
    },
    {
     "name": "stdout",
     "output_type": "stream",
     "text": [
      "\r 174/2000: average score 7.01"
     ]
    },
    {
     "name": "stdout",
     "output_type": "stream",
     "text": [
      "\r 175/2000: average score 7.06"
     ]
    },
    {
     "name": "stdout",
     "output_type": "stream",
     "text": [
      "\r 176/2000: average score 7.14"
     ]
    },
    {
     "name": "stdout",
     "output_type": "stream",
     "text": [
      "\r 177/2000: average score 7.32"
     ]
    },
    {
     "name": "stdout",
     "output_type": "stream",
     "text": [
      "\r 178/2000: average score 7.36"
     ]
    },
    {
     "name": "stdout",
     "output_type": "stream",
     "text": [
      "\r 179/2000: average score 7.42"
     ]
    },
    {
     "name": "stdout",
     "output_type": "stream",
     "text": [
      "\r 180/2000: average score 7.56"
     ]
    },
    {
     "name": "stdout",
     "output_type": "stream",
     "text": [
      "\r 181/2000: average score 7.58"
     ]
    },
    {
     "name": "stdout",
     "output_type": "stream",
     "text": [
      "\r 182/2000: average score 7.71"
     ]
    },
    {
     "name": "stdout",
     "output_type": "stream",
     "text": [
      "\r 183/2000: average score 7.81"
     ]
    },
    {
     "name": "stdout",
     "output_type": "stream",
     "text": [
      "\r 184/2000: average score 7.84"
     ]
    },
    {
     "name": "stdout",
     "output_type": "stream",
     "text": [
      "\r 185/2000: average score 7.83"
     ]
    },
    {
     "name": "stdout",
     "output_type": "stream",
     "text": [
      "\r 186/2000: average score 7.83"
     ]
    },
    {
     "name": "stdout",
     "output_type": "stream",
     "text": [
      "\r 187/2000: average score 7.90"
     ]
    },
    {
     "name": "stdout",
     "output_type": "stream",
     "text": [
      "\r 188/2000: average score 7.93"
     ]
    },
    {
     "name": "stdout",
     "output_type": "stream",
     "text": [
      "\r 189/2000: average score 8.03"
     ]
    },
    {
     "name": "stdout",
     "output_type": "stream",
     "text": [
      "\r 190/2000: average score 8.21"
     ]
    },
    {
     "name": "stdout",
     "output_type": "stream",
     "text": [
      "\r 191/2000: average score 8.26"
     ]
    },
    {
     "name": "stdout",
     "output_type": "stream",
     "text": [
      "\r 192/2000: average score 8.26"
     ]
    },
    {
     "name": "stdout",
     "output_type": "stream",
     "text": [
      "\r 193/2000: average score 8.31"
     ]
    },
    {
     "name": "stdout",
     "output_type": "stream",
     "text": [
      "\r 194/2000: average score 8.30"
     ]
    },
    {
     "name": "stdout",
     "output_type": "stream",
     "text": [
      "\r 195/2000: average score 8.38"
     ]
    },
    {
     "name": "stdout",
     "output_type": "stream",
     "text": [
      "\r 196/2000: average score 8.42"
     ]
    },
    {
     "name": "stdout",
     "output_type": "stream",
     "text": [
      "\r 197/2000: average score 8.51"
     ]
    },
    {
     "name": "stdout",
     "output_type": "stream",
     "text": [
      "\r 198/2000: average score 8.46"
     ]
    },
    {
     "name": "stdout",
     "output_type": "stream",
     "text": [
      "\r 199/2000: average score 8.53"
     ]
    },
    {
     "name": "stdout",
     "output_type": "stream",
     "text": [
      "\r 200/2000: average score 8.58"
     ]
    },
    {
     "name": "stdout",
     "output_type": "stream",
     "text": [
      "\r 201/2000: average score 8.68"
     ]
    },
    {
     "name": "stdout",
     "output_type": "stream",
     "text": [
      "\r 202/2000: average score 8.73"
     ]
    },
    {
     "name": "stdout",
     "output_type": "stream",
     "text": [
      "\r 203/2000: average score 8.85"
     ]
    },
    {
     "name": "stdout",
     "output_type": "stream",
     "text": [
      "\r 204/2000: average score 8.91"
     ]
    },
    {
     "name": "stdout",
     "output_type": "stream",
     "text": [
      "\r 205/2000: average score 8.99"
     ]
    },
    {
     "name": "stdout",
     "output_type": "stream",
     "text": [
      "\r 206/2000: average score 8.93"
     ]
    },
    {
     "name": "stdout",
     "output_type": "stream",
     "text": [
      "\r 207/2000: average score 8.92"
     ]
    },
    {
     "name": "stdout",
     "output_type": "stream",
     "text": [
      "\r 208/2000: average score 8.98"
     ]
    },
    {
     "name": "stdout",
     "output_type": "stream",
     "text": [
      "\r 209/2000: average score 9.07"
     ]
    },
    {
     "name": "stdout",
     "output_type": "stream",
     "text": [
      "\r 210/2000: average score 9.17"
     ]
    },
    {
     "name": "stdout",
     "output_type": "stream",
     "text": [
      "\r 211/2000: average score 9.32"
     ]
    },
    {
     "name": "stdout",
     "output_type": "stream",
     "text": [
      "\r 212/2000: average score 9.44"
     ]
    },
    {
     "name": "stdout",
     "output_type": "stream",
     "text": [
      "\r 213/2000: average score 9.52"
     ]
    },
    {
     "name": "stdout",
     "output_type": "stream",
     "text": [
      "\r 214/2000: average score 9.49"
     ]
    },
    {
     "name": "stdout",
     "output_type": "stream",
     "text": [
      "\r 215/2000: average score 9.51"
     ]
    },
    {
     "name": "stdout",
     "output_type": "stream",
     "text": [
      "\r 216/2000: average score 9.50"
     ]
    },
    {
     "name": "stdout",
     "output_type": "stream",
     "text": [
      "\r 217/2000: average score 9.49"
     ]
    },
    {
     "name": "stdout",
     "output_type": "stream",
     "text": [
      "\r 218/2000: average score 9.53"
     ]
    },
    {
     "name": "stdout",
     "output_type": "stream",
     "text": [
      "\r 219/2000: average score 9.55"
     ]
    },
    {
     "name": "stdout",
     "output_type": "stream",
     "text": [
      "\r 220/2000: average score 9.64"
     ]
    },
    {
     "name": "stdout",
     "output_type": "stream",
     "text": [
      "\r 221/2000: average score 9.63"
     ]
    },
    {
     "name": "stdout",
     "output_type": "stream",
     "text": [
      "\r 222/2000: average score 9.70"
     ]
    },
    {
     "name": "stdout",
     "output_type": "stream",
     "text": [
      "\r 223/2000: average score 9.82"
     ]
    },
    {
     "name": "stdout",
     "output_type": "stream",
     "text": [
      "\r 224/2000: average score 9.89"
     ]
    },
    {
     "name": "stdout",
     "output_type": "stream",
     "text": [
      "\r 225/2000: average score 10.04"
     ]
    },
    {
     "name": "stdout",
     "output_type": "stream",
     "text": [
      "\r 226/2000: average score 9.97"
     ]
    },
    {
     "name": "stdout",
     "output_type": "stream",
     "text": [
      "\r 227/2000: average score 10.01"
     ]
    },
    {
     "name": "stdout",
     "output_type": "stream",
     "text": [
      "\r 228/2000: average score 9.98"
     ]
    },
    {
     "name": "stdout",
     "output_type": "stream",
     "text": [
      "\r 229/2000: average score 9.96"
     ]
    },
    {
     "name": "stdout",
     "output_type": "stream",
     "text": [
      "\r 230/2000: average score 9.94"
     ]
    },
    {
     "name": "stdout",
     "output_type": "stream",
     "text": [
      "\r 231/2000: average score 10.04"
     ]
    },
    {
     "name": "stdout",
     "output_type": "stream",
     "text": [
      "\r 232/2000: average score 10.07"
     ]
    },
    {
     "name": "stdout",
     "output_type": "stream",
     "text": [
      "\r 233/2000: average score 10.08"
     ]
    },
    {
     "name": "stdout",
     "output_type": "stream",
     "text": [
      "\r 234/2000: average score 10.08"
     ]
    },
    {
     "name": "stdout",
     "output_type": "stream",
     "text": [
      "\r 235/2000: average score 10.10"
     ]
    },
    {
     "name": "stdout",
     "output_type": "stream",
     "text": [
      "\r 236/2000: average score 10.16"
     ]
    },
    {
     "name": "stdout",
     "output_type": "stream",
     "text": [
      "\r 237/2000: average score 10.21"
     ]
    },
    {
     "name": "stdout",
     "output_type": "stream",
     "text": [
      "\r 238/2000: average score 10.25"
     ]
    },
    {
     "name": "stdout",
     "output_type": "stream",
     "text": [
      "\r 239/2000: average score 10.26"
     ]
    },
    {
     "name": "stdout",
     "output_type": "stream",
     "text": [
      "\r 240/2000: average score 10.26"
     ]
    },
    {
     "name": "stdout",
     "output_type": "stream",
     "text": [
      "\r 241/2000: average score 10.27"
     ]
    },
    {
     "name": "stdout",
     "output_type": "stream",
     "text": [
      "\r 242/2000: average score 10.34"
     ]
    },
    {
     "name": "stdout",
     "output_type": "stream",
     "text": [
      "\r 243/2000: average score 10.40"
     ]
    },
    {
     "name": "stdout",
     "output_type": "stream",
     "text": [
      "\r 244/2000: average score 10.45"
     ]
    },
    {
     "name": "stdout",
     "output_type": "stream",
     "text": [
      "\r 245/2000: average score 10.39"
     ]
    },
    {
     "name": "stdout",
     "output_type": "stream",
     "text": [
      "\r 246/2000: average score 10.37"
     ]
    },
    {
     "name": "stdout",
     "output_type": "stream",
     "text": [
      "\r 247/2000: average score 10.34"
     ]
    },
    {
     "name": "stdout",
     "output_type": "stream",
     "text": [
      "\r 248/2000: average score 10.38"
     ]
    },
    {
     "name": "stdout",
     "output_type": "stream",
     "text": [
      "\r 249/2000: average score 10.39"
     ]
    },
    {
     "name": "stdout",
     "output_type": "stream",
     "text": [
      "\r 250/2000: average score 10.35"
     ]
    },
    {
     "name": "stdout",
     "output_type": "stream",
     "text": [
      "\r 251/2000: average score 10.44"
     ]
    },
    {
     "name": "stdout",
     "output_type": "stream",
     "text": [
      "\r 252/2000: average score 10.46"
     ]
    },
    {
     "name": "stdout",
     "output_type": "stream",
     "text": [
      "\r 253/2000: average score 10.53"
     ]
    },
    {
     "name": "stdout",
     "output_type": "stream",
     "text": [
      "\r 254/2000: average score 10.55"
     ]
    },
    {
     "name": "stdout",
     "output_type": "stream",
     "text": [
      "\r 255/2000: average score 10.51"
     ]
    },
    {
     "name": "stdout",
     "output_type": "stream",
     "text": [
      "\r 256/2000: average score 10.50"
     ]
    },
    {
     "name": "stdout",
     "output_type": "stream",
     "text": [
      "\r 257/2000: average score 10.43"
     ]
    },
    {
     "name": "stdout",
     "output_type": "stream",
     "text": [
      "\r 258/2000: average score 10.48"
     ]
    },
    {
     "name": "stdout",
     "output_type": "stream",
     "text": [
      "\r 259/2000: average score 10.44"
     ]
    },
    {
     "name": "stdout",
     "output_type": "stream",
     "text": [
      "\r 260/2000: average score 10.48"
     ]
    },
    {
     "name": "stdout",
     "output_type": "stream",
     "text": [
      "\r 261/2000: average score 10.57"
     ]
    },
    {
     "name": "stdout",
     "output_type": "stream",
     "text": [
      "\r 262/2000: average score 10.56"
     ]
    },
    {
     "name": "stdout",
     "output_type": "stream",
     "text": [
      "\r 263/2000: average score 10.60"
     ]
    },
    {
     "name": "stdout",
     "output_type": "stream",
     "text": [
      "\r 264/2000: average score 10.59"
     ]
    },
    {
     "name": "stdout",
     "output_type": "stream",
     "text": [
      "\r 265/2000: average score 10.57"
     ]
    },
    {
     "name": "stdout",
     "output_type": "stream",
     "text": [
      "\r 266/2000: average score 10.51"
     ]
    },
    {
     "name": "stdout",
     "output_type": "stream",
     "text": [
      "\r 267/2000: average score 10.65"
     ]
    },
    {
     "name": "stdout",
     "output_type": "stream",
     "text": [
      "\r 268/2000: average score 10.74"
     ]
    },
    {
     "name": "stdout",
     "output_type": "stream",
     "text": [
      "\r 269/2000: average score 10.83"
     ]
    },
    {
     "name": "stdout",
     "output_type": "stream",
     "text": [
      "\r 270/2000: average score 10.79"
     ]
    },
    {
     "name": "stdout",
     "output_type": "stream",
     "text": [
      "\r 271/2000: average score 10.84"
     ]
    },
    {
     "name": "stdout",
     "output_type": "stream",
     "text": [
      "\r 272/2000: average score 10.81"
     ]
    },
    {
     "name": "stdout",
     "output_type": "stream",
     "text": [
      "\r 273/2000: average score 10.81"
     ]
    },
    {
     "name": "stdout",
     "output_type": "stream",
     "text": [
      "\r 274/2000: average score 10.80"
     ]
    },
    {
     "name": "stdout",
     "output_type": "stream",
     "text": [
      "\r 275/2000: average score 10.87"
     ]
    },
    {
     "name": "stdout",
     "output_type": "stream",
     "text": [
      "\r 276/2000: average score 10.93"
     ]
    },
    {
     "name": "stdout",
     "output_type": "stream",
     "text": [
      "\r 277/2000: average score 10.84"
     ]
    },
    {
     "name": "stdout",
     "output_type": "stream",
     "text": [
      "\r 278/2000: average score 10.86"
     ]
    },
    {
     "name": "stdout",
     "output_type": "stream",
     "text": [
      "\r 279/2000: average score 10.82"
     ]
    },
    {
     "name": "stdout",
     "output_type": "stream",
     "text": [
      "\r 280/2000: average score 10.72"
     ]
    },
    {
     "name": "stdout",
     "output_type": "stream",
     "text": [
      "\r 281/2000: average score 10.71"
     ]
    },
    {
     "name": "stdout",
     "output_type": "stream",
     "text": [
      "\r 282/2000: average score 10.73"
     ]
    },
    {
     "name": "stdout",
     "output_type": "stream",
     "text": [
      "\r 283/2000: average score 10.68"
     ]
    },
    {
     "name": "stdout",
     "output_type": "stream",
     "text": [
      "\r 284/2000: average score 10.74"
     ]
    },
    {
     "name": "stdout",
     "output_type": "stream",
     "text": [
      "\r 285/2000: average score 10.81"
     ]
    },
    {
     "name": "stdout",
     "output_type": "stream",
     "text": [
      "\r 286/2000: average score 10.90"
     ]
    },
    {
     "name": "stdout",
     "output_type": "stream",
     "text": [
      "\r 287/2000: average score 10.87"
     ]
    },
    {
     "name": "stdout",
     "output_type": "stream",
     "text": [
      "\r 288/2000: average score 10.86"
     ]
    },
    {
     "name": "stdout",
     "output_type": "stream",
     "text": [
      "\r 289/2000: average score 10.92"
     ]
    },
    {
     "name": "stdout",
     "output_type": "stream",
     "text": [
      "\r 290/2000: average score 10.81"
     ]
    },
    {
     "name": "stdout",
     "output_type": "stream",
     "text": [
      "\r 291/2000: average score 10.83"
     ]
    },
    {
     "name": "stdout",
     "output_type": "stream",
     "text": [
      "\r 292/2000: average score 10.88"
     ]
    },
    {
     "name": "stdout",
     "output_type": "stream",
     "text": [
      "\r 293/2000: average score 10.85"
     ]
    },
    {
     "name": "stdout",
     "output_type": "stream",
     "text": [
      "\r 294/2000: average score 10.90"
     ]
    },
    {
     "name": "stdout",
     "output_type": "stream",
     "text": [
      "\r 295/2000: average score 10.85"
     ]
    },
    {
     "name": "stdout",
     "output_type": "stream",
     "text": [
      "\r 296/2000: average score 10.85"
     ]
    },
    {
     "name": "stdout",
     "output_type": "stream",
     "text": [
      "\r 297/2000: average score 10.83"
     ]
    },
    {
     "name": "stdout",
     "output_type": "stream",
     "text": [
      "\r 298/2000: average score 10.92"
     ]
    },
    {
     "name": "stdout",
     "output_type": "stream",
     "text": [
      "\r 299/2000: average score 10.87"
     ]
    },
    {
     "name": "stdout",
     "output_type": "stream",
     "text": [
      "\r 300/2000: average score 10.93"
     ]
    },
    {
     "name": "stdout",
     "output_type": "stream",
     "text": [
      "\r 301/2000: average score 10.96"
     ]
    },
    {
     "name": "stdout",
     "output_type": "stream",
     "text": [
      "\r 302/2000: average score 10.99"
     ]
    },
    {
     "name": "stdout",
     "output_type": "stream",
     "text": [
      "\r 303/2000: average score 11.00"
     ]
    },
    {
     "name": "stdout",
     "output_type": "stream",
     "text": [
      "\r 304/2000: average score 10.97"
     ]
    },
    {
     "name": "stdout",
     "output_type": "stream",
     "text": [
      "\r 305/2000: average score 10.92"
     ]
    },
    {
     "name": "stdout",
     "output_type": "stream",
     "text": [
      "\r 306/2000: average score 10.95"
     ]
    },
    {
     "name": "stdout",
     "output_type": "stream",
     "text": [
      "\r 307/2000: average score 10.96"
     ]
    },
    {
     "name": "stdout",
     "output_type": "stream",
     "text": [
      "\r 308/2000: average score 11.02"
     ]
    },
    {
     "name": "stdout",
     "output_type": "stream",
     "text": [
      "\r 309/2000: average score 11.10"
     ]
    },
    {
     "name": "stdout",
     "output_type": "stream",
     "text": [
      "\r 310/2000: average score 11.15"
     ]
    },
    {
     "name": "stdout",
     "output_type": "stream",
     "text": [
      "\r 311/2000: average score 11.11"
     ]
    },
    {
     "name": "stdout",
     "output_type": "stream",
     "text": [
      "\r 312/2000: average score 11.10"
     ]
    },
    {
     "name": "stdout",
     "output_type": "stream",
     "text": [
      "\r 313/2000: average score 11.01"
     ]
    },
    {
     "name": "stdout",
     "output_type": "stream",
     "text": [
      "\r 314/2000: average score 11.09"
     ]
    },
    {
     "name": "stdout",
     "output_type": "stream",
     "text": [
      "\r 315/2000: average score 11.09"
     ]
    },
    {
     "name": "stdout",
     "output_type": "stream",
     "text": [
      "\r 316/2000: average score 11.03"
     ]
    },
    {
     "name": "stdout",
     "output_type": "stream",
     "text": [
      "\r 317/2000: average score 11.18"
     ]
    },
    {
     "name": "stdout",
     "output_type": "stream",
     "text": [
      "\r 318/2000: average score 11.13"
     ]
    },
    {
     "name": "stdout",
     "output_type": "stream",
     "text": [
      "\r 319/2000: average score 11.22"
     ]
    },
    {
     "name": "stdout",
     "output_type": "stream",
     "text": [
      "\r 320/2000: average score 11.27"
     ]
    },
    {
     "name": "stdout",
     "output_type": "stream",
     "text": [
      "\r 321/2000: average score 11.33"
     ]
    },
    {
     "name": "stdout",
     "output_type": "stream",
     "text": [
      "\r 322/2000: average score 11.32"
     ]
    },
    {
     "name": "stdout",
     "output_type": "stream",
     "text": [
      "\r 323/2000: average score 11.31"
     ]
    },
    {
     "name": "stdout",
     "output_type": "stream",
     "text": [
      "\r 324/2000: average score 11.26"
     ]
    },
    {
     "name": "stdout",
     "output_type": "stream",
     "text": [
      "\r 325/2000: average score 11.23"
     ]
    },
    {
     "name": "stdout",
     "output_type": "stream",
     "text": [
      "\r 326/2000: average score 11.35"
     ]
    },
    {
     "name": "stdout",
     "output_type": "stream",
     "text": [
      "\r 327/2000: average score 11.29"
     ]
    },
    {
     "name": "stdout",
     "output_type": "stream",
     "text": [
      "\r 328/2000: average score 11.33"
     ]
    },
    {
     "name": "stdout",
     "output_type": "stream",
     "text": [
      "\r 329/2000: average score 11.34"
     ]
    },
    {
     "name": "stdout",
     "output_type": "stream",
     "text": [
      "\r 330/2000: average score 11.39"
     ]
    },
    {
     "name": "stdout",
     "output_type": "stream",
     "text": [
      "\r 331/2000: average score 11.23"
     ]
    },
    {
     "name": "stdout",
     "output_type": "stream",
     "text": [
      "\r 332/2000: average score 11.25"
     ]
    },
    {
     "name": "stdout",
     "output_type": "stream",
     "text": [
      "\r 333/2000: average score 11.21"
     ]
    },
    {
     "name": "stdout",
     "output_type": "stream",
     "text": [
      "\r 334/2000: average score 11.23"
     ]
    },
    {
     "name": "stdout",
     "output_type": "stream",
     "text": [
      "\r 335/2000: average score 11.15"
     ]
    },
    {
     "name": "stdout",
     "output_type": "stream",
     "text": [
      "\r 336/2000: average score 11.11"
     ]
    },
    {
     "name": "stdout",
     "output_type": "stream",
     "text": [
      "\r 337/2000: average score 11.13"
     ]
    },
    {
     "name": "stdout",
     "output_type": "stream",
     "text": [
      "\r 338/2000: average score 11.19"
     ]
    },
    {
     "name": "stdout",
     "output_type": "stream",
     "text": [
      "\r 339/2000: average score 11.25"
     ]
    },
    {
     "name": "stdout",
     "output_type": "stream",
     "text": [
      "\r 340/2000: average score 11.31"
     ]
    },
    {
     "name": "stdout",
     "output_type": "stream",
     "text": [
      "\r 341/2000: average score 11.35"
     ]
    },
    {
     "name": "stdout",
     "output_type": "stream",
     "text": [
      "\r 342/2000: average score 11.34"
     ]
    },
    {
     "name": "stdout",
     "output_type": "stream",
     "text": [
      "\r 343/2000: average score 11.34"
     ]
    },
    {
     "name": "stdout",
     "output_type": "stream",
     "text": [
      "\r 344/2000: average score 11.35"
     ]
    },
    {
     "name": "stdout",
     "output_type": "stream",
     "text": [
      "\r 345/2000: average score 11.34"
     ]
    },
    {
     "name": "stdout",
     "output_type": "stream",
     "text": [
      "\r 346/2000: average score 11.34"
     ]
    },
    {
     "name": "stdout",
     "output_type": "stream",
     "text": [
      "\r 347/2000: average score 11.35"
     ]
    },
    {
     "name": "stdout",
     "output_type": "stream",
     "text": [
      "\r 348/2000: average score 11.38"
     ]
    },
    {
     "name": "stdout",
     "output_type": "stream",
     "text": [
      "\r 349/2000: average score 11.44"
     ]
    },
    {
     "name": "stdout",
     "output_type": "stream",
     "text": [
      "\r 350/2000: average score 11.45"
     ]
    },
    {
     "name": "stdout",
     "output_type": "stream",
     "text": [
      "\r 351/2000: average score 11.40"
     ]
    },
    {
     "name": "stdout",
     "output_type": "stream",
     "text": [
      "\r 352/2000: average score 11.45"
     ]
    },
    {
     "name": "stdout",
     "output_type": "stream",
     "text": [
      "\r 353/2000: average score 11.44"
     ]
    },
    {
     "name": "stdout",
     "output_type": "stream",
     "text": [
      "\r 354/2000: average score 11.46"
     ]
    },
    {
     "name": "stdout",
     "output_type": "stream",
     "text": [
      "\r 355/2000: average score 11.43"
     ]
    },
    {
     "name": "stdout",
     "output_type": "stream",
     "text": [
      "\r 356/2000: average score 11.37"
     ]
    },
    {
     "name": "stdout",
     "output_type": "stream",
     "text": [
      "\r 357/2000: average score 11.53"
     ]
    },
    {
     "name": "stdout",
     "output_type": "stream",
     "text": [
      "\r 358/2000: average score 11.59"
     ]
    },
    {
     "name": "stdout",
     "output_type": "stream",
     "text": [
      "\r 359/2000: average score 11.62"
     ]
    },
    {
     "name": "stdout",
     "output_type": "stream",
     "text": [
      "\r 360/2000: average score 11.66"
     ]
    },
    {
     "name": "stdout",
     "output_type": "stream",
     "text": [
      "\r 361/2000: average score 11.62"
     ]
    },
    {
     "name": "stdout",
     "output_type": "stream",
     "text": [
      "\r 362/2000: average score 11.56"
     ]
    },
    {
     "name": "stdout",
     "output_type": "stream",
     "text": [
      "\r 363/2000: average score 11.53"
     ]
    },
    {
     "name": "stdout",
     "output_type": "stream",
     "text": [
      "\r 364/2000: average score 11.55"
     ]
    },
    {
     "name": "stdout",
     "output_type": "stream",
     "text": [
      "\r 365/2000: average score 11.58"
     ]
    },
    {
     "name": "stdout",
     "output_type": "stream",
     "text": [
      "\r 366/2000: average score 11.55"
     ]
    },
    {
     "name": "stdout",
     "output_type": "stream",
     "text": [
      "\r 367/2000: average score 11.41"
     ]
    },
    {
     "name": "stdout",
     "output_type": "stream",
     "text": [
      "\r 368/2000: average score 11.41"
     ]
    },
    {
     "name": "stdout",
     "output_type": "stream",
     "text": [
      "\r 369/2000: average score 11.39"
     ]
    },
    {
     "name": "stdout",
     "output_type": "stream",
     "text": [
      "\r 370/2000: average score 11.33"
     ]
    },
    {
     "name": "stdout",
     "output_type": "stream",
     "text": [
      "\r 371/2000: average score 11.27"
     ]
    },
    {
     "name": "stdout",
     "output_type": "stream",
     "text": [
      "\r 372/2000: average score 11.29"
     ]
    },
    {
     "name": "stdout",
     "output_type": "stream",
     "text": [
      "\r 373/2000: average score 11.37"
     ]
    },
    {
     "name": "stdout",
     "output_type": "stream",
     "text": [
      "\r 374/2000: average score 11.42"
     ]
    },
    {
     "name": "stdout",
     "output_type": "stream",
     "text": [
      "\r 375/2000: average score 11.35"
     ]
    },
    {
     "name": "stdout",
     "output_type": "stream",
     "text": [
      "\r 376/2000: average score 11.30"
     ]
    },
    {
     "name": "stdout",
     "output_type": "stream",
     "text": [
      "\r 377/2000: average score 11.35"
     ]
    },
    {
     "name": "stdout",
     "output_type": "stream",
     "text": [
      "\r 378/2000: average score 11.26"
     ]
    },
    {
     "name": "stdout",
     "output_type": "stream",
     "text": [
      "\r 379/2000: average score 11.26"
     ]
    },
    {
     "name": "stdout",
     "output_type": "stream",
     "text": [
      "\r 380/2000: average score 11.28"
     ]
    },
    {
     "name": "stdout",
     "output_type": "stream",
     "text": [
      "\r 381/2000: average score 11.22"
     ]
    },
    {
     "name": "stdout",
     "output_type": "stream",
     "text": [
      "\r 382/2000: average score 11.13"
     ]
    },
    {
     "name": "stdout",
     "output_type": "stream",
     "text": [
      "\r 383/2000: average score 11.13"
     ]
    },
    {
     "name": "stdout",
     "output_type": "stream",
     "text": [
      "\r 384/2000: average score 11.11"
     ]
    },
    {
     "name": "stdout",
     "output_type": "stream",
     "text": [
      "\r 385/2000: average score 11.05"
     ]
    },
    {
     "name": "stdout",
     "output_type": "stream",
     "text": [
      "\r 386/2000: average score 11.00"
     ]
    },
    {
     "name": "stdout",
     "output_type": "stream",
     "text": [
      "\r 387/2000: average score 11.07"
     ]
    },
    {
     "name": "stdout",
     "output_type": "stream",
     "text": [
      "\r 388/2000: average score 11.15"
     ]
    },
    {
     "name": "stdout",
     "output_type": "stream",
     "text": [
      "\r 389/2000: average score 11.09"
     ]
    },
    {
     "name": "stdout",
     "output_type": "stream",
     "text": [
      "\r 390/2000: average score 11.21"
     ]
    },
    {
     "name": "stdout",
     "output_type": "stream",
     "text": [
      "\r 391/2000: average score 11.16"
     ]
    },
    {
     "name": "stdout",
     "output_type": "stream",
     "text": [
      "\r 392/2000: average score 11.08"
     ]
    },
    {
     "name": "stdout",
     "output_type": "stream",
     "text": [
      "\r 393/2000: average score 11.16"
     ]
    },
    {
     "name": "stdout",
     "output_type": "stream",
     "text": [
      "\r 394/2000: average score 11.14"
     ]
    },
    {
     "name": "stdout",
     "output_type": "stream",
     "text": [
      "\r 395/2000: average score 11.21"
     ]
    },
    {
     "name": "stdout",
     "output_type": "stream",
     "text": [
      "\r 396/2000: average score 11.20"
     ]
    },
    {
     "name": "stdout",
     "output_type": "stream",
     "text": [
      "\r 397/2000: average score 11.23"
     ]
    },
    {
     "name": "stdout",
     "output_type": "stream",
     "text": [
      "\r 398/2000: average score 11.23"
     ]
    },
    {
     "name": "stdout",
     "output_type": "stream",
     "text": [
      "\r 399/2000: average score 11.36"
     ]
    },
    {
     "name": "stdout",
     "output_type": "stream",
     "text": [
      "\r 400/2000: average score 11.36"
     ]
    },
    {
     "name": "stdout",
     "output_type": "stream",
     "text": [
      "\r 401/2000: average score 11.31"
     ]
    },
    {
     "name": "stdout",
     "output_type": "stream",
     "text": [
      "\r 402/2000: average score 11.26"
     ]
    },
    {
     "name": "stdout",
     "output_type": "stream",
     "text": [
      "\r 403/2000: average score 11.30"
     ]
    },
    {
     "name": "stdout",
     "output_type": "stream",
     "text": [
      "\r 404/2000: average score 11.32"
     ]
    },
    {
     "name": "stdout",
     "output_type": "stream",
     "text": [
      "\r 405/2000: average score 11.34"
     ]
    },
    {
     "name": "stdout",
     "output_type": "stream",
     "text": [
      "\r 406/2000: average score 11.41"
     ]
    },
    {
     "name": "stdout",
     "output_type": "stream",
     "text": [
      "\r 407/2000: average score 11.41"
     ]
    },
    {
     "name": "stdout",
     "output_type": "stream",
     "text": [
      "\r 408/2000: average score 11.37"
     ]
    },
    {
     "name": "stdout",
     "output_type": "stream",
     "text": [
      "\r 409/2000: average score 11.37"
     ]
    },
    {
     "name": "stdout",
     "output_type": "stream",
     "text": [
      "\r 410/2000: average score 11.32"
     ]
    },
    {
     "name": "stdout",
     "output_type": "stream",
     "text": [
      "\r 411/2000: average score 11.32"
     ]
    },
    {
     "name": "stdout",
     "output_type": "stream",
     "text": [
      "\r 412/2000: average score 11.34"
     ]
    },
    {
     "name": "stdout",
     "output_type": "stream",
     "text": [
      "\r 413/2000: average score 11.40"
     ]
    },
    {
     "name": "stdout",
     "output_type": "stream",
     "text": [
      "\r 414/2000: average score 11.37"
     ]
    },
    {
     "name": "stdout",
     "output_type": "stream",
     "text": [
      "\r 415/2000: average score 11.30"
     ]
    },
    {
     "name": "stdout",
     "output_type": "stream",
     "text": [
      "\r 416/2000: average score 11.42"
     ]
    },
    {
     "name": "stdout",
     "output_type": "stream",
     "text": [
      "\r 417/2000: average score 11.32"
     ]
    },
    {
     "name": "stdout",
     "output_type": "stream",
     "text": [
      "\r 418/2000: average score 11.34"
     ]
    },
    {
     "name": "stdout",
     "output_type": "stream",
     "text": [
      "\r 419/2000: average score 11.30"
     ]
    },
    {
     "name": "stdout",
     "output_type": "stream",
     "text": [
      "\r 420/2000: average score 11.24"
     ]
    },
    {
     "name": "stdout",
     "output_type": "stream",
     "text": [
      "\r 421/2000: average score 11.28"
     ]
    },
    {
     "name": "stdout",
     "output_type": "stream",
     "text": [
      "\r 422/2000: average score 11.25"
     ]
    },
    {
     "name": "stdout",
     "output_type": "stream",
     "text": [
      "\r 423/2000: average score 11.29"
     ]
    },
    {
     "name": "stdout",
     "output_type": "stream",
     "text": [
      "\r 424/2000: average score 11.25"
     ]
    },
    {
     "name": "stdout",
     "output_type": "stream",
     "text": [
      "\r 425/2000: average score 11.18"
     ]
    },
    {
     "name": "stdout",
     "output_type": "stream",
     "text": [
      "\r 426/2000: average score 11.13"
     ]
    },
    {
     "name": "stdout",
     "output_type": "stream",
     "text": [
      "\r 427/2000: average score 11.17"
     ]
    },
    {
     "name": "stdout",
     "output_type": "stream",
     "text": [
      "\r 428/2000: average score 11.15"
     ]
    },
    {
     "name": "stdout",
     "output_type": "stream",
     "text": [
      "\r 429/2000: average score 11.20"
     ]
    },
    {
     "name": "stdout",
     "output_type": "stream",
     "text": [
      "\r 430/2000: average score 11.19"
     ]
    },
    {
     "name": "stdout",
     "output_type": "stream",
     "text": [
      "\r 431/2000: average score 11.20"
     ]
    },
    {
     "name": "stdout",
     "output_type": "stream",
     "text": [
      "\r 432/2000: average score 11.21"
     ]
    },
    {
     "name": "stdout",
     "output_type": "stream",
     "text": [
      "\r 433/2000: average score 11.24"
     ]
    },
    {
     "name": "stdout",
     "output_type": "stream",
     "text": [
      "\r 434/2000: average score 11.32"
     ]
    },
    {
     "name": "stdout",
     "output_type": "stream",
     "text": [
      "\r 435/2000: average score 11.29"
     ]
    },
    {
     "name": "stdout",
     "output_type": "stream",
     "text": [
      "\r 436/2000: average score 11.22"
     ]
    },
    {
     "name": "stdout",
     "output_type": "stream",
     "text": [
      "\r 437/2000: average score 11.30"
     ]
    },
    {
     "name": "stdout",
     "output_type": "stream",
     "text": [
      "\r 438/2000: average score 11.22"
     ]
    },
    {
     "name": "stdout",
     "output_type": "stream",
     "text": [
      "\r 439/2000: average score 11.24"
     ]
    },
    {
     "name": "stdout",
     "output_type": "stream",
     "text": [
      "\r 440/2000: average score 11.16"
     ]
    },
    {
     "name": "stdout",
     "output_type": "stream",
     "text": [
      "\r 441/2000: average score 11.16"
     ]
    },
    {
     "name": "stdout",
     "output_type": "stream",
     "text": [
      "\r 442/2000: average score 11.11"
     ]
    },
    {
     "name": "stdout",
     "output_type": "stream",
     "text": [
      "\r 443/2000: average score 11.12"
     ]
    },
    {
     "name": "stdout",
     "output_type": "stream",
     "text": [
      "\r 444/2000: average score 11.11"
     ]
    },
    {
     "name": "stdout",
     "output_type": "stream",
     "text": [
      "\r 445/2000: average score 11.12"
     ]
    },
    {
     "name": "stdout",
     "output_type": "stream",
     "text": [
      "\r 446/2000: average score 11.17"
     ]
    },
    {
     "name": "stdout",
     "output_type": "stream",
     "text": [
      "\r 447/2000: average score 11.17"
     ]
    },
    {
     "name": "stdout",
     "output_type": "stream",
     "text": [
      "\r 448/2000: average score 11.13"
     ]
    },
    {
     "name": "stdout",
     "output_type": "stream",
     "text": [
      "\r 449/2000: average score 11.12"
     ]
    },
    {
     "name": "stdout",
     "output_type": "stream",
     "text": [
      "\r 450/2000: average score 11.19"
     ]
    },
    {
     "name": "stdout",
     "output_type": "stream",
     "text": [
      "\r 451/2000: average score 11.19"
     ]
    },
    {
     "name": "stdout",
     "output_type": "stream",
     "text": [
      "\r 452/2000: average score 11.23"
     ]
    },
    {
     "name": "stdout",
     "output_type": "stream",
     "text": [
      "\r 453/2000: average score 11.24"
     ]
    },
    {
     "name": "stdout",
     "output_type": "stream",
     "text": [
      "\r 454/2000: average score 11.30"
     ]
    },
    {
     "name": "stdout",
     "output_type": "stream",
     "text": [
      "\r 455/2000: average score 11.30"
     ]
    },
    {
     "name": "stdout",
     "output_type": "stream",
     "text": [
      "\r 456/2000: average score 11.35"
     ]
    },
    {
     "name": "stdout",
     "output_type": "stream",
     "text": [
      "\r 457/2000: average score 11.29"
     ]
    },
    {
     "name": "stdout",
     "output_type": "stream",
     "text": [
      "\r 458/2000: average score 11.24"
     ]
    },
    {
     "name": "stdout",
     "output_type": "stream",
     "text": [
      "\r 459/2000: average score 11.15"
     ]
    },
    {
     "name": "stdout",
     "output_type": "stream",
     "text": [
      "\r 460/2000: average score 11.13"
     ]
    },
    {
     "name": "stdout",
     "output_type": "stream",
     "text": [
      "\r 461/2000: average score 11.15"
     ]
    },
    {
     "name": "stdout",
     "output_type": "stream",
     "text": [
      "\r 462/2000: average score 11.20"
     ]
    },
    {
     "name": "stdout",
     "output_type": "stream",
     "text": [
      "\r 463/2000: average score 11.28"
     ]
    },
    {
     "name": "stdout",
     "output_type": "stream",
     "text": [
      "\r 464/2000: average score 11.25"
     ]
    },
    {
     "name": "stdout",
     "output_type": "stream",
     "text": [
      "\r 465/2000: average score 11.28"
     ]
    },
    {
     "name": "stdout",
     "output_type": "stream",
     "text": [
      "\r 466/2000: average score 11.31"
     ]
    },
    {
     "name": "stdout",
     "output_type": "stream",
     "text": [
      "\r 467/2000: average score 11.32"
     ]
    },
    {
     "name": "stdout",
     "output_type": "stream",
     "text": [
      "\r 468/2000: average score 11.25"
     ]
    },
    {
     "name": "stdout",
     "output_type": "stream",
     "text": [
      "\r 469/2000: average score 11.20"
     ]
    },
    {
     "name": "stdout",
     "output_type": "stream",
     "text": [
      "\r 470/2000: average score 11.30"
     ]
    },
    {
     "name": "stdout",
     "output_type": "stream",
     "text": [
      "\r 471/2000: average score 11.26"
     ]
    },
    {
     "name": "stdout",
     "output_type": "stream",
     "text": [
      "\r 472/2000: average score 11.26"
     ]
    },
    {
     "name": "stdout",
     "output_type": "stream",
     "text": [
      "\r 473/2000: average score 11.25"
     ]
    },
    {
     "name": "stdout",
     "output_type": "stream",
     "text": [
      "\r 474/2000: average score 11.21"
     ]
    },
    {
     "name": "stdout",
     "output_type": "stream",
     "text": [
      "\r 475/2000: average score 11.21"
     ]
    },
    {
     "name": "stdout",
     "output_type": "stream",
     "text": [
      "\r 476/2000: average score 11.18"
     ]
    },
    {
     "name": "stdout",
     "output_type": "stream",
     "text": [
      "\r 477/2000: average score 11.08"
     ]
    },
    {
     "name": "stdout",
     "output_type": "stream",
     "text": [
      "\r 478/2000: average score 11.13"
     ]
    },
    {
     "name": "stdout",
     "output_type": "stream",
     "text": [
      "\r 479/2000: average score 11.15"
     ]
    },
    {
     "name": "stdout",
     "output_type": "stream",
     "text": [
      "\r 480/2000: average score 11.20"
     ]
    },
    {
     "name": "stdout",
     "output_type": "stream",
     "text": [
      "\r 481/2000: average score 11.30"
     ]
    },
    {
     "name": "stdout",
     "output_type": "stream",
     "text": [
      "\r 482/2000: average score 11.31"
     ]
    },
    {
     "name": "stdout",
     "output_type": "stream",
     "text": [
      "\r 483/2000: average score 11.28"
     ]
    },
    {
     "name": "stdout",
     "output_type": "stream",
     "text": [
      "\r 484/2000: average score 11.25"
     ]
    },
    {
     "name": "stdout",
     "output_type": "stream",
     "text": [
      "\r 485/2000: average score 11.22"
     ]
    },
    {
     "name": "stdout",
     "output_type": "stream",
     "text": [
      "\r 486/2000: average score 11.14"
     ]
    },
    {
     "name": "stdout",
     "output_type": "stream",
     "text": [
      "\r 487/2000: average score 11.06"
     ]
    },
    {
     "name": "stdout",
     "output_type": "stream",
     "text": [
      "\r 488/2000: average score 10.99"
     ]
    },
    {
     "name": "stdout",
     "output_type": "stream",
     "text": [
      "\r 489/2000: average score 11.02"
     ]
    },
    {
     "name": "stdout",
     "output_type": "stream",
     "text": [
      "\r 490/2000: average score 10.94"
     ]
    },
    {
     "name": "stdout",
     "output_type": "stream",
     "text": [
      "\r 491/2000: average score 10.91"
     ]
    },
    {
     "name": "stdout",
     "output_type": "stream",
     "text": [
      "\r 492/2000: average score 10.93"
     ]
    },
    {
     "name": "stdout",
     "output_type": "stream",
     "text": [
      "\r 493/2000: average score 10.94"
     ]
    },
    {
     "name": "stdout",
     "output_type": "stream",
     "text": [
      "\r 494/2000: average score 11.06"
     ]
    },
    {
     "name": "stdout",
     "output_type": "stream",
     "text": [
      "\r 495/2000: average score 10.95"
     ]
    },
    {
     "name": "stdout",
     "output_type": "stream",
     "text": [
      "\r 496/2000: average score 10.97"
     ]
    },
    {
     "name": "stdout",
     "output_type": "stream",
     "text": [
      "\r 497/2000: average score 10.98"
     ]
    },
    {
     "name": "stdout",
     "output_type": "stream",
     "text": [
      "\r 498/2000: average score 10.94"
     ]
    },
    {
     "name": "stdout",
     "output_type": "stream",
     "text": [
      "\r 499/2000: average score 10.85"
     ]
    },
    {
     "name": "stdout",
     "output_type": "stream",
     "text": [
      "\r 500/2000: average score 10.83"
     ]
    },
    {
     "name": "stdout",
     "output_type": "stream",
     "text": [
      "\r 501/2000: average score 10.87"
     ]
    },
    {
     "name": "stdout",
     "output_type": "stream",
     "text": [
      "\r 502/2000: average score 10.94"
     ]
    },
    {
     "name": "stdout",
     "output_type": "stream",
     "text": [
      "\r 503/2000: average score 10.90"
     ]
    },
    {
     "name": "stdout",
     "output_type": "stream",
     "text": [
      "\r 504/2000: average score 10.92"
     ]
    },
    {
     "name": "stdout",
     "output_type": "stream",
     "text": [
      "\r 505/2000: average score 10.90"
     ]
    },
    {
     "name": "stdout",
     "output_type": "stream",
     "text": [
      "\r 506/2000: average score 10.83"
     ]
    },
    {
     "name": "stdout",
     "output_type": "stream",
     "text": [
      "\r 507/2000: average score 10.86"
     ]
    },
    {
     "name": "stdout",
     "output_type": "stream",
     "text": [
      "\r 508/2000: average score 10.90"
     ]
    },
    {
     "name": "stdout",
     "output_type": "stream",
     "text": [
      "\r 509/2000: average score 10.85"
     ]
    },
    {
     "name": "stdout",
     "output_type": "stream",
     "text": [
      "\r 510/2000: average score 10.84"
     ]
    },
    {
     "name": "stdout",
     "output_type": "stream",
     "text": [
      "\r 511/2000: average score 10.91"
     ]
    },
    {
     "name": "stdout",
     "output_type": "stream",
     "text": [
      "\r 512/2000: average score 10.84"
     ]
    },
    {
     "name": "stdout",
     "output_type": "stream",
     "text": [
      "\r 513/2000: average score 10.79"
     ]
    },
    {
     "name": "stdout",
     "output_type": "stream",
     "text": [
      "\r 514/2000: average score 10.71"
     ]
    },
    {
     "name": "stdout",
     "output_type": "stream",
     "text": [
      "\r 515/2000: average score 10.81"
     ]
    },
    {
     "name": "stdout",
     "output_type": "stream",
     "text": [
      "\r 516/2000: average score 10.76"
     ]
    },
    {
     "name": "stdout",
     "output_type": "stream",
     "text": [
      "\r 517/2000: average score 10.71"
     ]
    },
    {
     "name": "stdout",
     "output_type": "stream",
     "text": [
      "\r 518/2000: average score 10.64"
     ]
    },
    {
     "name": "stdout",
     "output_type": "stream",
     "text": [
      "\r 519/2000: average score 10.62"
     ]
    },
    {
     "name": "stdout",
     "output_type": "stream",
     "text": [
      "\r 520/2000: average score 10.66"
     ]
    },
    {
     "name": "stdout",
     "output_type": "stream",
     "text": [
      "\r 521/2000: average score 10.58"
     ]
    },
    {
     "name": "stdout",
     "output_type": "stream",
     "text": [
      "\r 522/2000: average score 10.59"
     ]
    },
    {
     "name": "stdout",
     "output_type": "stream",
     "text": [
      "\r 523/2000: average score 10.53"
     ]
    },
    {
     "name": "stdout",
     "output_type": "stream",
     "text": [
      "\r 524/2000: average score 10.59"
     ]
    },
    {
     "name": "stdout",
     "output_type": "stream",
     "text": [
      "\r 525/2000: average score 10.56"
     ]
    },
    {
     "name": "stdout",
     "output_type": "stream",
     "text": [
      "\r 526/2000: average score 10.58"
     ]
    },
    {
     "name": "stdout",
     "output_type": "stream",
     "text": [
      "\r 527/2000: average score 10.51"
     ]
    },
    {
     "name": "stdout",
     "output_type": "stream",
     "text": [
      "\r 528/2000: average score 10.51"
     ]
    },
    {
     "name": "stdout",
     "output_type": "stream",
     "text": [
      "\r 529/2000: average score 10.52"
     ]
    },
    {
     "name": "stdout",
     "output_type": "stream",
     "text": [
      "\r 530/2000: average score 10.51"
     ]
    },
    {
     "name": "stdout",
     "output_type": "stream",
     "text": [
      "\r 531/2000: average score 10.58"
     ]
    },
    {
     "name": "stdout",
     "output_type": "stream",
     "text": [
      "\r 532/2000: average score 10.62"
     ]
    },
    {
     "name": "stdout",
     "output_type": "stream",
     "text": [
      "\r 533/2000: average score 10.67"
     ]
    },
    {
     "name": "stdout",
     "output_type": "stream",
     "text": [
      "\r 534/2000: average score 10.65"
     ]
    },
    {
     "name": "stdout",
     "output_type": "stream",
     "text": [
      "\r 535/2000: average score 10.72"
     ]
    },
    {
     "name": "stdout",
     "output_type": "stream",
     "text": [
      "\r 536/2000: average score 10.83"
     ]
    },
    {
     "name": "stdout",
     "output_type": "stream",
     "text": [
      "\r 537/2000: average score 10.80"
     ]
    },
    {
     "name": "stdout",
     "output_type": "stream",
     "text": [
      "\r 538/2000: average score 10.82"
     ]
    },
    {
     "name": "stdout",
     "output_type": "stream",
     "text": [
      "\r 539/2000: average score 10.72"
     ]
    },
    {
     "name": "stdout",
     "output_type": "stream",
     "text": [
      "\r 540/2000: average score 10.78"
     ]
    },
    {
     "name": "stdout",
     "output_type": "stream",
     "text": [
      "\r 541/2000: average score 10.76"
     ]
    },
    {
     "name": "stdout",
     "output_type": "stream",
     "text": [
      "\r 542/2000: average score 10.82"
     ]
    },
    {
     "name": "stdout",
     "output_type": "stream",
     "text": [
      "\r 543/2000: average score 10.80"
     ]
    },
    {
     "name": "stdout",
     "output_type": "stream",
     "text": [
      "\r 544/2000: average score 10.84"
     ]
    },
    {
     "name": "stdout",
     "output_type": "stream",
     "text": [
      "\r 545/2000: average score 10.87"
     ]
    },
    {
     "name": "stdout",
     "output_type": "stream",
     "text": [
      "\r 546/2000: average score 10.87"
     ]
    },
    {
     "name": "stdout",
     "output_type": "stream",
     "text": [
      "\r 547/2000: average score 10.88"
     ]
    },
    {
     "name": "stdout",
     "output_type": "stream",
     "text": [
      "\r 548/2000: average score 10.87"
     ]
    },
    {
     "name": "stdout",
     "output_type": "stream",
     "text": [
      "\r 549/2000: average score 10.87"
     ]
    },
    {
     "name": "stdout",
     "output_type": "stream",
     "text": [
      "\r 550/2000: average score 10.80"
     ]
    },
    {
     "name": "stdout",
     "output_type": "stream",
     "text": [
      "\r 551/2000: average score 10.83"
     ]
    },
    {
     "name": "stdout",
     "output_type": "stream",
     "text": [
      "\r 552/2000: average score 10.78"
     ]
    },
    {
     "name": "stdout",
     "output_type": "stream",
     "text": [
      "\r 553/2000: average score 10.76"
     ]
    },
    {
     "name": "stdout",
     "output_type": "stream",
     "text": [
      "\r 554/2000: average score 10.78"
     ]
    },
    {
     "name": "stdout",
     "output_type": "stream",
     "text": [
      "\r 555/2000: average score 10.85"
     ]
    },
    {
     "name": "stdout",
     "output_type": "stream",
     "text": [
      "\r 556/2000: average score 10.85"
     ]
    },
    {
     "name": "stdout",
     "output_type": "stream",
     "text": [
      "\r 557/2000: average score 10.92"
     ]
    },
    {
     "name": "stdout",
     "output_type": "stream",
     "text": [
      "\r 558/2000: average score 10.88"
     ]
    },
    {
     "name": "stdout",
     "output_type": "stream",
     "text": [
      "\r 559/2000: average score 11.05"
     ]
    },
    {
     "name": "stdout",
     "output_type": "stream",
     "text": [
      "\r 560/2000: average score 11.06"
     ]
    },
    {
     "name": "stdout",
     "output_type": "stream",
     "text": [
      "\r 561/2000: average score 10.96"
     ]
    },
    {
     "name": "stdout",
     "output_type": "stream",
     "text": [
      "\r 562/2000: average score 10.92"
     ]
    },
    {
     "name": "stdout",
     "output_type": "stream",
     "text": [
      "\r 563/2000: average score 10.88"
     ]
    },
    {
     "name": "stdout",
     "output_type": "stream",
     "text": [
      "\r 564/2000: average score 10.86"
     ]
    },
    {
     "name": "stdout",
     "output_type": "stream",
     "text": [
      "\r 565/2000: average score 10.82"
     ]
    },
    {
     "name": "stdout",
     "output_type": "stream",
     "text": [
      "\r 566/2000: average score 10.85"
     ]
    },
    {
     "name": "stdout",
     "output_type": "stream",
     "text": [
      "\r 567/2000: average score 10.87"
     ]
    },
    {
     "name": "stdout",
     "output_type": "stream",
     "text": [
      "\r 568/2000: average score 10.93"
     ]
    },
    {
     "name": "stdout",
     "output_type": "stream",
     "text": [
      "\r 569/2000: average score 11.02"
     ]
    },
    {
     "name": "stdout",
     "output_type": "stream",
     "text": [
      "\r 570/2000: average score 10.95"
     ]
    },
    {
     "name": "stdout",
     "output_type": "stream",
     "text": [
      "\r 571/2000: average score 11.05"
     ]
    },
    {
     "name": "stdout",
     "output_type": "stream",
     "text": [
      "\r 572/2000: average score 11.08"
     ]
    },
    {
     "name": "stdout",
     "output_type": "stream",
     "text": [
      "\r 573/2000: average score 11.04"
     ]
    },
    {
     "name": "stdout",
     "output_type": "stream",
     "text": [
      "\r 574/2000: average score 11.02"
     ]
    },
    {
     "name": "stdout",
     "output_type": "stream",
     "text": [
      "\r 575/2000: average score 11.06"
     ]
    },
    {
     "name": "stdout",
     "output_type": "stream",
     "text": [
      "\r 576/2000: average score 11.04"
     ]
    },
    {
     "name": "stdout",
     "output_type": "stream",
     "text": [
      "\r 577/2000: average score 11.15"
     ]
    },
    {
     "name": "stdout",
     "output_type": "stream",
     "text": [
      "\r 578/2000: average score 11.27"
     ]
    },
    {
     "name": "stdout",
     "output_type": "stream",
     "text": [
      "\r 579/2000: average score 11.32"
     ]
    },
    {
     "name": "stdout",
     "output_type": "stream",
     "text": [
      "\r 580/2000: average score 11.29"
     ]
    },
    {
     "name": "stdout",
     "output_type": "stream",
     "text": [
      "\r 581/2000: average score 11.36"
     ]
    },
    {
     "name": "stdout",
     "output_type": "stream",
     "text": [
      "\r 582/2000: average score 11.39"
     ]
    },
    {
     "name": "stdout",
     "output_type": "stream",
     "text": [
      "\r 583/2000: average score 11.52"
     ]
    },
    {
     "name": "stdout",
     "output_type": "stream",
     "text": [
      "\r 584/2000: average score 11.59"
     ]
    },
    {
     "name": "stdout",
     "output_type": "stream",
     "text": [
      "\r 585/2000: average score 11.68"
     ]
    },
    {
     "name": "stdout",
     "output_type": "stream",
     "text": [
      "\r 586/2000: average score 11.76"
     ]
    },
    {
     "name": "stdout",
     "output_type": "stream",
     "text": [
      "\r 587/2000: average score 11.84"
     ]
    },
    {
     "name": "stdout",
     "output_type": "stream",
     "text": [
      "\r 588/2000: average score 11.85"
     ]
    },
    {
     "name": "stdout",
     "output_type": "stream",
     "text": [
      "\r 589/2000: average score 11.84"
     ]
    },
    {
     "name": "stdout",
     "output_type": "stream",
     "text": [
      "\r 590/2000: average score 11.95"
     ]
    },
    {
     "name": "stdout",
     "output_type": "stream",
     "text": [
      "\r 591/2000: average score 11.98"
     ]
    },
    {
     "name": "stdout",
     "output_type": "stream",
     "text": [
      "\r 592/2000: average score 12.06"
     ]
    },
    {
     "name": "stdout",
     "output_type": "stream",
     "text": [
      "\r 593/2000: average score 11.98"
     ]
    },
    {
     "name": "stdout",
     "output_type": "stream",
     "text": [
      "\r 594/2000: average score 11.91"
     ]
    },
    {
     "name": "stdout",
     "output_type": "stream",
     "text": [
      "\r 595/2000: average score 11.97"
     ]
    },
    {
     "name": "stdout",
     "output_type": "stream",
     "text": [
      "\r 596/2000: average score 11.91"
     ]
    },
    {
     "name": "stdout",
     "output_type": "stream",
     "text": [
      "\r 597/2000: average score 11.90"
     ]
    },
    {
     "name": "stdout",
     "output_type": "stream",
     "text": [
      "\r 598/2000: average score 11.96"
     ]
    },
    {
     "name": "stdout",
     "output_type": "stream",
     "text": [
      "\r 599/2000: average score 11.91"
     ]
    },
    {
     "name": "stdout",
     "output_type": "stream",
     "text": [
      "\r 600/2000: average score 11.88"
     ]
    },
    {
     "name": "stdout",
     "output_type": "stream",
     "text": [
      "\r 601/2000: average score 11.80"
     ]
    },
    {
     "name": "stdout",
     "output_type": "stream",
     "text": [
      "\r 602/2000: average score 11.66"
     ]
    },
    {
     "name": "stdout",
     "output_type": "stream",
     "text": [
      "\r 603/2000: average score 11.66"
     ]
    },
    {
     "name": "stdout",
     "output_type": "stream",
     "text": [
      "\r 604/2000: average score 11.70"
     ]
    },
    {
     "name": "stdout",
     "output_type": "stream",
     "text": [
      "\r 605/2000: average score 11.69"
     ]
    },
    {
     "name": "stdout",
     "output_type": "stream",
     "text": [
      "\r 606/2000: average score 11.67"
     ]
    },
    {
     "name": "stdout",
     "output_type": "stream",
     "text": [
      "\r 607/2000: average score 11.55"
     ]
    },
    {
     "name": "stdout",
     "output_type": "stream",
     "text": [
      "\r 608/2000: average score 11.51"
     ]
    },
    {
     "name": "stdout",
     "output_type": "stream",
     "text": [
      "\r 609/2000: average score 11.46"
     ]
    },
    {
     "name": "stdout",
     "output_type": "stream",
     "text": [
      "\r 610/2000: average score 11.47"
     ]
    },
    {
     "name": "stdout",
     "output_type": "stream",
     "text": [
      "\r 611/2000: average score 11.41"
     ]
    },
    {
     "name": "stdout",
     "output_type": "stream",
     "text": [
      "\r 612/2000: average score 11.42"
     ]
    },
    {
     "name": "stdout",
     "output_type": "stream",
     "text": [
      "\r 613/2000: average score 11.48"
     ]
    },
    {
     "name": "stdout",
     "output_type": "stream",
     "text": [
      "\r 614/2000: average score 11.53"
     ]
    },
    {
     "name": "stdout",
     "output_type": "stream",
     "text": [
      "\r 615/2000: average score 11.55"
     ]
    },
    {
     "name": "stdout",
     "output_type": "stream",
     "text": [
      "\r 616/2000: average score 11.57"
     ]
    },
    {
     "name": "stdout",
     "output_type": "stream",
     "text": [
      "\r 617/2000: average score 11.57"
     ]
    },
    {
     "name": "stdout",
     "output_type": "stream",
     "text": [
      "\r 618/2000: average score 11.69"
     ]
    },
    {
     "name": "stdout",
     "output_type": "stream",
     "text": [
      "\r 619/2000: average score 11.72"
     ]
    },
    {
     "name": "stdout",
     "output_type": "stream",
     "text": [
      "\r 620/2000: average score 11.63"
     ]
    },
    {
     "name": "stdout",
     "output_type": "stream",
     "text": [
      "\r 621/2000: average score 11.67"
     ]
    },
    {
     "name": "stdout",
     "output_type": "stream",
     "text": [
      "\r 622/2000: average score 11.70"
     ]
    },
    {
     "name": "stdout",
     "output_type": "stream",
     "text": [
      "\r 623/2000: average score 11.78"
     ]
    },
    {
     "name": "stdout",
     "output_type": "stream",
     "text": [
      "\r 624/2000: average score 11.79"
     ]
    },
    {
     "name": "stdout",
     "output_type": "stream",
     "text": [
      "\r 625/2000: average score 11.88"
     ]
    },
    {
     "name": "stdout",
     "output_type": "stream",
     "text": [
      "\r 626/2000: average score 11.86"
     ]
    },
    {
     "name": "stdout",
     "output_type": "stream",
     "text": [
      "\r 627/2000: average score 11.83"
     ]
    },
    {
     "name": "stdout",
     "output_type": "stream",
     "text": [
      "\r 628/2000: average score 11.84"
     ]
    },
    {
     "name": "stdout",
     "output_type": "stream",
     "text": [
      "\r 629/2000: average score 11.79"
     ]
    },
    {
     "name": "stdout",
     "output_type": "stream",
     "text": [
      "\r 630/2000: average score 11.80"
     ]
    },
    {
     "name": "stdout",
     "output_type": "stream",
     "text": [
      "\r 631/2000: average score 11.73"
     ]
    },
    {
     "name": "stdout",
     "output_type": "stream",
     "text": [
      "\r 632/2000: average score 11.70"
     ]
    },
    {
     "name": "stdout",
     "output_type": "stream",
     "text": [
      "\r 633/2000: average score 11.68"
     ]
    },
    {
     "name": "stdout",
     "output_type": "stream",
     "text": [
      "\r 634/2000: average score 11.64"
     ]
    },
    {
     "name": "stdout",
     "output_type": "stream",
     "text": [
      "\r 635/2000: average score 11.73"
     ]
    },
    {
     "name": "stdout",
     "output_type": "stream",
     "text": [
      "\r 636/2000: average score 11.65"
     ]
    },
    {
     "name": "stdout",
     "output_type": "stream",
     "text": [
      "\r 637/2000: average score 11.54"
     ]
    },
    {
     "name": "stdout",
     "output_type": "stream",
     "text": [
      "\r 638/2000: average score 11.50"
     ]
    },
    {
     "name": "stdout",
     "output_type": "stream",
     "text": [
      "\r 639/2000: average score 11.59"
     ]
    },
    {
     "name": "stdout",
     "output_type": "stream",
     "text": [
      "\r 640/2000: average score 11.66"
     ]
    },
    {
     "name": "stdout",
     "output_type": "stream",
     "text": [
      "\r 641/2000: average score 11.72"
     ]
    },
    {
     "name": "stdout",
     "output_type": "stream",
     "text": [
      "\r 642/2000: average score 11.70"
     ]
    },
    {
     "name": "stdout",
     "output_type": "stream",
     "text": [
      "\r 643/2000: average score 11.66"
     ]
    },
    {
     "name": "stdout",
     "output_type": "stream",
     "text": [
      "\r 644/2000: average score 11.62"
     ]
    },
    {
     "name": "stdout",
     "output_type": "stream",
     "text": [
      "\r 645/2000: average score 11.55"
     ]
    },
    {
     "name": "stdout",
     "output_type": "stream",
     "text": [
      "\r 646/2000: average score 11.48"
     ]
    },
    {
     "name": "stdout",
     "output_type": "stream",
     "text": [
      "\r 647/2000: average score 11.43"
     ]
    },
    {
     "name": "stdout",
     "output_type": "stream",
     "text": [
      "\r 648/2000: average score 11.47"
     ]
    },
    {
     "name": "stdout",
     "output_type": "stream",
     "text": [
      "\r 649/2000: average score 11.45"
     ]
    },
    {
     "name": "stdout",
     "output_type": "stream",
     "text": [
      "\r 650/2000: average score 11.50"
     ]
    },
    {
     "name": "stdout",
     "output_type": "stream",
     "text": [
      "\r 651/2000: average score 11.47"
     ]
    },
    {
     "name": "stdout",
     "output_type": "stream",
     "text": [
      "\r 652/2000: average score 11.39"
     ]
    },
    {
     "name": "stdout",
     "output_type": "stream",
     "text": [
      "\r 653/2000: average score 11.46"
     ]
    },
    {
     "name": "stdout",
     "output_type": "stream",
     "text": [
      "\r 654/2000: average score 11.39"
     ]
    },
    {
     "name": "stdout",
     "output_type": "stream",
     "text": [
      "\r 655/2000: average score 11.39"
     ]
    },
    {
     "name": "stdout",
     "output_type": "stream",
     "text": [
      "\r 656/2000: average score 11.47"
     ]
    },
    {
     "name": "stdout",
     "output_type": "stream",
     "text": [
      "\r 657/2000: average score 11.41"
     ]
    },
    {
     "name": "stdout",
     "output_type": "stream",
     "text": [
      "\r 658/2000: average score 11.37"
     ]
    },
    {
     "name": "stdout",
     "output_type": "stream",
     "text": [
      "\r 659/2000: average score 11.26"
     ]
    },
    {
     "name": "stdout",
     "output_type": "stream",
     "text": [
      "\r 660/2000: average score 11.16"
     ]
    },
    {
     "name": "stdout",
     "output_type": "stream",
     "text": [
      "\r 661/2000: average score 11.19"
     ]
    },
    {
     "name": "stdout",
     "output_type": "stream",
     "text": [
      "\r 662/2000: average score 11.29"
     ]
    },
    {
     "name": "stdout",
     "output_type": "stream",
     "text": [
      "\r 663/2000: average score 11.28"
     ]
    },
    {
     "name": "stdout",
     "output_type": "stream",
     "text": [
      "\r 664/2000: average score 11.36"
     ]
    },
    {
     "name": "stdout",
     "output_type": "stream",
     "text": [
      "\r 665/2000: average score 11.32"
     ]
    },
    {
     "name": "stdout",
     "output_type": "stream",
     "text": [
      "\r 666/2000: average score 11.35"
     ]
    },
    {
     "name": "stdout",
     "output_type": "stream",
     "text": [
      "\r 667/2000: average score 11.39"
     ]
    },
    {
     "name": "stdout",
     "output_type": "stream",
     "text": [
      "\r 668/2000: average score 11.39"
     ]
    },
    {
     "name": "stdout",
     "output_type": "stream",
     "text": [
      "\r 669/2000: average score 11.35"
     ]
    },
    {
     "name": "stdout",
     "output_type": "stream",
     "text": [
      "\r 670/2000: average score 11.37"
     ]
    },
    {
     "name": "stdout",
     "output_type": "stream",
     "text": [
      "\r 671/2000: average score 11.36"
     ]
    },
    {
     "name": "stdout",
     "output_type": "stream",
     "text": [
      "\r 672/2000: average score 11.37"
     ]
    },
    {
     "name": "stdout",
     "output_type": "stream",
     "text": [
      "\r 673/2000: average score 11.34"
     ]
    },
    {
     "name": "stdout",
     "output_type": "stream",
     "text": [
      "\r 674/2000: average score 11.25"
     ]
    },
    {
     "name": "stdout",
     "output_type": "stream",
     "text": [
      "\r 675/2000: average score 11.30"
     ]
    },
    {
     "name": "stdout",
     "output_type": "stream",
     "text": [
      "\r 676/2000: average score 11.39"
     ]
    },
    {
     "name": "stdout",
     "output_type": "stream",
     "text": [
      "\r 677/2000: average score 11.36"
     ]
    },
    {
     "name": "stdout",
     "output_type": "stream",
     "text": [
      "\r 678/2000: average score 11.22"
     ]
    },
    {
     "name": "stdout",
     "output_type": "stream",
     "text": [
      "\r 679/2000: average score 11.23"
     ]
    },
    {
     "name": "stdout",
     "output_type": "stream",
     "text": [
      "\r 680/2000: average score 11.23"
     ]
    },
    {
     "name": "stdout",
     "output_type": "stream",
     "text": [
      "\r 681/2000: average score 11.11"
     ]
    },
    {
     "name": "stdout",
     "output_type": "stream",
     "text": [
      "\r 682/2000: average score 11.20"
     ]
    },
    {
     "name": "stdout",
     "output_type": "stream",
     "text": [
      "\r 683/2000: average score 11.15"
     ]
    },
    {
     "name": "stdout",
     "output_type": "stream",
     "text": [
      "\r 684/2000: average score 11.07"
     ]
    },
    {
     "name": "stdout",
     "output_type": "stream",
     "text": [
      "\r 685/2000: average score 11.06"
     ]
    },
    {
     "name": "stdout",
     "output_type": "stream",
     "text": [
      "\r 686/2000: average score 11.07"
     ]
    },
    {
     "name": "stdout",
     "output_type": "stream",
     "text": [
      "\r 687/2000: average score 11.03"
     ]
    },
    {
     "name": "stdout",
     "output_type": "stream",
     "text": [
      "\r 688/2000: average score 11.01"
     ]
    },
    {
     "name": "stdout",
     "output_type": "stream",
     "text": [
      "\r 689/2000: average score 11.02"
     ]
    },
    {
     "name": "stdout",
     "output_type": "stream",
     "text": [
      "\r 690/2000: average score 10.97"
     ]
    },
    {
     "name": "stdout",
     "output_type": "stream",
     "text": [
      "\r 691/2000: average score 11.01"
     ]
    },
    {
     "name": "stdout",
     "output_type": "stream",
     "text": [
      "\r 692/2000: average score 10.97"
     ]
    },
    {
     "name": "stdout",
     "output_type": "stream",
     "text": [
      "\r 693/2000: average score 11.03"
     ]
    },
    {
     "name": "stdout",
     "output_type": "stream",
     "text": [
      "\r 694/2000: average score 11.08"
     ]
    },
    {
     "name": "stdout",
     "output_type": "stream",
     "text": [
      "\r 695/2000: average score 11.02"
     ]
    },
    {
     "name": "stdout",
     "output_type": "stream",
     "text": [
      "\r 696/2000: average score 11.04"
     ]
    },
    {
     "name": "stdout",
     "output_type": "stream",
     "text": [
      "\r 697/2000: average score 11.03"
     ]
    },
    {
     "name": "stdout",
     "output_type": "stream",
     "text": [
      "\r 698/2000: average score 11.00"
     ]
    },
    {
     "name": "stdout",
     "output_type": "stream",
     "text": [
      "\r 699/2000: average score 11.10"
     ]
    },
    {
     "name": "stdout",
     "output_type": "stream",
     "text": [
      "\r 700/2000: average score 11.08"
     ]
    },
    {
     "name": "stdout",
     "output_type": "stream",
     "text": [
      "\r 701/2000: average score 11.20"
     ]
    },
    {
     "name": "stdout",
     "output_type": "stream",
     "text": [
      "\r 702/2000: average score 11.35"
     ]
    },
    {
     "name": "stdout",
     "output_type": "stream",
     "text": [
      "\r 703/2000: average score 11.33"
     ]
    },
    {
     "name": "stdout",
     "output_type": "stream",
     "text": [
      "\r 704/2000: average score 11.28"
     ]
    },
    {
     "name": "stdout",
     "output_type": "stream",
     "text": [
      "\r 705/2000: average score 11.34"
     ]
    },
    {
     "name": "stdout",
     "output_type": "stream",
     "text": [
      "\r 706/2000: average score 11.37"
     ]
    },
    {
     "name": "stdout",
     "output_type": "stream",
     "text": [
      "\r 707/2000: average score 11.50"
     ]
    },
    {
     "name": "stdout",
     "output_type": "stream",
     "text": [
      "\r 708/2000: average score 11.53"
     ]
    },
    {
     "name": "stdout",
     "output_type": "stream",
     "text": [
      "\r 709/2000: average score 11.61"
     ]
    },
    {
     "name": "stdout",
     "output_type": "stream",
     "text": [
      "\r 710/2000: average score 11.62"
     ]
    },
    {
     "name": "stdout",
     "output_type": "stream",
     "text": [
      "\r 711/2000: average score 11.63"
     ]
    },
    {
     "name": "stdout",
     "output_type": "stream",
     "text": [
      "\r 712/2000: average score 11.71"
     ]
    },
    {
     "name": "stdout",
     "output_type": "stream",
     "text": [
      "\r 713/2000: average score 11.71"
     ]
    },
    {
     "name": "stdout",
     "output_type": "stream",
     "text": [
      "\r 714/2000: average score 11.70"
     ]
    },
    {
     "name": "stdout",
     "output_type": "stream",
     "text": [
      "\r 715/2000: average score 11.72"
     ]
    },
    {
     "name": "stdout",
     "output_type": "stream",
     "text": [
      "\r 716/2000: average score 11.75"
     ]
    },
    {
     "name": "stdout",
     "output_type": "stream",
     "text": [
      "\r 717/2000: average score 11.78"
     ]
    },
    {
     "name": "stdout",
     "output_type": "stream",
     "text": [
      "\r 718/2000: average score 11.72"
     ]
    },
    {
     "name": "stdout",
     "output_type": "stream",
     "text": [
      "\r 719/2000: average score 11.78"
     ]
    },
    {
     "name": "stdout",
     "output_type": "stream",
     "text": [
      "\r 720/2000: average score 11.83"
     ]
    },
    {
     "name": "stdout",
     "output_type": "stream",
     "text": [
      "\r 721/2000: average score 11.83"
     ]
    },
    {
     "name": "stdout",
     "output_type": "stream",
     "text": [
      "\r 722/2000: average score 11.83"
     ]
    },
    {
     "name": "stdout",
     "output_type": "stream",
     "text": [
      "\r 723/2000: average score 11.81"
     ]
    },
    {
     "name": "stdout",
     "output_type": "stream",
     "text": [
      "\r 724/2000: average score 11.83"
     ]
    },
    {
     "name": "stdout",
     "output_type": "stream",
     "text": [
      "\r 725/2000: average score 11.74"
     ]
    },
    {
     "name": "stdout",
     "output_type": "stream",
     "text": [
      "\r 726/2000: average score 11.80"
     ]
    },
    {
     "name": "stdout",
     "output_type": "stream",
     "text": [
      "\r 727/2000: average score 11.95"
     ]
    },
    {
     "name": "stdout",
     "output_type": "stream",
     "text": [
      "\r 728/2000: average score 11.98"
     ]
    },
    {
     "name": "stdout",
     "output_type": "stream",
     "text": [
      "\r 729/2000: average score 12.01"
     ]
    },
    {
     "name": "stdout",
     "output_type": "stream",
     "text": [
      "\r 730/2000: average score 11.99"
     ]
    },
    {
     "name": "stdout",
     "output_type": "stream",
     "text": [
      "\r 731/2000: average score 12.11"
     ]
    },
    {
     "name": "stdout",
     "output_type": "stream",
     "text": [
      "\r 732/2000: average score 12.11"
     ]
    },
    {
     "name": "stdout",
     "output_type": "stream",
     "text": [
      "\r 733/2000: average score 12.20"
     ]
    },
    {
     "name": "stdout",
     "output_type": "stream",
     "text": [
      "\r 734/2000: average score 12.24"
     ]
    },
    {
     "name": "stdout",
     "output_type": "stream",
     "text": [
      "\r 735/2000: average score 12.17"
     ]
    },
    {
     "name": "stdout",
     "output_type": "stream",
     "text": [
      "\r 736/2000: average score 12.17"
     ]
    },
    {
     "name": "stdout",
     "output_type": "stream",
     "text": [
      "\r 737/2000: average score 12.27"
     ]
    },
    {
     "name": "stdout",
     "output_type": "stream",
     "text": [
      "\r 738/2000: average score 12.32"
     ]
    },
    {
     "name": "stdout",
     "output_type": "stream",
     "text": [
      "\r 739/2000: average score 12.32"
     ]
    },
    {
     "name": "stdout",
     "output_type": "stream",
     "text": [
      "\r 740/2000: average score 12.21"
     ]
    },
    {
     "name": "stdout",
     "output_type": "stream",
     "text": [
      "\r 741/2000: average score 12.18"
     ]
    },
    {
     "name": "stdout",
     "output_type": "stream",
     "text": [
      "\r 742/2000: average score 12.12"
     ]
    },
    {
     "name": "stdout",
     "output_type": "stream",
     "text": [
      "\r 743/2000: average score 12.18"
     ]
    },
    {
     "name": "stdout",
     "output_type": "stream",
     "text": [
      "\r 744/2000: average score 12.18"
     ]
    },
    {
     "name": "stdout",
     "output_type": "stream",
     "text": [
      "\r 745/2000: average score 12.23"
     ]
    },
    {
     "name": "stdout",
     "output_type": "stream",
     "text": [
      "\r 746/2000: average score 12.33"
     ]
    },
    {
     "name": "stdout",
     "output_type": "stream",
     "text": [
      "\r 747/2000: average score 12.33"
     ]
    },
    {
     "name": "stdout",
     "output_type": "stream",
     "text": [
      "\r 748/2000: average score 12.26"
     ]
    },
    {
     "name": "stdout",
     "output_type": "stream",
     "text": [
      "\r 749/2000: average score 12.24"
     ]
    },
    {
     "name": "stdout",
     "output_type": "stream",
     "text": [
      "\r 750/2000: average score 12.30"
     ]
    },
    {
     "name": "stdout",
     "output_type": "stream",
     "text": [
      "\r 751/2000: average score 12.30"
     ]
    },
    {
     "name": "stdout",
     "output_type": "stream",
     "text": [
      "\r 752/2000: average score 12.39"
     ]
    },
    {
     "name": "stdout",
     "output_type": "stream",
     "text": [
      "\r 753/2000: average score 12.37"
     ]
    },
    {
     "name": "stdout",
     "output_type": "stream",
     "text": [
      "\r 754/2000: average score 12.30"
     ]
    },
    {
     "name": "stdout",
     "output_type": "stream",
     "text": [
      "\r 755/2000: average score 12.35"
     ]
    },
    {
     "name": "stdout",
     "output_type": "stream",
     "text": [
      "\r 756/2000: average score 12.31"
     ]
    },
    {
     "name": "stdout",
     "output_type": "stream",
     "text": [
      "\r 757/2000: average score 12.29"
     ]
    },
    {
     "name": "stdout",
     "output_type": "stream",
     "text": [
      "\r 758/2000: average score 12.34"
     ]
    },
    {
     "name": "stdout",
     "output_type": "stream",
     "text": [
      "\r 759/2000: average score 12.37"
     ]
    },
    {
     "name": "stdout",
     "output_type": "stream",
     "text": [
      "\r 760/2000: average score 12.46"
     ]
    },
    {
     "name": "stdout",
     "output_type": "stream",
     "text": [
      "\r 761/2000: average score 12.51"
     ]
    },
    {
     "name": "stdout",
     "output_type": "stream",
     "text": [
      "\r 762/2000: average score 12.47"
     ]
    },
    {
     "name": "stdout",
     "output_type": "stream",
     "text": [
      "\r 763/2000: average score 12.43"
     ]
    },
    {
     "name": "stdout",
     "output_type": "stream",
     "text": [
      "\r 764/2000: average score 12.35"
     ]
    },
    {
     "name": "stdout",
     "output_type": "stream",
     "text": [
      "\r 765/2000: average score 12.40"
     ]
    },
    {
     "name": "stdout",
     "output_type": "stream",
     "text": [
      "\r 766/2000: average score 12.36"
     ]
    },
    {
     "name": "stdout",
     "output_type": "stream",
     "text": [
      "\r 767/2000: average score 12.45"
     ]
    },
    {
     "name": "stdout",
     "output_type": "stream",
     "text": [
      "\r 768/2000: average score 12.45"
     ]
    },
    {
     "name": "stdout",
     "output_type": "stream",
     "text": [
      "\r 769/2000: average score 12.52"
     ]
    },
    {
     "name": "stdout",
     "output_type": "stream",
     "text": [
      "\r 770/2000: average score 12.53"
     ]
    },
    {
     "name": "stdout",
     "output_type": "stream",
     "text": [
      "\r 771/2000: average score 12.54"
     ]
    },
    {
     "name": "stdout",
     "output_type": "stream",
     "text": [
      "\r 772/2000: average score 12.46"
     ]
    },
    {
     "name": "stdout",
     "output_type": "stream",
     "text": [
      "\r 773/2000: average score 12.50"
     ]
    },
    {
     "name": "stdout",
     "output_type": "stream",
     "text": [
      "\r 774/2000: average score 12.60"
     ]
    },
    {
     "name": "stdout",
     "output_type": "stream",
     "text": [
      "\r 775/2000: average score 12.58"
     ]
    },
    {
     "name": "stdout",
     "output_type": "stream",
     "text": [
      "\r 776/2000: average score 12.54"
     ]
    },
    {
     "name": "stdout",
     "output_type": "stream",
     "text": [
      "\r 777/2000: average score 12.57"
     ]
    },
    {
     "name": "stdout",
     "output_type": "stream",
     "text": [
      "\r 778/2000: average score 12.57"
     ]
    },
    {
     "name": "stdout",
     "output_type": "stream",
     "text": [
      "\r 779/2000: average score 12.48"
     ]
    },
    {
     "name": "stdout",
     "output_type": "stream",
     "text": [
      "\r 780/2000: average score 12.49"
     ]
    },
    {
     "name": "stdout",
     "output_type": "stream",
     "text": [
      "\r 781/2000: average score 12.57"
     ]
    },
    {
     "name": "stdout",
     "output_type": "stream",
     "text": [
      "\r 782/2000: average score 12.49"
     ]
    },
    {
     "name": "stdout",
     "output_type": "stream",
     "text": [
      "\r 783/2000: average score 12.45"
     ]
    },
    {
     "name": "stdout",
     "output_type": "stream",
     "text": [
      "\r 784/2000: average score 12.50"
     ]
    },
    {
     "name": "stdout",
     "output_type": "stream",
     "text": [
      "\r 785/2000: average score 12.51"
     ]
    },
    {
     "name": "stdout",
     "output_type": "stream",
     "text": [
      "\r 786/2000: average score 12.47"
     ]
    },
    {
     "name": "stdout",
     "output_type": "stream",
     "text": [
      "\r 787/2000: average score 12.54"
     ]
    },
    {
     "name": "stdout",
     "output_type": "stream",
     "text": [
      "\r 788/2000: average score 12.58"
     ]
    },
    {
     "name": "stdout",
     "output_type": "stream",
     "text": [
      "\r 789/2000: average score 12.59"
     ]
    },
    {
     "name": "stdout",
     "output_type": "stream",
     "text": [
      "\r 790/2000: average score 12.52"
     ]
    },
    {
     "name": "stdout",
     "output_type": "stream",
     "text": [
      "\r 791/2000: average score 12.50"
     ]
    },
    {
     "name": "stdout",
     "output_type": "stream",
     "text": [
      "\r 792/2000: average score 12.54"
     ]
    },
    {
     "name": "stdout",
     "output_type": "stream",
     "text": [
      "\r 793/2000: average score 12.48"
     ]
    },
    {
     "name": "stdout",
     "output_type": "stream",
     "text": [
      "\r 794/2000: average score 12.31"
     ]
    },
    {
     "name": "stdout",
     "output_type": "stream",
     "text": [
      "\r 795/2000: average score 12.34"
     ]
    },
    {
     "name": "stdout",
     "output_type": "stream",
     "text": [
      "\r 796/2000: average score 12.37"
     ]
    },
    {
     "name": "stdout",
     "output_type": "stream",
     "text": [
      "\r 797/2000: average score 12.34"
     ]
    },
    {
     "name": "stdout",
     "output_type": "stream",
     "text": [
      "\r 798/2000: average score 12.37"
     ]
    },
    {
     "name": "stdout",
     "output_type": "stream",
     "text": [
      "\r 799/2000: average score 12.37"
     ]
    },
    {
     "name": "stdout",
     "output_type": "stream",
     "text": [
      "\r 800/2000: average score 12.40"
     ]
    },
    {
     "name": "stdout",
     "output_type": "stream",
     "text": [
      "\r 801/2000: average score 12.33"
     ]
    },
    {
     "name": "stdout",
     "output_type": "stream",
     "text": [
      "\r 802/2000: average score 12.32"
     ]
    },
    {
     "name": "stdout",
     "output_type": "stream",
     "text": [
      "\r 803/2000: average score 12.28"
     ]
    },
    {
     "name": "stdout",
     "output_type": "stream",
     "text": [
      "\r 804/2000: average score 12.26"
     ]
    },
    {
     "name": "stdout",
     "output_type": "stream",
     "text": [
      "\r 805/2000: average score 12.17"
     ]
    },
    {
     "name": "stdout",
     "output_type": "stream",
     "text": [
      "\r 806/2000: average score 12.22"
     ]
    },
    {
     "name": "stdout",
     "output_type": "stream",
     "text": [
      "\r 807/2000: average score 12.19"
     ]
    },
    {
     "name": "stdout",
     "output_type": "stream",
     "text": [
      "\r 808/2000: average score 12.21"
     ]
    },
    {
     "name": "stdout",
     "output_type": "stream",
     "text": [
      "\r 809/2000: average score 12.24"
     ]
    },
    {
     "name": "stdout",
     "output_type": "stream",
     "text": [
      "\r 810/2000: average score 12.26"
     ]
    },
    {
     "name": "stdout",
     "output_type": "stream",
     "text": [
      "\r 811/2000: average score 12.20"
     ]
    },
    {
     "name": "stdout",
     "output_type": "stream",
     "text": [
      "\r 812/2000: average score 12.06"
     ]
    },
    {
     "name": "stdout",
     "output_type": "stream",
     "text": [
      "\r 813/2000: average score 12.03"
     ]
    },
    {
     "name": "stdout",
     "output_type": "stream",
     "text": [
      "\r 814/2000: average score 12.03"
     ]
    },
    {
     "name": "stdout",
     "output_type": "stream",
     "text": [
      "\r 815/2000: average score 12.00"
     ]
    },
    {
     "name": "stdout",
     "output_type": "stream",
     "text": [
      "\r 816/2000: average score 11.98"
     ]
    },
    {
     "name": "stdout",
     "output_type": "stream",
     "text": [
      "\r 817/2000: average score 11.93"
     ]
    },
    {
     "name": "stdout",
     "output_type": "stream",
     "text": [
      "\r 818/2000: average score 12.02"
     ]
    },
    {
     "name": "stdout",
     "output_type": "stream",
     "text": [
      "\r 819/2000: average score 11.87"
     ]
    },
    {
     "name": "stdout",
     "output_type": "stream",
     "text": [
      "\r 820/2000: average score 11.86"
     ]
    },
    {
     "name": "stdout",
     "output_type": "stream",
     "text": [
      "\r 821/2000: average score 11.95"
     ]
    },
    {
     "name": "stdout",
     "output_type": "stream",
     "text": [
      "\r 822/2000: average score 11.90"
     ]
    },
    {
     "name": "stdout",
     "output_type": "stream",
     "text": [
      "\r 823/2000: average score 11.88"
     ]
    },
    {
     "name": "stdout",
     "output_type": "stream",
     "text": [
      "\r 824/2000: average score 11.82"
     ]
    },
    {
     "name": "stdout",
     "output_type": "stream",
     "text": [
      "\r 825/2000: average score 11.86"
     ]
    },
    {
     "name": "stdout",
     "output_type": "stream",
     "text": [
      "\r 826/2000: average score 11.82"
     ]
    },
    {
     "name": "stdout",
     "output_type": "stream",
     "text": [
      "\r 827/2000: average score 11.86"
     ]
    },
    {
     "name": "stdout",
     "output_type": "stream",
     "text": [
      "\r 828/2000: average score 11.85"
     ]
    },
    {
     "name": "stdout",
     "output_type": "stream",
     "text": [
      "\r 829/2000: average score 11.85"
     ]
    },
    {
     "name": "stdout",
     "output_type": "stream",
     "text": [
      "\r 830/2000: average score 11.94"
     ]
    },
    {
     "name": "stdout",
     "output_type": "stream",
     "text": [
      "\r 831/2000: average score 11.91"
     ]
    },
    {
     "name": "stdout",
     "output_type": "stream",
     "text": [
      "\r 832/2000: average score 11.92"
     ]
    },
    {
     "name": "stdout",
     "output_type": "stream",
     "text": [
      "\r 833/2000: average score 11.93"
     ]
    },
    {
     "name": "stdout",
     "output_type": "stream",
     "text": [
      "\r 834/2000: average score 11.97"
     ]
    },
    {
     "name": "stdout",
     "output_type": "stream",
     "text": [
      "\r 835/2000: average score 11.95"
     ]
    },
    {
     "name": "stdout",
     "output_type": "stream",
     "text": [
      "\r 836/2000: average score 11.97"
     ]
    },
    {
     "name": "stdout",
     "output_type": "stream",
     "text": [
      "\r 837/2000: average score 11.97"
     ]
    },
    {
     "name": "stdout",
     "output_type": "stream",
     "text": [
      "\r 838/2000: average score 11.99"
     ]
    },
    {
     "name": "stdout",
     "output_type": "stream",
     "text": [
      "\r 839/2000: average score 11.90"
     ]
    },
    {
     "name": "stdout",
     "output_type": "stream",
     "text": [
      "\r 840/2000: average score 11.97"
     ]
    },
    {
     "name": "stdout",
     "output_type": "stream",
     "text": [
      "\r 841/2000: average score 11.98"
     ]
    },
    {
     "name": "stdout",
     "output_type": "stream",
     "text": [
      "\r 842/2000: average score 12.04"
     ]
    },
    {
     "name": "stdout",
     "output_type": "stream",
     "text": [
      "\r 843/2000: average score 11.98"
     ]
    },
    {
     "name": "stdout",
     "output_type": "stream",
     "text": [
      "\r 844/2000: average score 12.00"
     ]
    },
    {
     "name": "stdout",
     "output_type": "stream",
     "text": [
      "\r 845/2000: average score 11.93"
     ]
    },
    {
     "name": "stdout",
     "output_type": "stream",
     "text": [
      "\r 846/2000: average score 11.92"
     ]
    },
    {
     "name": "stdout",
     "output_type": "stream",
     "text": [
      "\r 847/2000: average score 12.02"
     ]
    },
    {
     "name": "stdout",
     "output_type": "stream",
     "text": [
      "\r 848/2000: average score 12.06"
     ]
    },
    {
     "name": "stdout",
     "output_type": "stream",
     "text": [
      "\r 849/2000: average score 12.10"
     ]
    },
    {
     "name": "stdout",
     "output_type": "stream",
     "text": [
      "\r 850/2000: average score 12.04"
     ]
    },
    {
     "name": "stdout",
     "output_type": "stream",
     "text": [
      "\r 851/2000: average score 12.01"
     ]
    },
    {
     "name": "stdout",
     "output_type": "stream",
     "text": [
      "\r 852/2000: average score 11.93"
     ]
    },
    {
     "name": "stdout",
     "output_type": "stream",
     "text": [
      "\r 853/2000: average score 11.90"
     ]
    },
    {
     "name": "stdout",
     "output_type": "stream",
     "text": [
      "\r 854/2000: average score 12.05"
     ]
    },
    {
     "name": "stdout",
     "output_type": "stream",
     "text": [
      "\r 855/2000: average score 12.02"
     ]
    },
    {
     "name": "stdout",
     "output_type": "stream",
     "text": [
      "\r 856/2000: average score 12.07"
     ]
    },
    {
     "name": "stdout",
     "output_type": "stream",
     "text": [
      "\r 857/2000: average score 12.08"
     ]
    },
    {
     "name": "stdout",
     "output_type": "stream",
     "text": [
      "\r 858/2000: average score 12.12"
     ]
    },
    {
     "name": "stdout",
     "output_type": "stream",
     "text": [
      "\r 859/2000: average score 12.10"
     ]
    },
    {
     "name": "stdout",
     "output_type": "stream",
     "text": [
      "\r 860/2000: average score 12.02"
     ]
    },
    {
     "name": "stdout",
     "output_type": "stream",
     "text": [
      "\r 861/2000: average score 11.99"
     ]
    },
    {
     "name": "stdout",
     "output_type": "stream",
     "text": [
      "\r 862/2000: average score 12.02"
     ]
    },
    {
     "name": "stdout",
     "output_type": "stream",
     "text": [
      "\r 863/2000: average score 12.09"
     ]
    },
    {
     "name": "stdout",
     "output_type": "stream",
     "text": [
      "\r 864/2000: average score 12.20"
     ]
    },
    {
     "name": "stdout",
     "output_type": "stream",
     "text": [
      "\r 865/2000: average score 12.18"
     ]
    },
    {
     "name": "stdout",
     "output_type": "stream",
     "text": [
      "\r 866/2000: average score 12.17"
     ]
    },
    {
     "name": "stdout",
     "output_type": "stream",
     "text": [
      "\r 867/2000: average score 12.07"
     ]
    },
    {
     "name": "stdout",
     "output_type": "stream",
     "text": [
      "\r 868/2000: average score 11.99"
     ]
    },
    {
     "name": "stdout",
     "output_type": "stream",
     "text": [
      "\r 869/2000: average score 11.93"
     ]
    },
    {
     "name": "stdout",
     "output_type": "stream",
     "text": [
      "\r 870/2000: average score 11.94"
     ]
    },
    {
     "name": "stdout",
     "output_type": "stream",
     "text": [
      "\r 871/2000: average score 11.93"
     ]
    },
    {
     "name": "stdout",
     "output_type": "stream",
     "text": [
      "\r 872/2000: average score 12.02"
     ]
    },
    {
     "name": "stdout",
     "output_type": "stream",
     "text": [
      "\r 873/2000: average score 12.06"
     ]
    },
    {
     "name": "stdout",
     "output_type": "stream",
     "text": [
      "\r 874/2000: average score 12.09"
     ]
    },
    {
     "name": "stdout",
     "output_type": "stream",
     "text": [
      "\r 875/2000: average score 12.06"
     ]
    },
    {
     "name": "stdout",
     "output_type": "stream",
     "text": [
      "\r 876/2000: average score 12.06"
     ]
    },
    {
     "name": "stdout",
     "output_type": "stream",
     "text": [
      "\r 877/2000: average score 12.05"
     ]
    },
    {
     "name": "stdout",
     "output_type": "stream",
     "text": [
      "\r 878/2000: average score 12.09"
     ]
    },
    {
     "name": "stdout",
     "output_type": "stream",
     "text": [
      "\r 879/2000: average score 12.11"
     ]
    },
    {
     "name": "stdout",
     "output_type": "stream",
     "text": [
      "\r 880/2000: average score 12.15"
     ]
    },
    {
     "name": "stdout",
     "output_type": "stream",
     "text": [
      "\r 881/2000: average score 12.09"
     ]
    },
    {
     "name": "stdout",
     "output_type": "stream",
     "text": [
      "\r 882/2000: average score 12.05"
     ]
    },
    {
     "name": "stdout",
     "output_type": "stream",
     "text": [
      "\r 883/2000: average score 12.04"
     ]
    },
    {
     "name": "stdout",
     "output_type": "stream",
     "text": [
      "\r 884/2000: average score 12.06"
     ]
    },
    {
     "name": "stdout",
     "output_type": "stream",
     "text": [
      "\r 885/2000: average score 12.07"
     ]
    },
    {
     "name": "stdout",
     "output_type": "stream",
     "text": [
      "\r 886/2000: average score 12.10"
     ]
    },
    {
     "name": "stdout",
     "output_type": "stream",
     "text": [
      "\r 887/2000: average score 12.01"
     ]
    },
    {
     "name": "stdout",
     "output_type": "stream",
     "text": [
      "\r 888/2000: average score 11.93"
     ]
    },
    {
     "name": "stdout",
     "output_type": "stream",
     "text": [
      "\r 889/2000: average score 11.91"
     ]
    },
    {
     "name": "stdout",
     "output_type": "stream",
     "text": [
      "\r 890/2000: average score 11.94"
     ]
    },
    {
     "name": "stdout",
     "output_type": "stream",
     "text": [
      "\r 891/2000: average score 11.89"
     ]
    },
    {
     "name": "stdout",
     "output_type": "stream",
     "text": [
      "\r 892/2000: average score 11.89"
     ]
    },
    {
     "name": "stdout",
     "output_type": "stream",
     "text": [
      "\r 893/2000: average score 11.91"
     ]
    },
    {
     "name": "stdout",
     "output_type": "stream",
     "text": [
      "\r 894/2000: average score 12.03"
     ]
    },
    {
     "name": "stdout",
     "output_type": "stream",
     "text": [
      "\r 895/2000: average score 12.03"
     ]
    },
    {
     "name": "stdout",
     "output_type": "stream",
     "text": [
      "\r 896/2000: average score 12.05"
     ]
    },
    {
     "name": "stdout",
     "output_type": "stream",
     "text": [
      "\r 897/2000: average score 12.06"
     ]
    },
    {
     "name": "stdout",
     "output_type": "stream",
     "text": [
      "\r 898/2000: average score 12.08"
     ]
    },
    {
     "name": "stdout",
     "output_type": "stream",
     "text": [
      "\r 899/2000: average score 12.02"
     ]
    },
    {
     "name": "stdout",
     "output_type": "stream",
     "text": [
      "\r 900/2000: average score 12.02"
     ]
    },
    {
     "name": "stdout",
     "output_type": "stream",
     "text": [
      "\r 901/2000: average score 12.02"
     ]
    },
    {
     "name": "stdout",
     "output_type": "stream",
     "text": [
      "\r 902/2000: average score 12.01"
     ]
    },
    {
     "name": "stdout",
     "output_type": "stream",
     "text": [
      "\r 903/2000: average score 12.03"
     ]
    },
    {
     "name": "stdout",
     "output_type": "stream",
     "text": [
      "\r 904/2000: average score 12.12"
     ]
    },
    {
     "name": "stdout",
     "output_type": "stream",
     "text": [
      "\r 905/2000: average score 12.11"
     ]
    },
    {
     "name": "stdout",
     "output_type": "stream",
     "text": [
      "\r 906/2000: average score 11.97"
     ]
    },
    {
     "name": "stdout",
     "output_type": "stream",
     "text": [
      "\r 907/2000: average score 11.98"
     ]
    },
    {
     "name": "stdout",
     "output_type": "stream",
     "text": [
      "\r 908/2000: average score 12.01"
     ]
    },
    {
     "name": "stdout",
     "output_type": "stream",
     "text": [
      "\r 909/2000: average score 12.00"
     ]
    },
    {
     "name": "stdout",
     "output_type": "stream",
     "text": [
      "\r 910/2000: average score 12.00"
     ]
    },
    {
     "name": "stdout",
     "output_type": "stream",
     "text": [
      "\r 911/2000: average score 12.04"
     ]
    },
    {
     "name": "stdout",
     "output_type": "stream",
     "text": [
      "\r 912/2000: average score 12.13"
     ]
    },
    {
     "name": "stdout",
     "output_type": "stream",
     "text": [
      "\r 913/2000: average score 12.20"
     ]
    },
    {
     "name": "stdout",
     "output_type": "stream",
     "text": [
      "\r 914/2000: average score 12.22"
     ]
    },
    {
     "name": "stdout",
     "output_type": "stream",
     "text": [
      "\r 915/2000: average score 12.17"
     ]
    },
    {
     "name": "stdout",
     "output_type": "stream",
     "text": [
      "\r 916/2000: average score 12.10"
     ]
    },
    {
     "name": "stdout",
     "output_type": "stream",
     "text": [
      "\r 917/2000: average score 12.17"
     ]
    },
    {
     "name": "stdout",
     "output_type": "stream",
     "text": [
      "\r 918/2000: average score 12.15"
     ]
    },
    {
     "name": "stdout",
     "output_type": "stream",
     "text": [
      "\r 919/2000: average score 12.15"
     ]
    },
    {
     "name": "stdout",
     "output_type": "stream",
     "text": [
      "\r 920/2000: average score 12.17"
     ]
    },
    {
     "name": "stdout",
     "output_type": "stream",
     "text": [
      "\r 921/2000: average score 12.02"
     ]
    },
    {
     "name": "stdout",
     "output_type": "stream",
     "text": [
      "\r 922/2000: average score 12.06"
     ]
    },
    {
     "name": "stdout",
     "output_type": "stream",
     "text": [
      "\r 923/2000: average score 12.10"
     ]
    },
    {
     "name": "stdout",
     "output_type": "stream",
     "text": [
      "\r 924/2000: average score 12.16"
     ]
    },
    {
     "name": "stdout",
     "output_type": "stream",
     "text": [
      "\r 925/2000: average score 12.16"
     ]
    },
    {
     "name": "stdout",
     "output_type": "stream",
     "text": [
      "\r 926/2000: average score 12.17"
     ]
    },
    {
     "name": "stdout",
     "output_type": "stream",
     "text": [
      "\r 927/2000: average score 12.10"
     ]
    },
    {
     "name": "stdout",
     "output_type": "stream",
     "text": [
      "\r 928/2000: average score 12.05"
     ]
    },
    {
     "name": "stdout",
     "output_type": "stream",
     "text": [
      "\r 929/2000: average score 12.04"
     ]
    },
    {
     "name": "stdout",
     "output_type": "stream",
     "text": [
      "\r 930/2000: average score 11.99"
     ]
    },
    {
     "name": "stdout",
     "output_type": "stream",
     "text": [
      "\r 931/2000: average score 11.98"
     ]
    },
    {
     "name": "stdout",
     "output_type": "stream",
     "text": [
      "\r 932/2000: average score 11.96"
     ]
    },
    {
     "name": "stdout",
     "output_type": "stream",
     "text": [
      "\r 933/2000: average score 11.93"
     ]
    },
    {
     "name": "stdout",
     "output_type": "stream",
     "text": [
      "\r 934/2000: average score 11.86"
     ]
    },
    {
     "name": "stdout",
     "output_type": "stream",
     "text": [
      "\r 935/2000: average score 11.85"
     ]
    },
    {
     "name": "stdout",
     "output_type": "stream",
     "text": [
      "\r 936/2000: average score 11.85"
     ]
    },
    {
     "name": "stdout",
     "output_type": "stream",
     "text": [
      "\r 937/2000: average score 11.75"
     ]
    },
    {
     "name": "stdout",
     "output_type": "stream",
     "text": [
      "\r 938/2000: average score 11.74"
     ]
    },
    {
     "name": "stdout",
     "output_type": "stream",
     "text": [
      "\r 939/2000: average score 11.85"
     ]
    },
    {
     "name": "stdout",
     "output_type": "stream",
     "text": [
      "\r 940/2000: average score 11.84"
     ]
    },
    {
     "name": "stdout",
     "output_type": "stream",
     "text": [
      "\r 941/2000: average score 11.83"
     ]
    },
    {
     "name": "stdout",
     "output_type": "stream",
     "text": [
      "\r 942/2000: average score 11.77"
     ]
    },
    {
     "name": "stdout",
     "output_type": "stream",
     "text": [
      "\r 943/2000: average score 11.82"
     ]
    },
    {
     "name": "stdout",
     "output_type": "stream",
     "text": [
      "\r 944/2000: average score 11.83"
     ]
    },
    {
     "name": "stdout",
     "output_type": "stream",
     "text": [
      "\r 945/2000: average score 11.86"
     ]
    },
    {
     "name": "stdout",
     "output_type": "stream",
     "text": [
      "\r 946/2000: average score 11.82"
     ]
    },
    {
     "name": "stdout",
     "output_type": "stream",
     "text": [
      "\r 947/2000: average score 11.73"
     ]
    },
    {
     "name": "stdout",
     "output_type": "stream",
     "text": [
      "\r 948/2000: average score 11.65"
     ]
    },
    {
     "name": "stdout",
     "output_type": "stream",
     "text": [
      "\r 949/2000: average score 11.64"
     ]
    },
    {
     "name": "stdout",
     "output_type": "stream",
     "text": [
      "\r 950/2000: average score 11.68"
     ]
    },
    {
     "name": "stdout",
     "output_type": "stream",
     "text": [
      "\r 951/2000: average score 11.72"
     ]
    },
    {
     "name": "stdout",
     "output_type": "stream",
     "text": [
      "\r 952/2000: average score 11.77"
     ]
    },
    {
     "name": "stdout",
     "output_type": "stream",
     "text": [
      "\r 953/2000: average score 11.76"
     ]
    },
    {
     "name": "stdout",
     "output_type": "stream",
     "text": [
      "\r 954/2000: average score 11.70"
     ]
    },
    {
     "name": "stdout",
     "output_type": "stream",
     "text": [
      "\r 955/2000: average score 11.70"
     ]
    },
    {
     "name": "stdout",
     "output_type": "stream",
     "text": [
      "\r 956/2000: average score 11.59"
     ]
    },
    {
     "name": "stdout",
     "output_type": "stream",
     "text": [
      "\r 957/2000: average score 11.65"
     ]
    },
    {
     "name": "stdout",
     "output_type": "stream",
     "text": [
      "\r 958/2000: average score 11.66"
     ]
    },
    {
     "name": "stdout",
     "output_type": "stream",
     "text": [
      "\r 959/2000: average score 11.63"
     ]
    },
    {
     "name": "stdout",
     "output_type": "stream",
     "text": [
      "\r 960/2000: average score 11.70"
     ]
    },
    {
     "name": "stdout",
     "output_type": "stream",
     "text": [
      "\r 961/2000: average score 11.71"
     ]
    },
    {
     "name": "stdout",
     "output_type": "stream",
     "text": [
      "\r 962/2000: average score 11.70"
     ]
    },
    {
     "name": "stdout",
     "output_type": "stream",
     "text": [
      "\r 963/2000: average score 11.60"
     ]
    },
    {
     "name": "stdout",
     "output_type": "stream",
     "text": [
      "\r 964/2000: average score 11.51"
     ]
    },
    {
     "name": "stdout",
     "output_type": "stream",
     "text": [
      "\r 965/2000: average score 11.55"
     ]
    },
    {
     "name": "stdout",
     "output_type": "stream",
     "text": [
      "\r 966/2000: average score 11.52"
     ]
    },
    {
     "name": "stdout",
     "output_type": "stream",
     "text": [
      "\r 967/2000: average score 11.50"
     ]
    },
    {
     "name": "stdout",
     "output_type": "stream",
     "text": [
      "\r 968/2000: average score 11.54"
     ]
    },
    {
     "name": "stdout",
     "output_type": "stream",
     "text": [
      "\r 969/2000: average score 11.63"
     ]
    },
    {
     "name": "stdout",
     "output_type": "stream",
     "text": [
      "\r 970/2000: average score 11.62"
     ]
    },
    {
     "name": "stdout",
     "output_type": "stream",
     "text": [
      "\r 971/2000: average score 11.64"
     ]
    },
    {
     "name": "stdout",
     "output_type": "stream",
     "text": [
      "\r 972/2000: average score 11.62"
     ]
    },
    {
     "name": "stdout",
     "output_type": "stream",
     "text": [
      "\r 973/2000: average score 11.59"
     ]
    },
    {
     "name": "stdout",
     "output_type": "stream",
     "text": [
      "\r 974/2000: average score 11.63"
     ]
    },
    {
     "name": "stdout",
     "output_type": "stream",
     "text": [
      "\r 975/2000: average score 11.58"
     ]
    },
    {
     "name": "stdout",
     "output_type": "stream",
     "text": [
      "\r 976/2000: average score 11.57"
     ]
    },
    {
     "name": "stdout",
     "output_type": "stream",
     "text": [
      "\r 977/2000: average score 11.56"
     ]
    },
    {
     "name": "stdout",
     "output_type": "stream",
     "text": [
      "\r 978/2000: average score 11.59"
     ]
    },
    {
     "name": "stdout",
     "output_type": "stream",
     "text": [
      "\r 979/2000: average score 11.67"
     ]
    },
    {
     "name": "stdout",
     "output_type": "stream",
     "text": [
      "\r 980/2000: average score 11.58"
     ]
    },
    {
     "name": "stdout",
     "output_type": "stream",
     "text": [
      "\r 981/2000: average score 11.60"
     ]
    },
    {
     "name": "stdout",
     "output_type": "stream",
     "text": [
      "\r 982/2000: average score 11.66"
     ]
    },
    {
     "name": "stdout",
     "output_type": "stream",
     "text": [
      "\r 983/2000: average score 11.72"
     ]
    },
    {
     "name": "stdout",
     "output_type": "stream",
     "text": [
      "\r 984/2000: average score 11.70"
     ]
    },
    {
     "name": "stdout",
     "output_type": "stream",
     "text": [
      "\r 985/2000: average score 11.69"
     ]
    },
    {
     "name": "stdout",
     "output_type": "stream",
     "text": [
      "\r 986/2000: average score 11.65"
     ]
    },
    {
     "name": "stdout",
     "output_type": "stream",
     "text": [
      "\r 987/2000: average score 11.68"
     ]
    },
    {
     "name": "stdout",
     "output_type": "stream",
     "text": [
      "\r 988/2000: average score 11.81"
     ]
    },
    {
     "name": "stdout",
     "output_type": "stream",
     "text": [
      "\r 989/2000: average score 11.73"
     ]
    },
    {
     "name": "stdout",
     "output_type": "stream",
     "text": [
      "\r 990/2000: average score 11.73"
     ]
    },
    {
     "name": "stdout",
     "output_type": "stream",
     "text": [
      "\r 991/2000: average score 11.75"
     ]
    },
    {
     "name": "stdout",
     "output_type": "stream",
     "text": [
      "\r 992/2000: average score 11.68"
     ]
    },
    {
     "name": "stdout",
     "output_type": "stream",
     "text": [
      "\r 993/2000: average score 11.74"
     ]
    },
    {
     "name": "stdout",
     "output_type": "stream",
     "text": [
      "\r 994/2000: average score 11.69"
     ]
    },
    {
     "name": "stdout",
     "output_type": "stream",
     "text": [
      "\r 995/2000: average score 11.77"
     ]
    },
    {
     "name": "stdout",
     "output_type": "stream",
     "text": [
      "\r 996/2000: average score 11.80"
     ]
    },
    {
     "name": "stdout",
     "output_type": "stream",
     "text": [
      "\r 997/2000: average score 11.86"
     ]
    },
    {
     "name": "stdout",
     "output_type": "stream",
     "text": [
      "\r 998/2000: average score 11.89"
     ]
    },
    {
     "name": "stdout",
     "output_type": "stream",
     "text": [
      "\r 999/2000: average score 11.93"
     ]
    },
    {
     "name": "stdout",
     "output_type": "stream",
     "text": [
      "\r 1000/2000: average score 12.00"
     ]
    },
    {
     "name": "stdout",
     "output_type": "stream",
     "text": [
      "\r 1001/2000: average score 12.01"
     ]
    },
    {
     "name": "stdout",
     "output_type": "stream",
     "text": [
      "\r 1002/2000: average score 11.99"
     ]
    },
    {
     "name": "stdout",
     "output_type": "stream",
     "text": [
      "\r 1003/2000: average score 12.08"
     ]
    },
    {
     "name": "stdout",
     "output_type": "stream",
     "text": [
      "\r 1004/2000: average score 11.97"
     ]
    },
    {
     "name": "stdout",
     "output_type": "stream",
     "text": [
      "\r 1005/2000: average score 12.05"
     ]
    },
    {
     "name": "stdout",
     "output_type": "stream",
     "text": [
      "\r 1006/2000: average score 12.13"
     ]
    },
    {
     "name": "stdout",
     "output_type": "stream",
     "text": [
      "\r 1007/2000: average score 12.14"
     ]
    },
    {
     "name": "stdout",
     "output_type": "stream",
     "text": [
      "\r 1008/2000: average score 12.10"
     ]
    },
    {
     "name": "stdout",
     "output_type": "stream",
     "text": [
      "\r 1009/2000: average score 12.06"
     ]
    },
    {
     "name": "stdout",
     "output_type": "stream",
     "text": [
      "\r 1010/2000: average score 12.03"
     ]
    },
    {
     "name": "stdout",
     "output_type": "stream",
     "text": [
      "\r 1011/2000: average score 12.04"
     ]
    },
    {
     "name": "stdout",
     "output_type": "stream",
     "text": [
      "\r 1012/2000: average score 12.05"
     ]
    },
    {
     "name": "stdout",
     "output_type": "stream",
     "text": [
      "\r 1013/2000: average score 11.99"
     ]
    },
    {
     "name": "stdout",
     "output_type": "stream",
     "text": [
      "\r 1014/2000: average score 11.90"
     ]
    },
    {
     "name": "stdout",
     "output_type": "stream",
     "text": [
      "\r 1015/2000: average score 11.96"
     ]
    },
    {
     "name": "stdout",
     "output_type": "stream",
     "text": [
      "\r 1016/2000: average score 12.04"
     ]
    },
    {
     "name": "stdout",
     "output_type": "stream",
     "text": [
      "\r 1017/2000: average score 12.00"
     ]
    },
    {
     "name": "stdout",
     "output_type": "stream",
     "text": [
      "\r 1018/2000: average score 12.07"
     ]
    },
    {
     "name": "stdout",
     "output_type": "stream",
     "text": [
      "\r 1019/2000: average score 12.14"
     ]
    },
    {
     "name": "stdout",
     "output_type": "stream",
     "text": [
      "\r 1020/2000: average score 12.10"
     ]
    },
    {
     "name": "stdout",
     "output_type": "stream",
     "text": [
      "\r 1021/2000: average score 12.16"
     ]
    },
    {
     "name": "stdout",
     "output_type": "stream",
     "text": [
      "\r 1022/2000: average score 12.17"
     ]
    },
    {
     "name": "stdout",
     "output_type": "stream",
     "text": [
      "\r 1023/2000: average score 12.18"
     ]
    },
    {
     "name": "stdout",
     "output_type": "stream",
     "text": [
      "\r 1024/2000: average score 12.14"
     ]
    },
    {
     "name": "stdout",
     "output_type": "stream",
     "text": [
      "\r 1025/2000: average score 12.11"
     ]
    },
    {
     "name": "stdout",
     "output_type": "stream",
     "text": [
      "\r 1026/2000: average score 12.11"
     ]
    },
    {
     "name": "stdout",
     "output_type": "stream",
     "text": [
      "\r 1027/2000: average score 12.08"
     ]
    },
    {
     "name": "stdout",
     "output_type": "stream",
     "text": [
      "\r 1028/2000: average score 12.16"
     ]
    },
    {
     "name": "stdout",
     "output_type": "stream",
     "text": [
      "\r 1029/2000: average score 12.14"
     ]
    },
    {
     "name": "stdout",
     "output_type": "stream",
     "text": [
      "\r 1030/2000: average score 12.15"
     ]
    },
    {
     "name": "stdout",
     "output_type": "stream",
     "text": [
      "\r 1031/2000: average score 12.15"
     ]
    },
    {
     "name": "stdout",
     "output_type": "stream",
     "text": [
      "\r 1032/2000: average score 12.14"
     ]
    },
    {
     "name": "stdout",
     "output_type": "stream",
     "text": [
      "\r 1033/2000: average score 12.16"
     ]
    },
    {
     "name": "stdout",
     "output_type": "stream",
     "text": [
      "\r 1034/2000: average score 12.19"
     ]
    },
    {
     "name": "stdout",
     "output_type": "stream",
     "text": [
      "\r 1035/2000: average score 12.24"
     ]
    },
    {
     "name": "stdout",
     "output_type": "stream",
     "text": [
      "\r 1036/2000: average score 12.24"
     ]
    },
    {
     "name": "stdout",
     "output_type": "stream",
     "text": [
      "\r 1037/2000: average score 12.29"
     ]
    },
    {
     "name": "stdout",
     "output_type": "stream",
     "text": [
      "\r 1038/2000: average score 12.26"
     ]
    },
    {
     "name": "stdout",
     "output_type": "stream",
     "text": [
      "\r 1039/2000: average score 12.14"
     ]
    },
    {
     "name": "stdout",
     "output_type": "stream",
     "text": [
      "\r 1040/2000: average score 12.17"
     ]
    },
    {
     "name": "stdout",
     "output_type": "stream",
     "text": [
      "\r 1041/2000: average score 12.18"
     ]
    },
    {
     "name": "stdout",
     "output_type": "stream",
     "text": [
      "\r 1042/2000: average score 12.28"
     ]
    },
    {
     "name": "stdout",
     "output_type": "stream",
     "text": [
      "\r 1043/2000: average score 12.17"
     ]
    },
    {
     "name": "stdout",
     "output_type": "stream",
     "text": [
      "\r 1044/2000: average score 12.22"
     ]
    },
    {
     "name": "stdout",
     "output_type": "stream",
     "text": [
      "\r 1045/2000: average score 12.34"
     ]
    },
    {
     "name": "stdout",
     "output_type": "stream",
     "text": [
      "\r 1046/2000: average score 12.40"
     ]
    },
    {
     "name": "stdout",
     "output_type": "stream",
     "text": [
      "\r 1047/2000: average score 12.51"
     ]
    },
    {
     "name": "stdout",
     "output_type": "stream",
     "text": [
      "\r 1048/2000: average score 12.59"
     ]
    },
    {
     "name": "stdout",
     "output_type": "stream",
     "text": [
      "\r 1049/2000: average score 12.63"
     ]
    },
    {
     "name": "stdout",
     "output_type": "stream",
     "text": [
      "\r 1050/2000: average score 12.52"
     ]
    },
    {
     "name": "stdout",
     "output_type": "stream",
     "text": [
      "\r 1051/2000: average score 12.55"
     ]
    },
    {
     "name": "stdout",
     "output_type": "stream",
     "text": [
      "\r 1052/2000: average score 12.59"
     ]
    },
    {
     "name": "stdout",
     "output_type": "stream",
     "text": [
      "\r 1053/2000: average score 12.63"
     ]
    },
    {
     "name": "stdout",
     "output_type": "stream",
     "text": [
      "\r 1054/2000: average score 12.58"
     ]
    },
    {
     "name": "stdout",
     "output_type": "stream",
     "text": [
      "\r 1055/2000: average score 12.63"
     ]
    },
    {
     "name": "stdout",
     "output_type": "stream",
     "text": [
      "\r 1056/2000: average score 12.65"
     ]
    },
    {
     "name": "stdout",
     "output_type": "stream",
     "text": [
      "\r 1057/2000: average score 12.64"
     ]
    },
    {
     "name": "stdout",
     "output_type": "stream",
     "text": [
      "\r 1058/2000: average score 12.53"
     ]
    },
    {
     "name": "stdout",
     "output_type": "stream",
     "text": [
      "\r 1059/2000: average score 12.61"
     ]
    },
    {
     "name": "stdout",
     "output_type": "stream",
     "text": [
      "\r 1060/2000: average score 12.60"
     ]
    },
    {
     "name": "stdout",
     "output_type": "stream",
     "text": [
      "\r 1061/2000: average score 12.59"
     ]
    },
    {
     "name": "stdout",
     "output_type": "stream",
     "text": [
      "\r 1062/2000: average score 12.61"
     ]
    },
    {
     "name": "stdout",
     "output_type": "stream",
     "text": [
      "\r 1063/2000: average score 12.68"
     ]
    },
    {
     "name": "stdout",
     "output_type": "stream",
     "text": [
      "\r 1064/2000: average score 12.73"
     ]
    },
    {
     "name": "stdout",
     "output_type": "stream",
     "text": [
      "\r 1065/2000: average score 12.74"
     ]
    },
    {
     "name": "stdout",
     "output_type": "stream",
     "text": [
      "\r 1066/2000: average score 12.86"
     ]
    },
    {
     "name": "stdout",
     "output_type": "stream",
     "text": [
      "\r 1067/2000: average score 12.92"
     ]
    },
    {
     "name": "stdout",
     "output_type": "stream",
     "text": [
      "\r 1068/2000: average score 12.96"
     ]
    },
    {
     "name": "stdout",
     "output_type": "stream",
     "text": [
      "\r 1069/2000: average score 12.93"
     ]
    },
    {
     "name": "stdout",
     "output_type": "stream",
     "text": [
      "\r 1070/2000: average score 12.99"
     ]
    },
    {
     "name": "stdout",
     "output_type": "stream",
     "text": [
      "\r 1071/2000: average score 13.03"
     ]
    },
    {
     "name": "stdout",
     "output_type": "stream",
     "text": [
      "\nsolved in 1071 episodes\n"
     ]
    },
    {
     "data": {
      "image/png": "[encoded data removed]",
      "text/plain": [
       "<Figure size 432x288 with 1 Axes>"
      ]
     },
     "metadata": {},
     "output_type": "display_data"
    },
    {
     "name": "stdout",
     "output_type": "stream",
     "text": [
      "save model to navigation_basic.pth\n"
     ]
    }
   ],
   "source": [
    "basic_monitor = Monitor()\n",
    "basic_params = Parameters()\n",
    "\n",
    "basic_monitor.run(basic_params, \"basic\")"
   ]
  },
  {
   "cell_type": "code",
   "execution_count": 4,
   "metadata": {},
   "outputs": [],
   "source": [
    ""
   ]
  },
  {
   "cell_type": "code",
   "execution_count": 5,
   "metadata": {},
   "outputs": [],
   "source": [
    ""
   ]
  },
  {
   "cell_type": "code",
   "execution_count": 6,
   "metadata": {},
   "outputs": [],
   "source": [
    ""
   ]
  },
  {
   "cell_type": "code",
   "execution_count": 7,
   "metadata": {},
   "outputs": [
    {
     "name": "stderr",
     "output_type": "stream",
     "text": [
      "INFO:unityagents:\n'Academy' started successfully!\nUnity Academy name: Academy\n        Number of Brains: 1\n        Number of External Brains : 1\n        Lesson number : 0\n        Reset Parameters :\n\t\t\nUnity brain name: BananaBrain\n        Number of Visual Observations (per agent): 0\n        Vector Observation space type: continuous\n        Vector Observation space size (per agent): 37\n        Number of stacked Vector Observation: 1\n        Vector Action space type: discrete\n        Vector Action space size (per agent): 4\n        Vector Action descriptions: , , , \n"
     ]
    }
   ],
   "source": [
    ""
   ]
  },
  {
   "cell_type": "code",
   "execution_count": 8,
   "metadata": {},
   "outputs": [
    {
     "name": "stderr",
     "output_type": "stream",
     "text": [
      "INFO:unityagents:\n'Academy' started successfully!\nUnity Academy name: Academy\n        Number of Brains: 1\n        Number of External Brains : 1\n        Lesson number : 0\n        Reset Parameters :\n\t\t\nUnity brain name: BananaBrain\n        Number of Visual Observations (per agent): 0\n        Vector Observation space type: continuous\n        Vector Observation space size (per agent): 37\n        Number of stacked Vector Observation: 1\n        Vector Action space type: discrete\n        Vector Action space size (per agent): 4\n        Vector Action descriptions: , , , \n"
     ]
    },
    {
     "name": "stdout",
     "output_type": "stream",
     "text": [
      "\r 0/2000: average score 0.00"
     ]
    },
    {
     "name": "stdout",
     "output_type": "stream",
     "text": [
      "\r 1/2000: average score 0.00"
     ]
    },
    {
     "name": "stdout",
     "output_type": "stream",
     "text": [
      "\r 2/2000: average score 0.00"
     ]
    },
    {
     "name": "stdout",
     "output_type": "stream",
     "text": [
      "\r 3/2000: average score -0.25"
     ]
    },
    {
     "name": "stdout",
     "output_type": "stream",
     "text": [
      "\r 4/2000: average score -0.40"
     ]
    },
    {
     "name": "stdout",
     "output_type": "stream",
     "text": [
      "\r 5/2000: average score -0.33"
     ]
    },
    {
     "name": "stdout",
     "output_type": "stream",
     "text": [
      "\r 6/2000: average score -0.29"
     ]
    },
    {
     "name": "stdout",
     "output_type": "stream",
     "text": [
      "\r 7/2000: average score -0.12"
     ]
    },
    {
     "name": "stdout",
     "output_type": "stream",
     "text": [
      "\r 8/2000: average score 0.00"
     ]
    },
    {
     "name": "stdout",
     "output_type": "stream",
     "text": [
      "\r 9/2000: average score -0.20"
     ]
    },
    {
     "name": "stdout",
     "output_type": "stream",
     "text": [
      "\r 10/2000: average score -0.64"
     ]
    },
    {
     "name": "stdout",
     "output_type": "stream",
     "text": [
      "\r 11/2000: average score -0.42"
     ]
    },
    {
     "name": "stdout",
     "output_type": "stream",
     "text": [
      "\r 12/2000: average score -0.54"
     ]
    },
    {
     "name": "stdout",
     "output_type": "stream",
     "text": [
      "\r 13/2000: average score -0.50"
     ]
    },
    {
     "name": "stdout",
     "output_type": "stream",
     "text": [
      "\r 14/2000: average score -0.53"
     ]
    },
    {
     "name": "stdout",
     "output_type": "stream",
     "text": [
      "\r 15/2000: average score -0.50"
     ]
    },
    {
     "name": "stdout",
     "output_type": "stream",
     "text": [
      "\r 16/2000: average score -0.47"
     ]
    },
    {
     "name": "stdout",
     "output_type": "stream",
     "text": [
      "\r 17/2000: average score -0.39"
     ]
    },
    {
     "name": "stdout",
     "output_type": "stream",
     "text": [
      "\r 18/2000: average score -0.32"
     ]
    },
    {
     "name": "stdout",
     "output_type": "stream",
     "text": [
      "\r 19/2000: average score -0.25"
     ]
    },
    {
     "name": "stdout",
     "output_type": "stream",
     "text": [
      "\r 20/2000: average score -0.24"
     ]
    },
    {
     "name": "stdout",
     "output_type": "stream",
     "text": [
      "\r 21/2000: average score -0.18"
     ]
    },
    {
     "name": "stdout",
     "output_type": "stream",
     "text": [
      "\r 22/2000: average score -0.22"
     ]
    },
    {
     "name": "stdout",
     "output_type": "stream",
     "text": [
      "\r 23/2000: average score -0.17"
     ]
    },
    {
     "name": "stdout",
     "output_type": "stream",
     "text": [
      "\r 24/2000: average score -0.24"
     ]
    },
    {
     "name": "stdout",
     "output_type": "stream",
     "text": [
      "\r 25/2000: average score -0.35"
     ]
    },
    {
     "name": "stdout",
     "output_type": "stream",
     "text": [
      "\r 26/2000: average score -0.41"
     ]
    },
    {
     "name": "stdout",
     "output_type": "stream",
     "text": [
      "\r 27/2000: average score -0.36"
     ]
    },
    {
     "name": "stdout",
     "output_type": "stream",
     "text": [
      "\r 28/2000: average score -0.38"
     ]
    },
    {
     "name": "stdout",
     "output_type": "stream",
     "text": [
      "\r 29/2000: average score -0.37"
     ]
    },
    {
     "name": "stdout",
     "output_type": "stream",
     "text": [
      "\r 30/2000: average score -0.32"
     ]
    },
    {
     "name": "stdout",
     "output_type": "stream",
     "text": [
      "\r 31/2000: average score -0.28"
     ]
    },
    {
     "name": "stdout",
     "output_type": "stream",
     "text": [
      "\r 32/2000: average score -0.33"
     ]
    },
    {
     "name": "stdout",
     "output_type": "stream",
     "text": [
      "\r 33/2000: average score -0.35"
     ]
    },
    {
     "name": "stdout",
     "output_type": "stream",
     "text": [
      "\r 34/2000: average score -0.34"
     ]
    },
    {
     "name": "stdout",
     "output_type": "stream",
     "text": [
      "\r 35/2000: average score -0.33"
     ]
    },
    {
     "name": "stdout",
     "output_type": "stream",
     "text": [
      "\r 36/2000: average score -0.32"
     ]
    },
    {
     "name": "stdout",
     "output_type": "stream",
     "text": [
      "\r 37/2000: average score -0.34"
     ]
    },
    {
     "name": "stdout",
     "output_type": "stream",
     "text": [
      "\r 38/2000: average score -0.36"
     ]
    },
    {
     "name": "stdout",
     "output_type": "stream",
     "text": [
      "\r 39/2000: average score -0.35"
     ]
    },
    {
     "name": "stdout",
     "output_type": "stream",
     "text": [
      "\r 40/2000: average score -0.37"
     ]
    },
    {
     "name": "stdout",
     "output_type": "stream",
     "text": [
      "\r 41/2000: average score -0.33"
     ]
    },
    {
     "name": "stdout",
     "output_type": "stream",
     "text": [
      "\r 42/2000: average score -0.33"
     ]
    },
    {
     "name": "stdout",
     "output_type": "stream",
     "text": [
      "\r 43/2000: average score -0.32"
     ]
    },
    {
     "name": "stdout",
     "output_type": "stream",
     "text": [
      "\r 44/2000: average score -0.31"
     ]
    },
    {
     "name": "stdout",
     "output_type": "stream",
     "text": [
      "\r 45/2000: average score -0.30"
     ]
    },
    {
     "name": "stdout",
     "output_type": "stream",
     "text": [
      "\r 46/2000: average score -0.32"
     ]
    },
    {
     "name": "stdout",
     "output_type": "stream",
     "text": [
      "\r 47/2000: average score -0.33"
     ]
    },
    {
     "name": "stdout",
     "output_type": "stream",
     "text": [
      "\r 48/2000: average score -0.33"
     ]
    },
    {
     "name": "stdout",
     "output_type": "stream",
     "text": [
      "\r 49/2000: average score -0.32"
     ]
    },
    {
     "name": "stdout",
     "output_type": "stream",
     "text": [
      "\r 50/2000: average score -0.25"
     ]
    },
    {
     "name": "stdout",
     "output_type": "stream",
     "text": [
      "\r 51/2000: average score -0.25"
     ]
    },
    {
     "name": "stdout",
     "output_type": "stream",
     "text": [
      "\r 52/2000: average score -0.25"
     ]
    },
    {
     "name": "stdout",
     "output_type": "stream",
     "text": [
      "\r 53/2000: average score -0.28"
     ]
    },
    {
     "name": "stdout",
     "output_type": "stream",
     "text": [
      "\r 54/2000: average score -0.27"
     ]
    },
    {
     "name": "stdout",
     "output_type": "stream",
     "text": [
      "\r 55/2000: average score -0.29"
     ]
    },
    {
     "name": "stdout",
     "output_type": "stream",
     "text": [
      "\r 56/2000: average score -0.23"
     ]
    },
    {
     "name": "stdout",
     "output_type": "stream",
     "text": [
      "\r 57/2000: average score -0.22"
     ]
    },
    {
     "name": "stdout",
     "output_type": "stream",
     "text": [
      "\r 58/2000: average score -0.22"
     ]
    },
    {
     "name": "stdout",
     "output_type": "stream",
     "text": [
      "\r 59/2000: average score -0.18"
     ]
    },
    {
     "name": "stdout",
     "output_type": "stream",
     "text": [
      "\r 60/2000: average score -0.15"
     ]
    },
    {
     "name": "stdout",
     "output_type": "stream",
     "text": [
      "\r 61/2000: average score -0.10"
     ]
    },
    {
     "name": "stdout",
     "output_type": "stream",
     "text": [
      "\r 62/2000: average score -0.08"
     ]
    },
    {
     "name": "stdout",
     "output_type": "stream",
     "text": [
      "\r 63/2000: average score -0.06"
     ]
    },
    {
     "name": "stdout",
     "output_type": "stream",
     "text": [
      "\r 64/2000: average score -0.05"
     ]
    },
    {
     "name": "stdout",
     "output_type": "stream",
     "text": [
      "\r 65/2000: average score -0.05"
     ]
    },
    {
     "name": "stdout",
     "output_type": "stream",
     "text": [
      "\r 66/2000: average score -0.03"
     ]
    },
    {
     "name": "stdout",
     "output_type": "stream",
     "text": [
      "\r 67/2000: average score 0.00"
     ]
    },
    {
     "name": "stdout",
     "output_type": "stream",
     "text": [
      "\r 68/2000: average score 0.07"
     ]
    },
    {
     "name": "stdout",
     "output_type": "stream",
     "text": [
      "\r 69/2000: average score 0.09"
     ]
    },
    {
     "name": "stdout",
     "output_type": "stream",
     "text": [
      "\r 70/2000: average score 0.11"
     ]
    },
    {
     "name": "stdout",
     "output_type": "stream",
     "text": [
      "\r 71/2000: average score 0.15"
     ]
    },
    {
     "name": "stdout",
     "output_type": "stream",
     "text": [
      "\r 72/2000: average score 0.15"
     ]
    },
    {
     "name": "stdout",
     "output_type": "stream",
     "text": [
      "\r 73/2000: average score 0.19"
     ]
    },
    {
     "name": "stdout",
     "output_type": "stream",
     "text": [
      "\r 74/2000: average score 0.17"
     ]
    },
    {
     "name": "stdout",
     "output_type": "stream",
     "text": [
      "\r 75/2000: average score 0.21"
     ]
    },
    {
     "name": "stdout",
     "output_type": "stream",
     "text": [
      "\r 76/2000: average score 0.23"
     ]
    },
    {
     "name": "stdout",
     "output_type": "stream",
     "text": [
      "\r 77/2000: average score 0.22"
     ]
    },
    {
     "name": "stdout",
     "output_type": "stream",
     "text": [
      "\r 78/2000: average score 0.29"
     ]
    },
    {
     "name": "stdout",
     "output_type": "stream",
     "text": [
      "\r 79/2000: average score 0.30"
     ]
    },
    {
     "name": "stdout",
     "output_type": "stream",
     "text": [
      "\r 80/2000: average score 0.38"
     ]
    },
    {
     "name": "stdout",
     "output_type": "stream",
     "text": [
      "\r 81/2000: average score 0.44"
     ]
    },
    {
     "name": "stdout",
     "output_type": "stream",
     "text": [
      "\r 82/2000: average score 0.46"
     ]
    },
    {
     "name": "stdout",
     "output_type": "stream",
     "text": [
      "\r 83/2000: average score 0.50"
     ]
    },
    {
     "name": "stdout",
     "output_type": "stream",
     "text": [
      "\r 84/2000: average score 0.52"
     ]
    },
    {
     "name": "stdout",
     "output_type": "stream",
     "text": [
      "\r 85/2000: average score 0.56"
     ]
    },
    {
     "name": "stdout",
     "output_type": "stream",
     "text": [
      "\r 86/2000: average score 0.63"
     ]
    },
    {
     "name": "stdout",
     "output_type": "stream",
     "text": [
      "\r 87/2000: average score 0.73"
     ]
    },
    {
     "name": "stdout",
     "output_type": "stream",
     "text": [
      "\r 88/2000: average score 0.83"
     ]
    },
    {
     "name": "stdout",
     "output_type": "stream",
     "text": [
      "\r 89/2000: average score 0.86"
     ]
    },
    {
     "name": "stdout",
     "output_type": "stream",
     "text": [
      "\r 90/2000: average score 0.93"
     ]
    },
    {
     "name": "stdout",
     "output_type": "stream",
     "text": [
      "\r 91/2000: average score 0.93"
     ]
    },
    {
     "name": "stdout",
     "output_type": "stream",
     "text": [
      "\r 92/2000: average score 0.96"
     ]
    },
    {
     "name": "stdout",
     "output_type": "stream",
     "text": [
      "\r 93/2000: average score 1.03"
     ]
    },
    {
     "name": "stdout",
     "output_type": "stream",
     "text": [
      "\r 94/2000: average score 1.13"
     ]
    },
    {
     "name": "stdout",
     "output_type": "stream",
     "text": [
      "\r 95/2000: average score 1.21"
     ]
    },
    {
     "name": "stdout",
     "output_type": "stream",
     "text": [
      "\r 96/2000: average score 1.27"
     ]
    },
    {
     "name": "stdout",
     "output_type": "stream",
     "text": [
      "\r 97/2000: average score 1.39"
     ]
    },
    {
     "name": "stdout",
     "output_type": "stream",
     "text": [
      "\r 98/2000: average score 1.40"
     ]
    },
    {
     "name": "stdout",
     "output_type": "stream",
     "text": [
      "\r 99/2000: average score 1.48"
     ]
    },
    {
     "name": "stdout",
     "output_type": "stream",
     "text": [
      "\r 100/2000: average score 1.50"
     ]
    },
    {
     "name": "stdout",
     "output_type": "stream",
     "text": [
      "\r 101/2000: average score 1.57"
     ]
    },
    {
     "name": "stdout",
     "output_type": "stream",
     "text": [
      "\r 102/2000: average score 1.62"
     ]
    },
    {
     "name": "stdout",
     "output_type": "stream",
     "text": [
      "\r 103/2000: average score 1.66"
     ]
    },
    {
     "name": "stdout",
     "output_type": "stream",
     "text": [
      "\r 104/2000: average score 1.79"
     ]
    },
    {
     "name": "stdout",
     "output_type": "stream",
     "text": [
      "\r 105/2000: average score 1.84"
     ]
    },
    {
     "name": "stdout",
     "output_type": "stream",
     "text": [
      "\r 106/2000: average score 1.97"
     ]
    },
    {
     "name": "stdout",
     "output_type": "stream",
     "text": [
      "\r 107/2000: average score 2.01"
     ]
    },
    {
     "name": "stdout",
     "output_type": "stream",
     "text": [
      "\r 108/2000: average score 2.14"
     ]
    },
    {
     "name": "stdout",
     "output_type": "stream",
     "text": [
      "\r 109/2000: average score 2.19"
     ]
    },
    {
     "name": "stdout",
     "output_type": "stream",
     "text": [
      "\r 110/2000: average score 2.33"
     ]
    },
    {
     "name": "stdout",
     "output_type": "stream",
     "text": [
      "\r 111/2000: average score 2.38"
     ]
    },
    {
     "name": "stdout",
     "output_type": "stream",
     "text": [
      "\r 112/2000: average score 2.41"
     ]
    },
    {
     "name": "stdout",
     "output_type": "stream",
     "text": [
      "\r 113/2000: average score 2.49"
     ]
    },
    {
     "name": "stdout",
     "output_type": "stream",
     "text": [
      "\r 114/2000: average score 2.57"
     ]
    },
    {
     "name": "stdout",
     "output_type": "stream",
     "text": [
      "\r 115/2000: average score 2.62"
     ]
    },
    {
     "name": "stdout",
     "output_type": "stream",
     "text": [
      "\r 116/2000: average score 2.67"
     ]
    },
    {
     "name": "stdout",
     "output_type": "stream",
     "text": [
      "\r 117/2000: average score 2.77"
     ]
    },
    {
     "name": "stdout",
     "output_type": "stream",
     "text": [
      "\r 118/2000: average score 2.81"
     ]
    },
    {
     "name": "stdout",
     "output_type": "stream",
     "text": [
      "\r 119/2000: average score 2.87"
     ]
    },
    {
     "name": "stdout",
     "output_type": "stream",
     "text": [
      "\r 120/2000: average score 2.95"
     ]
    },
    {
     "name": "stdout",
     "output_type": "stream",
     "text": [
      "\r 121/2000: average score 3.01"
     ]
    },
    {
     "name": "stdout",
     "output_type": "stream",
     "text": [
      "\r 122/2000: average score 3.09"
     ]
    },
    {
     "name": "stdout",
     "output_type": "stream",
     "text": [
      "\r 123/2000: average score 3.17"
     ]
    },
    {
     "name": "stdout",
     "output_type": "stream",
     "text": [
      "\r 124/2000: average score 3.22"
     ]
    },
    {
     "name": "stdout",
     "output_type": "stream",
     "text": [
      "\r 125/2000: average score 3.37"
     ]
    },
    {
     "name": "stdout",
     "output_type": "stream",
     "text": [
      "\r 126/2000: average score 3.40"
     ]
    },
    {
     "name": "stdout",
     "output_type": "stream",
     "text": [
      "\r 127/2000: average score 3.46"
     ]
    },
    {
     "name": "stdout",
     "output_type": "stream",
     "text": [
      "\r 128/2000: average score 3.57"
     ]
    },
    {
     "name": "stdout",
     "output_type": "stream",
     "text": [
      "\r 129/2000: average score 3.66"
     ]
    },
    {
     "name": "stdout",
     "output_type": "stream",
     "text": [
      "\r 130/2000: average score 3.75"
     ]
    },
    {
     "name": "stdout",
     "output_type": "stream",
     "text": [
      "\r 131/2000: average score 3.84"
     ]
    },
    {
     "name": "stdout",
     "output_type": "stream",
     "text": [
      "\r 132/2000: average score 3.89"
     ]
    },
    {
     "name": "stdout",
     "output_type": "stream",
     "text": [
      "\r 133/2000: average score 4.00"
     ]
    },
    {
     "name": "stdout",
     "output_type": "stream",
     "text": [
      "\r 134/2000: average score 4.07"
     ]
    },
    {
     "name": "stdout",
     "output_type": "stream",
     "text": [
      "\r 135/2000: average score 4.19"
     ]
    },
    {
     "name": "stdout",
     "output_type": "stream",
     "text": [
      "\r 136/2000: average score 4.28"
     ]
    },
    {
     "name": "stdout",
     "output_type": "stream",
     "text": [
      "\r 137/2000: average score 4.37"
     ]
    },
    {
     "name": "stdout",
     "output_type": "stream",
     "text": [
      "\r 138/2000: average score 4.46"
     ]
    },
    {
     "name": "stdout",
     "output_type": "stream",
     "text": [
      "\r 139/2000: average score 4.58"
     ]
    },
    {
     "name": "stdout",
     "output_type": "stream",
     "text": [
      "\r 140/2000: average score 4.73"
     ]
    },
    {
     "name": "stdout",
     "output_type": "stream",
     "text": [
      "\r 141/2000: average score 4.79"
     ]
    },
    {
     "name": "stdout",
     "output_type": "stream",
     "text": [
      "\r 142/2000: average score 4.81"
     ]
    },
    {
     "name": "stdout",
     "output_type": "stream",
     "text": [
      "\r 143/2000: average score 4.92"
     ]
    },
    {
     "name": "stdout",
     "output_type": "stream",
     "text": [
      "\r 144/2000: average score 4.99"
     ]
    },
    {
     "name": "stdout",
     "output_type": "stream",
     "text": [
      "\r 145/2000: average score 5.06"
     ]
    },
    {
     "name": "stdout",
     "output_type": "stream",
     "text": [
      "\r 146/2000: average score 5.10"
     ]
    },
    {
     "name": "stdout",
     "output_type": "stream",
     "text": [
      "\r 147/2000: average score 5.21"
     ]
    },
    {
     "name": "stdout",
     "output_type": "stream",
     "text": [
      "\r 148/2000: average score 5.33"
     ]
    },
    {
     "name": "stdout",
     "output_type": "stream",
     "text": [
      "\r 149/2000: average score 5.43"
     ]
    },
    {
     "name": "stdout",
     "output_type": "stream",
     "text": [
      "\r 150/2000: average score 5.47"
     ]
    },
    {
     "name": "stdout",
     "output_type": "stream",
     "text": [
      "\r 151/2000: average score 5.56"
     ]
    },
    {
     "name": "stdout",
     "output_type": "stream",
     "text": [
      "\r 152/2000: average score 5.63"
     ]
    },
    {
     "name": "stdout",
     "output_type": "stream",
     "text": [
      "\r 153/2000: average score 5.75"
     ]
    },
    {
     "name": "stdout",
     "output_type": "stream",
     "text": [
      "\r 154/2000: average score 5.84"
     ]
    },
    {
     "name": "stdout",
     "output_type": "stream",
     "text": [
      "\r 155/2000: average score 5.86"
     ]
    },
    {
     "name": "stdout",
     "output_type": "stream",
     "text": [
      "\r 156/2000: average score 5.93"
     ]
    },
    {
     "name": "stdout",
     "output_type": "stream",
     "text": [
      "\r 157/2000: average score 6.02"
     ]
    },
    {
     "name": "stdout",
     "output_type": "stream",
     "text": [
      "\r 158/2000: average score 6.07"
     ]
    },
    {
     "name": "stdout",
     "output_type": "stream",
     "text": [
      "\r 159/2000: average score 6.11"
     ]
    },
    {
     "name": "stdout",
     "output_type": "stream",
     "text": [
      "\r 160/2000: average score 6.16"
     ]
    },
    {
     "name": "stdout",
     "output_type": "stream",
     "text": [
      "\r 161/2000: average score 6.23"
     ]
    },
    {
     "name": "stdout",
     "output_type": "stream",
     "text": [
      "\r 162/2000: average score 6.32"
     ]
    },
    {
     "name": "stdout",
     "output_type": "stream",
     "text": [
      "\r 163/2000: average score 6.40"
     ]
    },
    {
     "name": "stdout",
     "output_type": "stream",
     "text": [
      "\r 164/2000: average score 6.49"
     ]
    },
    {
     "name": "stdout",
     "output_type": "stream",
     "text": [
      "\r 165/2000: average score 6.57"
     ]
    },
    {
     "name": "stdout",
     "output_type": "stream",
     "text": [
      "\r 166/2000: average score 6.64"
     ]
    },
    {
     "name": "stdout",
     "output_type": "stream",
     "text": [
      "\r 167/2000: average score 6.69"
     ]
    },
    {
     "name": "stdout",
     "output_type": "stream",
     "text": [
      "\r 168/2000: average score 6.71"
     ]
    },
    {
     "name": "stdout",
     "output_type": "stream",
     "text": [
      "\r 169/2000: average score 6.89"
     ]
    },
    {
     "name": "stdout",
     "output_type": "stream",
     "text": [
      "\r 170/2000: average score 6.96"
     ]
    },
    {
     "name": "stdout",
     "output_type": "stream",
     "text": [
      "\r 171/2000: average score 7.05"
     ]
    },
    {
     "name": "stdout",
     "output_type": "stream",
     "text": [
      "\r 172/2000: average score 7.15"
     ]
    },
    {
     "name": "stdout",
     "output_type": "stream",
     "text": [
      "\r 173/2000: average score 7.21"
     ]
    },
    {
     "name": "stdout",
     "output_type": "stream",
     "text": [
      "\r 174/2000: average score 7.28"
     ]
    },
    {
     "name": "stdout",
     "output_type": "stream",
     "text": [
      "\r 175/2000: average score 7.33"
     ]
    },
    {
     "name": "stdout",
     "output_type": "stream",
     "text": [
      "\r 176/2000: average score 7.38"
     ]
    },
    {
     "name": "stdout",
     "output_type": "stream",
     "text": [
      "\r 177/2000: average score 7.52"
     ]
    },
    {
     "name": "stdout",
     "output_type": "stream",
     "text": [
      "\r 178/2000: average score 7.59"
     ]
    },
    {
     "name": "stdout",
     "output_type": "stream",
     "text": [
      "\r 179/2000: average score 7.61"
     ]
    },
    {
     "name": "stdout",
     "output_type": "stream",
     "text": [
      "\r 180/2000: average score 7.62"
     ]
    },
    {
     "name": "stdout",
     "output_type": "stream",
     "text": [
      "\r 181/2000: average score 7.70"
     ]
    },
    {
     "name": "stdout",
     "output_type": "stream",
     "text": [
      "\r 182/2000: average score 7.80"
     ]
    },
    {
     "name": "stdout",
     "output_type": "stream",
     "text": [
      "\r 183/2000: average score 7.81"
     ]
    },
    {
     "name": "stdout",
     "output_type": "stream",
     "text": [
      "\r 184/2000: average score 7.86"
     ]
    },
    {
     "name": "stdout",
     "output_type": "stream",
     "text": [
      "\r 185/2000: average score 8.00"
     ]
    },
    {
     "name": "stdout",
     "output_type": "stream",
     "text": [
      "\r 186/2000: average score 8.05"
     ]
    },
    {
     "name": "stdout",
     "output_type": "stream",
     "text": [
      "\r 187/2000: average score 8.01"
     ]
    },
    {
     "name": "stdout",
     "output_type": "stream",
     "text": [
      "\r 188/2000: average score 7.96"
     ]
    },
    {
     "name": "stdout",
     "output_type": "stream",
     "text": [
      "\r 189/2000: average score 8.02"
     ]
    },
    {
     "name": "stdout",
     "output_type": "stream",
     "text": [
      "\r 190/2000: average score 7.96"
     ]
    },
    {
     "name": "stdout",
     "output_type": "stream",
     "text": [
      "\r 191/2000: average score 8.08"
     ]
    },
    {
     "name": "stdout",
     "output_type": "stream",
     "text": [
      "\r 192/2000: average score 8.09"
     ]
    },
    {
     "name": "stdout",
     "output_type": "stream",
     "text": [
      "\r 193/2000: average score 8.13"
     ]
    },
    {
     "name": "stdout",
     "output_type": "stream",
     "text": [
      "\r 194/2000: average score 8.16"
     ]
    },
    {
     "name": "stdout",
     "output_type": "stream",
     "text": [
      "\r 195/2000: average score 8.14"
     ]
    },
    {
     "name": "stdout",
     "output_type": "stream",
     "text": [
      "\r 196/2000: average score 8.22"
     ]
    },
    {
     "name": "stdout",
     "output_type": "stream",
     "text": [
      "\r 197/2000: average score 8.19"
     ]
    },
    {
     "name": "stdout",
     "output_type": "stream",
     "text": [
      "\r 198/2000: average score 8.26"
     ]
    },
    {
     "name": "stdout",
     "output_type": "stream",
     "text": [
      "\r 199/2000: average score 8.28"
     ]
    },
    {
     "name": "stdout",
     "output_type": "stream",
     "text": [
      "\r 200/2000: average score 8.35"
     ]
    },
    {
     "name": "stdout",
     "output_type": "stream",
     "text": [
      "\r 201/2000: average score 8.38"
     ]
    },
    {
     "name": "stdout",
     "output_type": "stream",
     "text": [
      "\r 202/2000: average score 8.41"
     ]
    },
    {
     "name": "stdout",
     "output_type": "stream",
     "text": [
      "\r 203/2000: average score 8.46"
     ]
    },
    {
     "name": "stdout",
     "output_type": "stream",
     "text": [
      "\r 204/2000: average score 8.45"
     ]
    },
    {
     "name": "stdout",
     "output_type": "stream",
     "text": [
      "\r 205/2000: average score 8.48"
     ]
    },
    {
     "name": "stdout",
     "output_type": "stream",
     "text": [
      "\r 206/2000: average score 8.46"
     ]
    },
    {
     "name": "stdout",
     "output_type": "stream",
     "text": [
      "\r 207/2000: average score 8.52"
     ]
    },
    {
     "name": "stdout",
     "output_type": "stream",
     "text": [
      "\r 208/2000: average score 8.39"
     ]
    },
    {
     "name": "stdout",
     "output_type": "stream",
     "text": [
      "\r 209/2000: average score 8.50"
     ]
    },
    {
     "name": "stdout",
     "output_type": "stream",
     "text": [
      "\r 210/2000: average score 8.52"
     ]
    },
    {
     "name": "stdout",
     "output_type": "stream",
     "text": [
      "\r 211/2000: average score 8.54"
     ]
    },
    {
     "name": "stdout",
     "output_type": "stream",
     "text": [
      "\r 212/2000: average score 8.67"
     ]
    },
    {
     "name": "stdout",
     "output_type": "stream",
     "text": [
      "\r 213/2000: average score 8.72"
     ]
    },
    {
     "name": "stdout",
     "output_type": "stream",
     "text": [
      "\r 214/2000: average score 8.80"
     ]
    },
    {
     "name": "stdout",
     "output_type": "stream",
     "text": [
      "\r 215/2000: average score 8.83"
     ]
    },
    {
     "name": "stdout",
     "output_type": "stream",
     "text": [
      "\r 216/2000: average score 8.88"
     ]
    },
    {
     "name": "stdout",
     "output_type": "stream",
     "text": [
      "\r 217/2000: average score 8.84"
     ]
    },
    {
     "name": "stdout",
     "output_type": "stream",
     "text": [
      "\r 218/2000: average score 8.92"
     ]
    },
    {
     "name": "stdout",
     "output_type": "stream",
     "text": [
      "\r 219/2000: average score 8.94"
     ]
    },
    {
     "name": "stdout",
     "output_type": "stream",
     "text": [
      "\r 220/2000: average score 8.95"
     ]
    },
    {
     "name": "stdout",
     "output_type": "stream",
     "text": [
      "\r 221/2000: average score 8.93"
     ]
    },
    {
     "name": "stdout",
     "output_type": "stream",
     "text": [
      "\r 222/2000: average score 8.96"
     ]
    },
    {
     "name": "stdout",
     "output_type": "stream",
     "text": [
      "\r 223/2000: average score 8.98"
     ]
    },
    {
     "name": "stdout",
     "output_type": "stream",
     "text": [
      "\r 224/2000: average score 9.05"
     ]
    },
    {
     "name": "stdout",
     "output_type": "stream",
     "text": [
      "\r 225/2000: average score 9.11"
     ]
    },
    {
     "name": "stdout",
     "output_type": "stream",
     "text": [
      "\r 226/2000: average score 9.19"
     ]
    },
    {
     "name": "stdout",
     "output_type": "stream",
     "text": [
      "\r 227/2000: average score 9.20"
     ]
    },
    {
     "name": "stdout",
     "output_type": "stream",
     "text": [
      "\r 228/2000: average score 9.24"
     ]
    },
    {
     "name": "stdout",
     "output_type": "stream",
     "text": [
      "\r 229/2000: average score 9.29"
     ]
    },
    {
     "name": "stdout",
     "output_type": "stream",
     "text": [
      "\r 230/2000: average score 9.22"
     ]
    },
    {
     "name": "stdout",
     "output_type": "stream",
     "text": [
      "\r 231/2000: average score 9.24"
     ]
    },
    {
     "name": "stdout",
     "output_type": "stream",
     "text": [
      "\r 232/2000: average score 9.25"
     ]
    },
    {
     "name": "stdout",
     "output_type": "stream",
     "text": [
      "\r 233/2000: average score 9.23"
     ]
    },
    {
     "name": "stdout",
     "output_type": "stream",
     "text": [
      "\r 234/2000: average score 9.25"
     ]
    },
    {
     "name": "stdout",
     "output_type": "stream",
     "text": [
      "\r 235/2000: average score 9.19"
     ]
    },
    {
     "name": "stdout",
     "output_type": "stream",
     "text": [
      "\r 236/2000: average score 9.17"
     ]
    },
    {
     "name": "stdout",
     "output_type": "stream",
     "text": [
      "\r 237/2000: average score 9.21"
     ]
    },
    {
     "name": "stdout",
     "output_type": "stream",
     "text": [
      "\r 238/2000: average score 9.26"
     ]
    },
    {
     "name": "stdout",
     "output_type": "stream",
     "text": [
      "\r 239/2000: average score 9.25"
     ]
    },
    {
     "name": "stdout",
     "output_type": "stream",
     "text": [
      "\r 240/2000: average score 9.21"
     ]
    },
    {
     "name": "stdout",
     "output_type": "stream",
     "text": [
      "\r 241/2000: average score 9.25"
     ]
    },
    {
     "name": "stdout",
     "output_type": "stream",
     "text": [
      "\r 242/2000: average score 9.31"
     ]
    },
    {
     "name": "stdout",
     "output_type": "stream",
     "text": [
      "\r 243/2000: average score 9.32"
     ]
    },
    {
     "name": "stdout",
     "output_type": "stream",
     "text": [
      "\r 244/2000: average score 9.30"
     ]
    },
    {
     "name": "stdout",
     "output_type": "stream",
     "text": [
      "\r 245/2000: average score 9.31"
     ]
    },
    {
     "name": "stdout",
     "output_type": "stream",
     "text": [
      "\r 246/2000: average score 9.38"
     ]
    },
    {
     "name": "stdout",
     "output_type": "stream",
     "text": [
      "\r 247/2000: average score 9.37"
     ]
    },
    {
     "name": "stdout",
     "output_type": "stream",
     "text": [
      "\r 248/2000: average score 9.40"
     ]
    },
    {
     "name": "stdout",
     "output_type": "stream",
     "text": [
      "\r 249/2000: average score 9.37"
     ]
    },
    {
     "name": "stdout",
     "output_type": "stream",
     "text": [
      "\r 250/2000: average score 9.36"
     ]
    },
    {
     "name": "stdout",
     "output_type": "stream",
     "text": [
      "\r 251/2000: average score 9.34"
     ]
    },
    {
     "name": "stdout",
     "output_type": "stream",
     "text": [
      "\r 252/2000: average score 9.31"
     ]
    },
    {
     "name": "stdout",
     "output_type": "stream",
     "text": [
      "\r 253/2000: average score 9.31"
     ]
    },
    {
     "name": "stdout",
     "output_type": "stream",
     "text": [
      "\r 254/2000: average score 9.26"
     ]
    },
    {
     "name": "stdout",
     "output_type": "stream",
     "text": [
      "\r 255/2000: average score 9.35"
     ]
    },
    {
     "name": "stdout",
     "output_type": "stream",
     "text": [
      "\r 256/2000: average score 9.38"
     ]
    },
    {
     "name": "stdout",
     "output_type": "stream",
     "text": [
      "\r 257/2000: average score 9.37"
     ]
    },
    {
     "name": "stdout",
     "output_type": "stream",
     "text": [
      "\r 258/2000: average score 9.39"
     ]
    },
    {
     "name": "stdout",
     "output_type": "stream",
     "text": [
      "\r 259/2000: average score 9.49"
     ]
    },
    {
     "name": "stdout",
     "output_type": "stream",
     "text": [
      "\r 260/2000: average score 9.47"
     ]
    },
    {
     "name": "stdout",
     "output_type": "stream",
     "text": [
      "\r 261/2000: average score 9.52"
     ]
    },
    {
     "name": "stdout",
     "output_type": "stream",
     "text": [
      "\r 262/2000: average score 9.44"
     ]
    },
    {
     "name": "stdout",
     "output_type": "stream",
     "text": [
      "\r 263/2000: average score 9.41"
     ]
    },
    {
     "name": "stdout",
     "output_type": "stream",
     "text": [
      "\r 264/2000: average score 9.38"
     ]
    },
    {
     "name": "stdout",
     "output_type": "stream",
     "text": [
      "\r 265/2000: average score 9.32"
     ]
    },
    {
     "name": "stdout",
     "output_type": "stream",
     "text": [
      "\r 266/2000: average score 9.34"
     ]
    },
    {
     "name": "stdout",
     "output_type": "stream",
     "text": [
      "\r 267/2000: average score 9.43"
     ]
    },
    {
     "name": "stdout",
     "output_type": "stream",
     "text": [
      "\r 268/2000: average score 9.46"
     ]
    },
    {
     "name": "stdout",
     "output_type": "stream",
     "text": [
      "\r 269/2000: average score 9.36"
     ]
    },
    {
     "name": "stdout",
     "output_type": "stream",
     "text": [
      "\r 270/2000: average score 9.35"
     ]
    },
    {
     "name": "stdout",
     "output_type": "stream",
     "text": [
      "\r 271/2000: average score 9.35"
     ]
    },
    {
     "name": "stdout",
     "output_type": "stream",
     "text": [
      "\r 272/2000: average score 9.36"
     ]
    },
    {
     "name": "stdout",
     "output_type": "stream",
     "text": [
      "\r 273/2000: average score 9.48"
     ]
    },
    {
     "name": "stdout",
     "output_type": "stream",
     "text": [
      "\r 274/2000: average score 9.52"
     ]
    },
    {
     "name": "stdout",
     "output_type": "stream",
     "text": [
      "\r 275/2000: average score 9.64"
     ]
    },
    {
     "name": "stdout",
     "output_type": "stream",
     "text": [
      "\r 276/2000: average score 9.66"
     ]
    },
    {
     "name": "stdout",
     "output_type": "stream",
     "text": [
      "\r 277/2000: average score 9.65"
     ]
    },
    {
     "name": "stdout",
     "output_type": "stream",
     "text": [
      "\r 278/2000: average score 9.59"
     ]
    },
    {
     "name": "stdout",
     "output_type": "stream",
     "text": [
      "\r 279/2000: average score 9.68"
     ]
    },
    {
     "name": "stdout",
     "output_type": "stream",
     "text": [
      "\r 280/2000: average score 9.69"
     ]
    },
    {
     "name": "stdout",
     "output_type": "stream",
     "text": [
      "\r 281/2000: average score 9.65"
     ]
    },
    {
     "name": "stdout",
     "output_type": "stream",
     "text": [
      "\r 282/2000: average score 9.61"
     ]
    },
    {
     "name": "stdout",
     "output_type": "stream",
     "text": [
      "\r 283/2000: average score 9.68"
     ]
    },
    {
     "name": "stdout",
     "output_type": "stream",
     "text": [
      "\r 284/2000: average score 9.68"
     ]
    },
    {
     "name": "stdout",
     "output_type": "stream",
     "text": [
      "\r 285/2000: average score 9.60"
     ]
    },
    {
     "name": "stdout",
     "output_type": "stream",
     "text": [
      "\r 286/2000: average score 9.60"
     ]
    },
    {
     "name": "stdout",
     "output_type": "stream",
     "text": [
      "\r 287/2000: average score 9.64"
     ]
    },
    {
     "name": "stdout",
     "output_type": "stream",
     "text": [
      "\r 288/2000: average score 9.73"
     ]
    },
    {
     "name": "stdout",
     "output_type": "stream",
     "text": [
      "\r 289/2000: average score 9.80"
     ]
    },
    {
     "name": "stdout",
     "output_type": "stream",
     "text": [
      "\r 290/2000: average score 9.85"
     ]
    },
    {
     "name": "stdout",
     "output_type": "stream",
     "text": [
      "\r 291/2000: average score 9.81"
     ]
    },
    {
     "name": "stdout",
     "output_type": "stream",
     "text": [
      "\r 292/2000: average score 9.86"
     ]
    },
    {
     "name": "stdout",
     "output_type": "stream",
     "text": [
      "\r 293/2000: average score 9.79"
     ]
    },
    {
     "name": "stdout",
     "output_type": "stream",
     "text": [
      "\r 294/2000: average score 9.82"
     ]
    },
    {
     "name": "stdout",
     "output_type": "stream",
     "text": [
      "\r 295/2000: average score 9.82"
     ]
    },
    {
     "name": "stdout",
     "output_type": "stream",
     "text": [
      "\r 296/2000: average score 9.81"
     ]
    },
    {
     "name": "stdout",
     "output_type": "stream",
     "text": [
      "\r 297/2000: average score 9.86"
     ]
    },
    {
     "name": "stdout",
     "output_type": "stream",
     "text": [
      "\r 298/2000: average score 9.81"
     ]
    },
    {
     "name": "stdout",
     "output_type": "stream",
     "text": [
      "\r 299/2000: average score 9.78"
     ]
    },
    {
     "name": "stdout",
     "output_type": "stream",
     "text": [
      "\r 300/2000: average score 9.87"
     ]
    },
    {
     "name": "stdout",
     "output_type": "stream",
     "text": [
      "\r 301/2000: average score 9.95"
     ]
    },
    {
     "name": "stdout",
     "output_type": "stream",
     "text": [
      "\r 302/2000: average score 9.98"
     ]
    },
    {
     "name": "stdout",
     "output_type": "stream",
     "text": [
      "\r 303/2000: average score 10.00"
     ]
    },
    {
     "name": "stdout",
     "output_type": "stream",
     "text": [
      "\r 304/2000: average score 10.09"
     ]
    },
    {
     "name": "stdout",
     "output_type": "stream",
     "text": [
      "\r 305/2000: average score 10.20"
     ]
    },
    {
     "name": "stdout",
     "output_type": "stream",
     "text": [
      "\r 306/2000: average score 10.25"
     ]
    },
    {
     "name": "stdout",
     "output_type": "stream",
     "text": [
      "\r 307/2000: average score 10.20"
     ]
    },
    {
     "name": "stdout",
     "output_type": "stream",
     "text": [
      "\r 308/2000: average score 10.27"
     ]
    },
    {
     "name": "stdout",
     "output_type": "stream",
     "text": [
      "\r 309/2000: average score 10.31"
     ]
    },
    {
     "name": "stdout",
     "output_type": "stream",
     "text": [
      "\r 310/2000: average score 10.32"
     ]
    },
    {
     "name": "stdout",
     "output_type": "stream",
     "text": [
      "\r 311/2000: average score 10.36"
     ]
    },
    {
     "name": "stdout",
     "output_type": "stream",
     "text": [
      "\r 312/2000: average score 10.29"
     ]
    },
    {
     "name": "stdout",
     "output_type": "stream",
     "text": [
      "\r 313/2000: average score 10.31"
     ]
    },
    {
     "name": "stdout",
     "output_type": "stream",
     "text": [
      "\r 314/2000: average score 10.27"
     ]
    },
    {
     "name": "stdout",
     "output_type": "stream",
     "text": [
      "\r 315/2000: average score 10.28"
     ]
    },
    {
     "name": "stdout",
     "output_type": "stream",
     "text": [
      "\r 316/2000: average score 10.27"
     ]
    },
    {
     "name": "stdout",
     "output_type": "stream",
     "text": [
      "\r 317/2000: average score 10.33"
     ]
    },
    {
     "name": "stdout",
     "output_type": "stream",
     "text": [
      "\r 318/2000: average score 10.36"
     ]
    },
    {
     "name": "stdout",
     "output_type": "stream",
     "text": [
      "\r 319/2000: average score 10.43"
     ]
    },
    {
     "name": "stdout",
     "output_type": "stream",
     "text": [
      "\r 320/2000: average score 10.46"
     ]
    },
    {
     "name": "stdout",
     "output_type": "stream",
     "text": [
      "\r 321/2000: average score 10.53"
     ]
    },
    {
     "name": "stdout",
     "output_type": "stream",
     "text": [
      "\r 322/2000: average score 10.59"
     ]
    },
    {
     "name": "stdout",
     "output_type": "stream",
     "text": [
      "\r 323/2000: average score 10.61"
     ]
    },
    {
     "name": "stdout",
     "output_type": "stream",
     "text": [
      "\r 324/2000: average score 10.64"
     ]
    },
    {
     "name": "stdout",
     "output_type": "stream",
     "text": [
      "\r 325/2000: average score 10.50"
     ]
    },
    {
     "name": "stdout",
     "output_type": "stream",
     "text": [
      "\r 326/2000: average score 10.50"
     ]
    },
    {
     "name": "stdout",
     "output_type": "stream",
     "text": [
      "\r 327/2000: average score 10.45"
     ]
    },
    {
     "name": "stdout",
     "output_type": "stream",
     "text": [
      "\r 328/2000: average score 10.42"
     ]
    },
    {
     "name": "stdout",
     "output_type": "stream",
     "text": [
      "\r 329/2000: average score 10.46"
     ]
    },
    {
     "name": "stdout",
     "output_type": "stream",
     "text": [
      "\r 330/2000: average score 10.55"
     ]
    },
    {
     "name": "stdout",
     "output_type": "stream",
     "text": [
      "\r 331/2000: average score 10.50"
     ]
    },
    {
     "name": "stdout",
     "output_type": "stream",
     "text": [
      "\r 332/2000: average score 10.61"
     ]
    },
    {
     "name": "stdout",
     "output_type": "stream",
     "text": [
      "\r 333/2000: average score 10.67"
     ]
    },
    {
     "name": "stdout",
     "output_type": "stream",
     "text": [
      "\r 334/2000: average score 10.65"
     ]
    },
    {
     "name": "stdout",
     "output_type": "stream",
     "text": [
      "\r 335/2000: average score 10.71"
     ]
    },
    {
     "name": "stdout",
     "output_type": "stream",
     "text": [
      "\r 336/2000: average score 10.77"
     ]
    },
    {
     "name": "stdout",
     "output_type": "stream",
     "text": [
      "\r 337/2000: average score 10.80"
     ]
    },
    {
     "name": "stdout",
     "output_type": "stream",
     "text": [
      "\r 338/2000: average score 10.83"
     ]
    },
    {
     "name": "stdout",
     "output_type": "stream",
     "text": [
      "\r 339/2000: average score 10.81"
     ]
    },
    {
     "name": "stdout",
     "output_type": "stream",
     "text": [
      "\r 340/2000: average score 10.80"
     ]
    },
    {
     "name": "stdout",
     "output_type": "stream",
     "text": [
      "\r 341/2000: average score 10.81"
     ]
    },
    {
     "name": "stdout",
     "output_type": "stream",
     "text": [
      "\r 342/2000: average score 10.88"
     ]
    },
    {
     "name": "stdout",
     "output_type": "stream",
     "text": [
      "\r 343/2000: average score 10.83"
     ]
    },
    {
     "name": "stdout",
     "output_type": "stream",
     "text": [
      "\r 344/2000: average score 10.95"
     ]
    },
    {
     "name": "stdout",
     "output_type": "stream",
     "text": [
      "\r 345/2000: average score 11.00"
     ]
    },
    {
     "name": "stdout",
     "output_type": "stream",
     "text": [
      "\r 346/2000: average score 10.93"
     ]
    },
    {
     "name": "stdout",
     "output_type": "stream",
     "text": [
      "\r 347/2000: average score 10.97"
     ]
    },
    {
     "name": "stdout",
     "output_type": "stream",
     "text": [
      "\r 348/2000: average score 11.01"
     ]
    },
    {
     "name": "stdout",
     "output_type": "stream",
     "text": [
      "\r 349/2000: average score 11.05"
     ]
    },
    {
     "name": "stdout",
     "output_type": "stream",
     "text": [
      "\r 350/2000: average score 11.15"
     ]
    },
    {
     "name": "stdout",
     "output_type": "stream",
     "text": [
      "\r 351/2000: average score 11.25"
     ]
    },
    {
     "name": "stdout",
     "output_type": "stream",
     "text": [
      "\r 352/2000: average score 11.34"
     ]
    },
    {
     "name": "stdout",
     "output_type": "stream",
     "text": [
      "\r 353/2000: average score 11.39"
     ]
    },
    {
     "name": "stdout",
     "output_type": "stream",
     "text": [
      "\r 354/2000: average score 11.52"
     ]
    },
    {
     "name": "stdout",
     "output_type": "stream",
     "text": [
      "\r 355/2000: average score 11.59"
     ]
    },
    {
     "name": "stdout",
     "output_type": "stream",
     "text": [
      "\r 356/2000: average score 11.56"
     ]
    },
    {
     "name": "stdout",
     "output_type": "stream",
     "text": [
      "\r 357/2000: average score 11.67"
     ]
    },
    {
     "name": "stdout",
     "output_type": "stream",
     "text": [
      "\r 358/2000: average score 11.72"
     ]
    },
    {
     "name": "stdout",
     "output_type": "stream",
     "text": [
      "\r 359/2000: average score 11.64"
     ]
    },
    {
     "name": "stdout",
     "output_type": "stream",
     "text": [
      "\r 360/2000: average score 11.75"
     ]
    },
    {
     "name": "stdout",
     "output_type": "stream",
     "text": [
      "\r 361/2000: average score 11.69"
     ]
    },
    {
     "name": "stdout",
     "output_type": "stream",
     "text": [
      "\r 362/2000: average score 11.83"
     ]
    },
    {
     "name": "stdout",
     "output_type": "stream",
     "text": [
      "\r 363/2000: average score 11.89"
     ]
    },
    {
     "name": "stdout",
     "output_type": "stream",
     "text": [
      "\r 364/2000: average score 11.95"
     ]
    },
    {
     "name": "stdout",
     "output_type": "stream",
     "text": [
      "\r 365/2000: average score 12.11"
     ]
    },
    {
     "name": "stdout",
     "output_type": "stream",
     "text": [
      "\r 366/2000: average score 12.10"
     ]
    },
    {
     "name": "stdout",
     "output_type": "stream",
     "text": [
      "\r 367/2000: average score 12.03"
     ]
    },
    {
     "name": "stdout",
     "output_type": "stream",
     "text": [
      "\r 368/2000: average score 12.11"
     ]
    },
    {
     "name": "stdout",
     "output_type": "stream",
     "text": [
      "\r 369/2000: average score 12.12"
     ]
    },
    {
     "name": "stdout",
     "output_type": "stream",
     "text": [
      "\r 370/2000: average score 12.19"
     ]
    },
    {
     "name": "stdout",
     "output_type": "stream",
     "text": [
      "\r 371/2000: average score 12.16"
     ]
    },
    {
     "name": "stdout",
     "output_type": "stream",
     "text": [
      "\r 372/2000: average score 12.13"
     ]
    },
    {
     "name": "stdout",
     "output_type": "stream",
     "text": [
      "\r 373/2000: average score 12.05"
     ]
    },
    {
     "name": "stdout",
     "output_type": "stream",
     "text": [
      "\r 374/2000: average score 12.00"
     ]
    },
    {
     "name": "stdout",
     "output_type": "stream",
     "text": [
      "\r 375/2000: average score 11.93"
     ]
    },
    {
     "name": "stdout",
     "output_type": "stream",
     "text": [
      "\r 376/2000: average score 12.01"
     ]
    },
    {
     "name": "stdout",
     "output_type": "stream",
     "text": [
      "\r 377/2000: average score 11.99"
     ]
    },
    {
     "name": "stdout",
     "output_type": "stream",
     "text": [
      "\r 378/2000: average score 12.03"
     ]
    },
    {
     "name": "stdout",
     "output_type": "stream",
     "text": [
      "\r 379/2000: average score 12.05"
     ]
    },
    {
     "name": "stdout",
     "output_type": "stream",
     "text": [
      "\r 380/2000: average score 12.07"
     ]
    },
    {
     "name": "stdout",
     "output_type": "stream",
     "text": [
      "\r 381/2000: average score 12.10"
     ]
    },
    {
     "name": "stdout",
     "output_type": "stream",
     "text": [
      "\r 382/2000: average score 12.08"
     ]
    },
    {
     "name": "stdout",
     "output_type": "stream",
     "text": [
      "\r 383/2000: average score 12.02"
     ]
    },
    {
     "name": "stdout",
     "output_type": "stream",
     "text": [
      "\r 384/2000: average score 12.11"
     ]
    },
    {
     "name": "stdout",
     "output_type": "stream",
     "text": [
      "\r 385/2000: average score 12.17"
     ]
    },
    {
     "name": "stdout",
     "output_type": "stream",
     "text": [
      "\r 386/2000: average score 12.15"
     ]
    },
    {
     "name": "stdout",
     "output_type": "stream",
     "text": [
      "\r 387/2000: average score 12.11"
     ]
    },
    {
     "name": "stdout",
     "output_type": "stream",
     "text": [
      "\r 388/2000: average score 12.06"
     ]
    },
    {
     "name": "stdout",
     "output_type": "stream",
     "text": [
      "\r 389/2000: average score 12.01"
     ]
    },
    {
     "name": "stdout",
     "output_type": "stream",
     "text": [
      "\r 390/2000: average score 12.05"
     ]
    },
    {
     "name": "stdout",
     "output_type": "stream",
     "text": [
      "\r 391/2000: average score 12.08"
     ]
    },
    {
     "name": "stdout",
     "output_type": "stream",
     "text": [
      "\r 392/2000: average score 12.10"
     ]
    },
    {
     "name": "stdout",
     "output_type": "stream",
     "text": [
      "\r 393/2000: average score 12.22"
     ]
    },
    {
     "name": "stdout",
     "output_type": "stream",
     "text": [
      "\r 394/2000: average score 12.12"
     ]
    },
    {
     "name": "stdout",
     "output_type": "stream",
     "text": [
      "\r 395/2000: average score 12.10"
     ]
    },
    {
     "name": "stdout",
     "output_type": "stream",
     "text": [
      "\r 396/2000: average score 12.19"
     ]
    },
    {
     "name": "stdout",
     "output_type": "stream",
     "text": [
      "\r 397/2000: average score 12.11"
     ]
    },
    {
     "name": "stdout",
     "output_type": "stream",
     "text": [
      "\r 398/2000: average score 12.18"
     ]
    },
    {
     "name": "stdout",
     "output_type": "stream",
     "text": [
      "\r 399/2000: average score 12.25"
     ]
    },
    {
     "name": "stdout",
     "output_type": "stream",
     "text": [
      "\r 400/2000: average score 12.15"
     ]
    },
    {
     "name": "stdout",
     "output_type": "stream",
     "text": [
      "\r 401/2000: average score 12.15"
     ]
    },
    {
     "name": "stdout",
     "output_type": "stream",
     "text": [
      "\r 402/2000: average score 12.14"
     ]
    },
    {
     "name": "stdout",
     "output_type": "stream",
     "text": [
      "\r 403/2000: average score 12.11"
     ]
    },
    {
     "name": "stdout",
     "output_type": "stream",
     "text": [
      "\r 404/2000: average score 11.94"
     ]
    },
    {
     "name": "stdout",
     "output_type": "stream",
     "text": [
      "\r 405/2000: average score 11.89"
     ]
    },
    {
     "name": "stdout",
     "output_type": "stream",
     "text": [
      "\r 406/2000: average score 11.74"
     ]
    },
    {
     "name": "stdout",
     "output_type": "stream",
     "text": [
      "\r 407/2000: average score 11.78"
     ]
    },
    {
     "name": "stdout",
     "output_type": "stream",
     "text": [
      "\r 408/2000: average score 11.84"
     ]
    },
    {
     "name": "stdout",
     "output_type": "stream",
     "text": [
      "\r 409/2000: average score 11.79"
     ]
    },
    {
     "name": "stdout",
     "output_type": "stream",
     "text": [
      "\r 410/2000: average score 11.82"
     ]
    },
    {
     "name": "stdout",
     "output_type": "stream",
     "text": [
      "\r 411/2000: average score 11.80"
     ]
    },
    {
     "name": "stdout",
     "output_type": "stream",
     "text": [
      "\r 412/2000: average score 11.83"
     ]
    },
    {
     "name": "stdout",
     "output_type": "stream",
     "text": [
      "\r 413/2000: average score 11.85"
     ]
    },
    {
     "name": "stdout",
     "output_type": "stream",
     "text": [
      "\r 414/2000: average score 11.85"
     ]
    },
    {
     "name": "stdout",
     "output_type": "stream",
     "text": [
      "\r 415/2000: average score 11.97"
     ]
    },
    {
     "name": "stdout",
     "output_type": "stream",
     "text": [
      "\r 416/2000: average score 12.02"
     ]
    },
    {
     "name": "stdout",
     "output_type": "stream",
     "text": [
      "\r 417/2000: average score 12.06"
     ]
    },
    {
     "name": "stdout",
     "output_type": "stream",
     "text": [
      "\r 418/2000: average score 11.99"
     ]
    },
    {
     "name": "stdout",
     "output_type": "stream",
     "text": [
      "\r 419/2000: average score 11.96"
     ]
    },
    {
     "name": "stdout",
     "output_type": "stream",
     "text": [
      "\r 420/2000: average score 11.95"
     ]
    },
    {
     "name": "stdout",
     "output_type": "stream",
     "text": [
      "\r 421/2000: average score 11.99"
     ]
    },
    {
     "name": "stdout",
     "output_type": "stream",
     "text": [
      "\r 422/2000: average score 12.02"
     ]
    },
    {
     "name": "stdout",
     "output_type": "stream",
     "text": [
      "\r 423/2000: average score 12.10"
     ]
    },
    {
     "name": "stdout",
     "output_type": "stream",
     "text": [
      "\r 424/2000: average score 12.10"
     ]
    },
    {
     "name": "stdout",
     "output_type": "stream",
     "text": [
      "\r 425/2000: average score 12.20"
     ]
    },
    {
     "name": "stdout",
     "output_type": "stream",
     "text": [
      "\r 426/2000: average score 12.20"
     ]
    },
    {
     "name": "stdout",
     "output_type": "stream",
     "text": [
      "\r 427/2000: average score 12.32"
     ]
    },
    {
     "name": "stdout",
     "output_type": "stream",
     "text": [
      "\r 428/2000: average score 12.34"
     ]
    },
    {
     "name": "stdout",
     "output_type": "stream",
     "text": [
      "\r 429/2000: average score 12.30"
     ]
    },
    {
     "name": "stdout",
     "output_type": "stream",
     "text": [
      "\r 430/2000: average score 12.29"
     ]
    },
    {
     "name": "stdout",
     "output_type": "stream",
     "text": [
      "\r 431/2000: average score 12.39"
     ]
    },
    {
     "name": "stdout",
     "output_type": "stream",
     "text": [
      "\r 432/2000: average score 12.45"
     ]
    },
    {
     "name": "stdout",
     "output_type": "stream",
     "text": [
      "\r 433/2000: average score 12.38"
     ]
    },
    {
     "name": "stdout",
     "output_type": "stream",
     "text": [
      "\r 434/2000: average score 12.40"
     ]
    },
    {
     "name": "stdout",
     "output_type": "stream",
     "text": [
      "\r 435/2000: average score 12.46"
     ]
    },
    {
     "name": "stdout",
     "output_type": "stream",
     "text": [
      "\r 436/2000: average score 12.42"
     ]
    },
    {
     "name": "stdout",
     "output_type": "stream",
     "text": [
      "\r 437/2000: average score 12.38"
     ]
    },
    {
     "name": "stdout",
     "output_type": "stream",
     "text": [
      "\r 438/2000: average score 12.39"
     ]
    },
    {
     "name": "stdout",
     "output_type": "stream",
     "text": [
      "\r 439/2000: average score 12.44"
     ]
    },
    {
     "name": "stdout",
     "output_type": "stream",
     "text": [
      "\r 440/2000: average score 12.43"
     ]
    },
    {
     "name": "stdout",
     "output_type": "stream",
     "text": [
      "\r 441/2000: average score 12.42"
     ]
    },
    {
     "name": "stdout",
     "output_type": "stream",
     "text": [
      "\r 442/2000: average score 12.43"
     ]
    },
    {
     "name": "stdout",
     "output_type": "stream",
     "text": [
      "\r 443/2000: average score 12.52"
     ]
    },
    {
     "name": "stdout",
     "output_type": "stream",
     "text": [
      "\r 444/2000: average score 12.53"
     ]
    },
    {
     "name": "stdout",
     "output_type": "stream",
     "text": [
      "\r 445/2000: average score 12.52"
     ]
    },
    {
     "name": "stdout",
     "output_type": "stream",
     "text": [
      "\r 446/2000: average score 12.63"
     ]
    },
    {
     "name": "stdout",
     "output_type": "stream",
     "text": [
      "\r 447/2000: average score 12.69"
     ]
    },
    {
     "name": "stdout",
     "output_type": "stream",
     "text": [
      "\r 448/2000: average score 12.71"
     ]
    },
    {
     "name": "stdout",
     "output_type": "stream",
     "text": [
      "\r 449/2000: average score 12.68"
     ]
    },
    {
     "name": "stdout",
     "output_type": "stream",
     "text": [
      "\r 450/2000: average score 12.63"
     ]
    },
    {
     "name": "stdout",
     "output_type": "stream",
     "text": [
      "\r 451/2000: average score 12.62"
     ]
    },
    {
     "name": "stdout",
     "output_type": "stream",
     "text": [
      "\r 452/2000: average score 12.58"
     ]
    },
    {
     "name": "stdout",
     "output_type": "stream",
     "text": [
      "\r 453/2000: average score 12.61"
     ]
    },
    {
     "name": "stdout",
     "output_type": "stream",
     "text": [
      "\r 454/2000: average score 12.56"
     ]
    },
    {
     "name": "stdout",
     "output_type": "stream",
     "text": [
      "\r 455/2000: average score 12.54"
     ]
    },
    {
     "name": "stdout",
     "output_type": "stream",
     "text": [
      "\r 456/2000: average score 12.55"
     ]
    },
    {
     "name": "stdout",
     "output_type": "stream",
     "text": [
      "\r 457/2000: average score 12.49"
     ]
    },
    {
     "name": "stdout",
     "output_type": "stream",
     "text": [
      "\r 458/2000: average score 12.46"
     ]
    },
    {
     "name": "stdout",
     "output_type": "stream",
     "text": [
      "\r 459/2000: average score 12.52"
     ]
    },
    {
     "name": "stdout",
     "output_type": "stream",
     "text": [
      "\r 460/2000: average score 12.48"
     ]
    },
    {
     "name": "stdout",
     "output_type": "stream",
     "text": [
      "\r 461/2000: average score 12.55"
     ]
    },
    {
     "name": "stdout",
     "output_type": "stream",
     "text": [
      "\r 462/2000: average score 12.57"
     ]
    },
    {
     "name": "stdout",
     "output_type": "stream",
     "text": [
      "\r 463/2000: average score 12.57"
     ]
    },
    {
     "name": "stdout",
     "output_type": "stream",
     "text": [
      "\r 464/2000: average score 12.60"
     ]
    },
    {
     "name": "stdout",
     "output_type": "stream",
     "text": [
      "\r 465/2000: average score 12.46"
     ]
    },
    {
     "name": "stdout",
     "output_type": "stream",
     "text": [
      "\r 466/2000: average score 12.45"
     ]
    },
    {
     "name": "stdout",
     "output_type": "stream",
     "text": [
      "\r 467/2000: average score 12.53"
     ]
    },
    {
     "name": "stdout",
     "output_type": "stream",
     "text": [
      "\r 468/2000: average score 12.53"
     ]
    },
    {
     "name": "stdout",
     "output_type": "stream",
     "text": [
      "\r 469/2000: average score 12.64"
     ]
    },
    {
     "name": "stdout",
     "output_type": "stream",
     "text": [
      "\r 470/2000: average score 12.61"
     ]
    },
    {
     "name": "stdout",
     "output_type": "stream",
     "text": [
      "\r 471/2000: average score 12.67"
     ]
    },
    {
     "name": "stdout",
     "output_type": "stream",
     "text": [
      "\r 472/2000: average score 12.73"
     ]
    },
    {
     "name": "stdout",
     "output_type": "stream",
     "text": [
      "\r 473/2000: average score 12.75"
     ]
    },
    {
     "name": "stdout",
     "output_type": "stream",
     "text": [
      "\r 474/2000: average score 12.86"
     ]
    },
    {
     "name": "stdout",
     "output_type": "stream",
     "text": [
      "\r 475/2000: average score 12.91"
     ]
    },
    {
     "name": "stdout",
     "output_type": "stream",
     "text": [
      "\r 476/2000: average score 12.80"
     ]
    },
    {
     "name": "stdout",
     "output_type": "stream",
     "text": [
      "\r 477/2000: average score 12.83"
     ]
    },
    {
     "name": "stdout",
     "output_type": "stream",
     "text": [
      "\r 478/2000: average score 12.86"
     ]
    },
    {
     "name": "stdout",
     "output_type": "stream",
     "text": [
      "\r 479/2000: average score 12.94"
     ]
    },
    {
     "name": "stdout",
     "output_type": "stream",
     "text": [
      "\r 480/2000: average score 12.99"
     ]
    },
    {
     "name": "stdout",
     "output_type": "stream",
     "text": [
      "\r 481/2000: average score 13.00"
     ]
    },
    {
     "name": "stdout",
     "output_type": "stream",
     "text": [
      "\nsolved in 481 episodes\n"
     ]
    },
    {
     "data": {
      "image/png": "[encoded data removed]",
      "text/plain": [
       "<Figure size 432x288 with 1 Axes>"
      ]
     },
     "metadata": {},
     "output_type": "display_data"
    },
    {
     "name": "stdout",
     "output_type": "stream",
     "text": [
      "save model to navigation_double.pth\n"
     ]
    }
   ],
   "source": [
    "double_monitor = Monitor()\n",
    "double_params = Parameters()\n",
    "double_params.double = True\n",
    "\n",
    "double_monitor.run(double_params, \"double\")"
   ]
  },
  {
   "cell_type": "code",
   "execution_count": 7,
   "metadata": {},
   "outputs": [
    {
     "name": "stderr",
     "output_type": "stream",
     "text": [
      "INFO:unityagents:\n'Academy' started successfully!\nUnity Academy name: Academy\n        Number of Brains: 1\n        Number of External Brains : 1\n        Lesson number : 0\n        Reset Parameters :\n\t\t\nUnity brain name: BananaBrain\n        Number of Visual Observations (per agent): 0\n        Vector Observation space type: continuous\n        Vector Observation space size (per agent): 37\n        Number of stacked Vector Observation: 1\n        Vector Action space type: discrete\n        Vector Action space size (per agent): 4\n        Vector Action descriptions: , , , \n"
     ]
    },
    {
     "name": "stdout",
     "output_type": "stream",
     "text": [
      "\r 0/2000: average score 1.00"
     ]
    },
    {
     "name": "stdout",
     "output_type": "stream",
     "text": [
      "\r 1/2000: average score 1.50"
     ]
    },
    {
     "name": "stdout",
     "output_type": "stream",
     "text": [
      "\r 2/2000: average score 3.00"
     ]
    },
    {
     "name": "stdout",
     "output_type": "stream",
     "text": [
      "\r 3/2000: average score 4.00"
     ]
    },
    {
     "name": "stdout",
     "output_type": "stream",
     "text": [
      "\r 4/2000: average score 4.60"
     ]
    },
    {
     "name": "stdout",
     "output_type": "stream",
     "text": [
      "\r 5/2000: average score 5.50"
     ]
    },
    {
     "name": "stdout",
     "output_type": "stream",
     "text": [
      "\r 6/2000: average score 5.57"
     ]
    },
    {
     "name": "stdout",
     "output_type": "stream",
     "text": [
      "\r 7/2000: average score 5.50"
     ]
    },
    {
     "name": "stdout",
     "output_type": "stream",
     "text": [
      "\r 8/2000: average score 5.00"
     ]
    },
    {
     "name": "stdout",
     "output_type": "stream",
     "text": [
      "\r 9/2000: average score 4.40"
     ]
    },
    {
     "name": "stdout",
     "output_type": "stream",
     "text": [
      "\r 10/2000: average score 4.09"
     ]
    },
    {
     "name": "stdout",
     "output_type": "stream",
     "text": [
      "\r 11/2000: average score 3.75"
     ]
    },
    {
     "name": "stdout",
     "output_type": "stream",
     "text": [
      "\r 12/2000: average score 4.23"
     ]
    },
    {
     "name": "stdout",
     "output_type": "stream",
     "text": [
      "\r 13/2000: average score 4.29"
     ]
    },
    {
     "name": "stdout",
     "output_type": "stream",
     "text": [
      "\r 14/2000: average score 4.53"
     ]
    },
    {
     "name": "stdout",
     "output_type": "stream",
     "text": [
      "\r 15/2000: average score 4.56"
     ]
    },
    {
     "name": "stdout",
     "output_type": "stream",
     "text": [
      "\r 16/2000: average score 4.29"
     ]
    },
    {
     "name": "stdout",
     "output_type": "stream",
     "text": [
      "\r 17/2000: average score 4.50"
     ]
    },
    {
     "name": "stdout",
     "output_type": "stream",
     "text": [
      "\r 18/2000: average score 4.79"
     ]
    },
    {
     "name": "stdout",
     "output_type": "stream",
     "text": [
      "\r 19/2000: average score 4.75"
     ]
    },
    {
     "name": "stdout",
     "output_type": "stream",
     "text": [
      "\r 20/2000: average score 4.62"
     ]
    },
    {
     "name": "stdout",
     "output_type": "stream",
     "text": [
      "\r 21/2000: average score 4.73"
     ]
    },
    {
     "name": "stdout",
     "output_type": "stream",
     "text": [
      "\r 22/2000: average score 4.61"
     ]
    },
    {
     "name": "stdout",
     "output_type": "stream",
     "text": [
      "\r 23/2000: average score 4.58"
     ]
    },
    {
     "name": "stdout",
     "output_type": "stream",
     "text": [
      "\r 24/2000: average score 4.60"
     ]
    },
    {
     "name": "stdout",
     "output_type": "stream",
     "text": [
      "\r 25/2000: average score 4.69"
     ]
    },
    {
     "name": "stdout",
     "output_type": "stream",
     "text": [
      "\r 26/2000: average score 4.63"
     ]
    },
    {
     "name": "stdout",
     "output_type": "stream",
     "text": [
      "\r 27/2000: average score 4.86"
     ]
    },
    {
     "name": "stdout",
     "output_type": "stream",
     "text": [
      "\r 28/2000: average score 5.14"
     ]
    },
    {
     "name": "stdout",
     "output_type": "stream",
     "text": [
      "\r 29/2000: average score 5.27"
     ]
    },
    {
     "name": "stdout",
     "output_type": "stream",
     "text": [
      "\r 30/2000: average score 5.52"
     ]
    },
    {
     "name": "stdout",
     "output_type": "stream",
     "text": [
      "\r 31/2000: average score 5.53"
     ]
    },
    {
     "name": "stdout",
     "output_type": "stream",
     "text": [
      "\r 32/2000: average score 5.73"
     ]
    },
    {
     "name": "stdout",
     "output_type": "stream",
     "text": [
      "\r 33/2000: average score 5.79"
     ]
    },
    {
     "name": "stdout",
     "output_type": "stream",
     "text": [
      "\r 34/2000: average score 5.94"
     ]
    },
    {
     "name": "stdout",
     "output_type": "stream",
     "text": [
      "\r 35/2000: average score 5.89"
     ]
    },
    {
     "name": "stdout",
     "output_type": "stream",
     "text": [
      "\r 36/2000: average score 6.08"
     ]
    },
    {
     "name": "stdout",
     "output_type": "stream",
     "text": [
      "\r 37/2000: average score 6.24"
     ]
    },
    {
     "name": "stdout",
     "output_type": "stream",
     "text": [
      "\r 38/2000: average score 6.23"
     ]
    },
    {
     "name": "stdout",
     "output_type": "stream",
     "text": [
      "\r 39/2000: average score 6.28"
     ]
    },
    {
     "name": "stdout",
     "output_type": "stream",
     "text": [
      "\r 40/2000: average score 6.39"
     ]
    },
    {
     "name": "stdout",
     "output_type": "stream",
     "text": [
      "\r 41/2000: average score 6.48"
     ]
    },
    {
     "name": "stdout",
     "output_type": "stream",
     "text": [
      "\r 42/2000: average score 6.42"
     ]
    },
    {
     "name": "stdout",
     "output_type": "stream",
     "text": [
      "\r 43/2000: average score 6.36"
     ]
    },
    {
     "name": "stdout",
     "output_type": "stream",
     "text": [
      "\r 44/2000: average score 6.51"
     ]
    },
    {
     "name": "stdout",
     "output_type": "stream",
     "text": [
      "\r 45/2000: average score 6.50"
     ]
    },
    {
     "name": "stdout",
     "output_type": "stream",
     "text": [
      "\r 46/2000: average score 6.66"
     ]
    },
    {
     "name": "stdout",
     "output_type": "stream",
     "text": [
      "\r 47/2000: average score 6.69"
     ]
    },
    {
     "name": "stdout",
     "output_type": "stream",
     "text": [
      "\r 48/2000: average score 6.73"
     ]
    },
    {
     "name": "stdout",
     "output_type": "stream",
     "text": [
      "\r 49/2000: average score 6.78"
     ]
    },
    {
     "name": "stdout",
     "output_type": "stream",
     "text": [
      "\r 50/2000: average score 6.82"
     ]
    },
    {
     "name": "stdout",
     "output_type": "stream",
     "text": [
      "\r 51/2000: average score 6.75"
     ]
    },
    {
     "name": "stdout",
     "output_type": "stream",
     "text": [
      "\r 52/2000: average score 6.79"
     ]
    },
    {
     "name": "stdout",
     "output_type": "stream",
     "text": [
      "\r 53/2000: average score 6.87"
     ]
    },
    {
     "name": "stdout",
     "output_type": "stream",
     "text": [
      "\r 54/2000: average score 6.87"
     ]
    },
    {
     "name": "stdout",
     "output_type": "stream",
     "text": [
      "\r 55/2000: average score 6.89"
     ]
    },
    {
     "name": "stdout",
     "output_type": "stream",
     "text": [
      "\r 56/2000: average score 6.93"
     ]
    },
    {
     "name": "stdout",
     "output_type": "stream",
     "text": [
      "\r 57/2000: average score 6.95"
     ]
    },
    {
     "name": "stdout",
     "output_type": "stream",
     "text": [
      "\r 58/2000: average score 6.93"
     ]
    },
    {
     "name": "stdout",
     "output_type": "stream",
     "text": [
      "\r 59/2000: average score 6.85"
     ]
    },
    {
     "name": "stdout",
     "output_type": "stream",
     "text": [
      "\r 60/2000: average score 6.80"
     ]
    },
    {
     "name": "stdout",
     "output_type": "stream",
     "text": [
      "\r 61/2000: average score 6.84"
     ]
    },
    {
     "name": "stdout",
     "output_type": "stream",
     "text": [
      "\r 62/2000: average score 6.75"
     ]
    },
    {
     "name": "stdout",
     "output_type": "stream",
     "text": [
      "\r 63/2000: average score 6.78"
     ]
    },
    {
     "name": "stdout",
     "output_type": "stream",
     "text": [
      "\r 64/2000: average score 6.77"
     ]
    },
    {
     "name": "stdout",
     "output_type": "stream",
     "text": [
      "\r 65/2000: average score 6.85"
     ]
    },
    {
     "name": "stdout",
     "output_type": "stream",
     "text": [
      "\r 66/2000: average score 6.88"
     ]
    },
    {
     "name": "stdout",
     "output_type": "stream",
     "text": [
      "\r 67/2000: average score 6.91"
     ]
    },
    {
     "name": "stdout",
     "output_type": "stream",
     "text": [
      "\r 68/2000: average score 7.01"
     ]
    },
    {
     "name": "stdout",
     "output_type": "stream",
     "text": [
      "\r 69/2000: average score 7.04"
     ]
    },
    {
     "name": "stdout",
     "output_type": "stream",
     "text": [
      "\r 70/2000: average score 7.00"
     ]
    },
    {
     "name": "stdout",
     "output_type": "stream",
     "text": [
      "\r 71/2000: average score 6.99"
     ]
    },
    {
     "name": "stdout",
     "output_type": "stream",
     "text": [
      "\r 72/2000: average score 7.07"
     ]
    },
    {
     "name": "stdout",
     "output_type": "stream",
     "text": [
      "\r 73/2000: average score 7.01"
     ]
    },
    {
     "name": "stdout",
     "output_type": "stream",
     "text": [
      "\r 74/2000: average score 6.97"
     ]
    },
    {
     "name": "stdout",
     "output_type": "stream",
     "text": [
      "\r 75/2000: average score 7.12"
     ]
    },
    {
     "name": "stdout",
     "output_type": "stream",
     "text": [
      "\r 76/2000: average score 7.12"
     ]
    },
    {
     "name": "stdout",
     "output_type": "stream",
     "text": [
      "\r 77/2000: average score 7.22"
     ]
    },
    {
     "name": "stdout",
     "output_type": "stream",
     "text": [
      "\r 78/2000: average score 7.27"
     ]
    },
    {
     "name": "stdout",
     "output_type": "stream",
     "text": [
      "\r 79/2000: average score 7.31"
     ]
    },
    {
     "name": "stdout",
     "output_type": "stream",
     "text": [
      "\r 80/2000: average score 7.42"
     ]
    },
    {
     "name": "stdout",
     "output_type": "stream",
     "text": [
      "\r 81/2000: average score 7.50"
     ]
    },
    {
     "name": "stdout",
     "output_type": "stream",
     "text": [
      "\r 82/2000: average score 7.51"
     ]
    },
    {
     "name": "stdout",
     "output_type": "stream",
     "text": [
      "\r 83/2000: average score 7.49"
     ]
    },
    {
     "name": "stdout",
     "output_type": "stream",
     "text": [
      "\r 84/2000: average score 7.41"
     ]
    },
    {
     "name": "stdout",
     "output_type": "stream",
     "text": [
      "\r 85/2000: average score 7.37"
     ]
    },
    {
     "name": "stdout",
     "output_type": "stream",
     "text": [
      "\r 86/2000: average score 7.32"
     ]
    },
    {
     "name": "stdout",
     "output_type": "stream",
     "text": [
      "\r 87/2000: average score 7.32"
     ]
    },
    {
     "name": "stdout",
     "output_type": "stream",
     "text": [
      "\r 88/2000: average score 7.35"
     ]
    },
    {
     "name": "stdout",
     "output_type": "stream",
     "text": [
      "\r 89/2000: average score 7.41"
     ]
    },
    {
     "name": "stdout",
     "output_type": "stream",
     "text": [
      "\r 90/2000: average score 7.51"
     ]
    },
    {
     "name": "stdout",
     "output_type": "stream",
     "text": [
      "\r 91/2000: average score 7.57"
     ]
    },
    {
     "name": "stdout",
     "output_type": "stream",
     "text": [
      "\r 92/2000: average score 7.54"
     ]
    },
    {
     "name": "stdout",
     "output_type": "stream",
     "text": [
      "\r 93/2000: average score 7.60"
     ]
    },
    {
     "name": "stdout",
     "output_type": "stream",
     "text": [
      "\r 94/2000: average score 7.57"
     ]
    },
    {
     "name": "stdout",
     "output_type": "stream",
     "text": [
      "\r 95/2000: average score 7.56"
     ]
    },
    {
     "name": "stdout",
     "output_type": "stream",
     "text": [
      "\r 96/2000: average score 7.58"
     ]
    },
    {
     "name": "stdout",
     "output_type": "stream",
     "text": [
      "\r 97/2000: average score 7.61"
     ]
    },
    {
     "name": "stdout",
     "output_type": "stream",
     "text": [
      "\r 98/2000: average score 7.70"
     ]
    },
    {
     "name": "stdout",
     "output_type": "stream",
     "text": [
      "\r 99/2000: average score 7.70"
     ]
    },
    {
     "name": "stdout",
     "output_type": "stream",
     "text": [
      "\r 100/2000: average score 7.78"
     ]
    },
    {
     "name": "stdout",
     "output_type": "stream",
     "text": [
      "\r 101/2000: average score 7.82"
     ]
    },
    {
     "name": "stdout",
     "output_type": "stream",
     "text": [
      "\r 102/2000: average score 7.84"
     ]
    },
    {
     "name": "stdout",
     "output_type": "stream",
     "text": [
      "\r 103/2000: average score 7.94"
     ]
    },
    {
     "name": "stdout",
     "output_type": "stream",
     "text": [
      "\r 104/2000: average score 8.00"
     ]
    },
    {
     "name": "stdout",
     "output_type": "stream",
     "text": [
      "\r 105/2000: average score 7.95"
     ]
    },
    {
     "name": "stdout",
     "output_type": "stream",
     "text": [
      "\r 106/2000: average score 8.00"
     ]
    },
    {
     "name": "stdout",
     "output_type": "stream",
     "text": [
      "\r 107/2000: average score 8.05"
     ]
    },
    {
     "name": "stdout",
     "output_type": "stream",
     "text": [
      "\r 108/2000: average score 8.13"
     ]
    },
    {
     "name": "stdout",
     "output_type": "stream",
     "text": [
      "\r 109/2000: average score 8.21"
     ]
    },
    {
     "name": "stdout",
     "output_type": "stream",
     "text": [
      "\r 110/2000: average score 8.32"
     ]
    },
    {
     "name": "stdout",
     "output_type": "stream",
     "text": [
      "\r 111/2000: average score 8.38"
     ]
    },
    {
     "name": "stdout",
     "output_type": "stream",
     "text": [
      "\r 112/2000: average score 8.35"
     ]
    },
    {
     "name": "stdout",
     "output_type": "stream",
     "text": [
      "\r 113/2000: average score 8.40"
     ]
    },
    {
     "name": "stdout",
     "output_type": "stream",
     "text": [
      "\r 114/2000: average score 8.48"
     ]
    },
    {
     "name": "stdout",
     "output_type": "stream",
     "text": [
      "\r 115/2000: average score 8.59"
     ]
    },
    {
     "name": "stdout",
     "output_type": "stream",
     "text": [
      "\r 116/2000: average score 8.66"
     ]
    },
    {
     "name": "stdout",
     "output_type": "stream",
     "text": [
      "\r 117/2000: average score 8.73"
     ]
    },
    {
     "name": "stdout",
     "output_type": "stream",
     "text": [
      "\r 118/2000: average score 8.68"
     ]
    },
    {
     "name": "stdout",
     "output_type": "stream",
     "text": [
      "\r 119/2000: average score 8.75"
     ]
    },
    {
     "name": "stdout",
     "output_type": "stream",
     "text": [
      "\r 120/2000: average score 8.86"
     ]
    },
    {
     "name": "stdout",
     "output_type": "stream",
     "text": [
      "\r 121/2000: average score 8.87"
     ]
    },
    {
     "name": "stdout",
     "output_type": "stream",
     "text": [
      "\r 122/2000: average score 8.97"
     ]
    },
    {
     "name": "stdout",
     "output_type": "stream",
     "text": [
      "\r 123/2000: average score 8.98"
     ]
    },
    {
     "name": "stdout",
     "output_type": "stream",
     "text": [
      "\r 124/2000: average score 9.02"
     ]
    },
    {
     "name": "stdout",
     "output_type": "stream",
     "text": [
      "\r 125/2000: average score 9.11"
     ]
    },
    {
     "name": "stdout",
     "output_type": "stream",
     "text": [
      "\r 126/2000: average score 9.15"
     ]
    },
    {
     "name": "stdout",
     "output_type": "stream",
     "text": [
      "\r 127/2000: average score 9.17"
     ]
    },
    {
     "name": "stdout",
     "output_type": "stream",
     "text": [
      "\r 128/2000: average score 9.19"
     ]
    },
    {
     "name": "stdout",
     "output_type": "stream",
     "text": [
      "\r 129/2000: average score 9.21"
     ]
    },
    {
     "name": "stdout",
     "output_type": "stream",
     "text": [
      "\r 130/2000: average score 9.24"
     ]
    },
    {
     "name": "stdout",
     "output_type": "stream",
     "text": [
      "\r 131/2000: average score 9.35"
     ]
    },
    {
     "name": "stdout",
     "output_type": "stream",
     "text": [
      "\r 132/2000: average score 9.43"
     ]
    },
    {
     "name": "stdout",
     "output_type": "stream",
     "text": [
      "\r 133/2000: average score 9.46"
     ]
    },
    {
     "name": "stdout",
     "output_type": "stream",
     "text": [
      "\r 134/2000: average score 9.47"
     ]
    },
    {
     "name": "stdout",
     "output_type": "stream",
     "text": [
      "\r 135/2000: average score 9.50"
     ]
    },
    {
     "name": "stdout",
     "output_type": "stream",
     "text": [
      "\r 136/2000: average score 9.53"
     ]
    },
    {
     "name": "stdout",
     "output_type": "stream",
     "text": [
      "\r 137/2000: average score 9.60"
     ]
    },
    {
     "name": "stdout",
     "output_type": "stream",
     "text": [
      "\r 138/2000: average score 9.66"
     ]
    },
    {
     "name": "stdout",
     "output_type": "stream",
     "text": [
      "\r 139/2000: average score 9.66"
     ]
    },
    {
     "name": "stdout",
     "output_type": "stream",
     "text": [
      "\r 140/2000: average score 9.68"
     ]
    },
    {
     "name": "stdout",
     "output_type": "stream",
     "text": [
      "\r 141/2000: average score 9.72"
     ]
    },
    {
     "name": "stdout",
     "output_type": "stream",
     "text": [
      "\r 142/2000: average score 9.83"
     ]
    },
    {
     "name": "stdout",
     "output_type": "stream",
     "text": [
      "\r 143/2000: average score 9.94"
     ]
    },
    {
     "name": "stdout",
     "output_type": "stream",
     "text": [
      "\r 144/2000: average score 9.90"
     ]
    },
    {
     "name": "stdout",
     "output_type": "stream",
     "text": [
      "\r 145/2000: average score 9.93"
     ]
    },
    {
     "name": "stdout",
     "output_type": "stream",
     "text": [
      "\r 146/2000: average score 9.86"
     ]
    },
    {
     "name": "stdout",
     "output_type": "stream",
     "text": [
      "\r 147/2000: average score 9.81"
     ]
    },
    {
     "name": "stdout",
     "output_type": "stream",
     "text": [
      "\r 148/2000: average score 9.88"
     ]
    },
    {
     "name": "stdout",
     "output_type": "stream",
     "text": [
      "\r 149/2000: average score 9.97"
     ]
    },
    {
     "name": "stdout",
     "output_type": "stream",
     "text": [
      "\r 150/2000: average score 10.06"
     ]
    },
    {
     "name": "stdout",
     "output_type": "stream",
     "text": [
      "\r 151/2000: average score 10.11"
     ]
    },
    {
     "name": "stdout",
     "output_type": "stream",
     "text": [
      "\r 152/2000: average score 10.15"
     ]
    },
    {
     "name": "stdout",
     "output_type": "stream",
     "text": [
      "\r 153/2000: average score 10.18"
     ]
    },
    {
     "name": "stdout",
     "output_type": "stream",
     "text": [
      "\r 154/2000: average score 10.17"
     ]
    },
    {
     "name": "stdout",
     "output_type": "stream",
     "text": [
      "\r 155/2000: average score 10.24"
     ]
    },
    {
     "name": "stdout",
     "output_type": "stream",
     "text": [
      "\r 156/2000: average score 10.31"
     ]
    },
    {
     "name": "stdout",
     "output_type": "stream",
     "text": [
      "\r 157/2000: average score 10.28"
     ]
    },
    {
     "name": "stdout",
     "output_type": "stream",
     "text": [
      "\r 158/2000: average score 10.33"
     ]
    },
    {
     "name": "stdout",
     "output_type": "stream",
     "text": [
      "\r 159/2000: average score 10.42"
     ]
    },
    {
     "name": "stdout",
     "output_type": "stream",
     "text": [
      "\r 160/2000: average score 10.45"
     ]
    },
    {
     "name": "stdout",
     "output_type": "stream",
     "text": [
      "\r 161/2000: average score 10.46"
     ]
    },
    {
     "name": "stdout",
     "output_type": "stream",
     "text": [
      "\r 162/2000: average score 10.50"
     ]
    },
    {
     "name": "stdout",
     "output_type": "stream",
     "text": [
      "\r 163/2000: average score 10.50"
     ]
    },
    {
     "name": "stdout",
     "output_type": "stream",
     "text": [
      "\r 164/2000: average score 10.49"
     ]
    },
    {
     "name": "stdout",
     "output_type": "stream",
     "text": [
      "\r 165/2000: average score 10.50"
     ]
    },
    {
     "name": "stdout",
     "output_type": "stream",
     "text": [
      "\r 166/2000: average score 10.48"
     ]
    },
    {
     "name": "stdout",
     "output_type": "stream",
     "text": [
      "\r 167/2000: average score 10.51"
     ]
    },
    {
     "name": "stdout",
     "output_type": "stream",
     "text": [
      "\r 168/2000: average score 10.48"
     ]
    },
    {
     "name": "stdout",
     "output_type": "stream",
     "text": [
      "\r 169/2000: average score 10.46"
     ]
    },
    {
     "name": "stdout",
     "output_type": "stream",
     "text": [
      "\r 170/2000: average score 10.47"
     ]
    },
    {
     "name": "stdout",
     "output_type": "stream",
     "text": [
      "\r 171/2000: average score 10.56"
     ]
    },
    {
     "name": "stdout",
     "output_type": "stream",
     "text": [
      "\r 172/2000: average score 10.61"
     ]
    },
    {
     "name": "stdout",
     "output_type": "stream",
     "text": [
      "\r 173/2000: average score 10.68"
     ]
    },
    {
     "name": "stdout",
     "output_type": "stream",
     "text": [
      "\r 174/2000: average score 10.78"
     ]
    },
    {
     "name": "stdout",
     "output_type": "stream",
     "text": [
      "\r 175/2000: average score 10.70"
     ]
    },
    {
     "name": "stdout",
     "output_type": "stream",
     "text": [
      "\r 176/2000: average score 10.73"
     ]
    },
    {
     "name": "stdout",
     "output_type": "stream",
     "text": [
      "\r 177/2000: average score 10.69"
     ]
    },
    {
     "name": "stdout",
     "output_type": "stream",
     "text": [
      "\r 178/2000: average score 10.65"
     ]
    },
    {
     "name": "stdout",
     "output_type": "stream",
     "text": [
      "\r 179/2000: average score 10.63"
     ]
    },
    {
     "name": "stdout",
     "output_type": "stream",
     "text": [
      "\r 180/2000: average score 10.54"
     ]
    },
    {
     "name": "stdout",
     "output_type": "stream",
     "text": [
      "\r 181/2000: average score 10.55"
     ]
    },
    {
     "name": "stdout",
     "output_type": "stream",
     "text": [
      "\r 182/2000: average score 10.67"
     ]
    },
    {
     "name": "stdout",
     "output_type": "stream",
     "text": [
      "\r 183/2000: average score 10.71"
     ]
    },
    {
     "name": "stdout",
     "output_type": "stream",
     "text": [
      "\r 184/2000: average score 10.89"
     ]
    },
    {
     "name": "stdout",
     "output_type": "stream",
     "text": [
      "\r 185/2000: average score 10.94"
     ]
    },
    {
     "name": "stdout",
     "output_type": "stream",
     "text": [
      "\r 186/2000: average score 11.06"
     ]
    },
    {
     "name": "stdout",
     "output_type": "stream",
     "text": [
      "\r 187/2000: average score 11.19"
     ]
    },
    {
     "name": "stdout",
     "output_type": "stream",
     "text": [
      "\r 188/2000: average score 11.24"
     ]
    },
    {
     "name": "stdout",
     "output_type": "stream",
     "text": [
      "\r 189/2000: average score 11.23"
     ]
    },
    {
     "name": "stdout",
     "output_type": "stream",
     "text": [
      "\r 190/2000: average score 11.18"
     ]
    },
    {
     "name": "stdout",
     "output_type": "stream",
     "text": [
      "\r 191/2000: average score 11.14"
     ]
    },
    {
     "name": "stdout",
     "output_type": "stream",
     "text": [
      "\r 192/2000: average score 11.25"
     ]
    },
    {
     "name": "stdout",
     "output_type": "stream",
     "text": [
      "\r 193/2000: average score 11.27"
     ]
    },
    {
     "name": "stdout",
     "output_type": "stream",
     "text": [
      "\r 194/2000: average score 11.35"
     ]
    },
    {
     "name": "stdout",
     "output_type": "stream",
     "text": [
      "\r 195/2000: average score 11.38"
     ]
    },
    {
     "name": "stdout",
     "output_type": "stream",
     "text": [
      "\r 196/2000: average score 11.41"
     ]
    },
    {
     "name": "stdout",
     "output_type": "stream",
     "text": [
      "\r 197/2000: average score 11.40"
     ]
    },
    {
     "name": "stdout",
     "output_type": "stream",
     "text": [
      "\r 198/2000: average score 11.33"
     ]
    },
    {
     "name": "stdout",
     "output_type": "stream",
     "text": [
      "\r 199/2000: average score 11.41"
     ]
    },
    {
     "name": "stdout",
     "output_type": "stream",
     "text": [
      "\r 200/2000: average score 11.43"
     ]
    },
    {
     "name": "stdout",
     "output_type": "stream",
     "text": [
      "\r 201/2000: average score 11.53"
     ]
    },
    {
     "name": "stdout",
     "output_type": "stream",
     "text": [
      "\r 202/2000: average score 11.54"
     ]
    },
    {
     "name": "stdout",
     "output_type": "stream",
     "text": [
      "\r 203/2000: average score 11.58"
     ]
    },
    {
     "name": "stdout",
     "output_type": "stream",
     "text": [
      "\r 204/2000: average score 11.62"
     ]
    },
    {
     "name": "stdout",
     "output_type": "stream",
     "text": [
      "\r 205/2000: average score 11.74"
     ]
    },
    {
     "name": "stdout",
     "output_type": "stream",
     "text": [
      "\r 206/2000: average score 11.79"
     ]
    },
    {
     "name": "stdout",
     "output_type": "stream",
     "text": [
      "\r 207/2000: average score 11.79"
     ]
    },
    {
     "name": "stdout",
     "output_type": "stream",
     "text": [
      "\r 208/2000: average score 11.80"
     ]
    },
    {
     "name": "stdout",
     "output_type": "stream",
     "text": [
      "\r 209/2000: average score 11.89"
     ]
    },
    {
     "name": "stdout",
     "output_type": "stream",
     "text": [
      "\r 210/2000: average score 11.96"
     ]
    },
    {
     "name": "stdout",
     "output_type": "stream",
     "text": [
      "\r 211/2000: average score 12.07"
     ]
    },
    {
     "name": "stdout",
     "output_type": "stream",
     "text": [
      "\r 212/2000: average score 12.07"
     ]
    },
    {
     "name": "stdout",
     "output_type": "stream",
     "text": [
      "\r 213/2000: average score 12.01"
     ]
    },
    {
     "name": "stdout",
     "output_type": "stream",
     "text": [
      "\r 214/2000: average score 11.97"
     ]
    },
    {
     "name": "stdout",
     "output_type": "stream",
     "text": [
      "\r 215/2000: average score 11.91"
     ]
    },
    {
     "name": "stdout",
     "output_type": "stream",
     "text": [
      "\r 216/2000: average score 11.98"
     ]
    },
    {
     "name": "stdout",
     "output_type": "stream",
     "text": [
      "\r 217/2000: average score 11.98"
     ]
    },
    {
     "name": "stdout",
     "output_type": "stream",
     "text": [
      "\r 218/2000: average score 12.06"
     ]
    },
    {
     "name": "stdout",
     "output_type": "stream",
     "text": [
      "\r 219/2000: average score 12.08"
     ]
    },
    {
     "name": "stdout",
     "output_type": "stream",
     "text": [
      "\r 220/2000: average score 12.13"
     ]
    },
    {
     "name": "stdout",
     "output_type": "stream",
     "text": [
      "\r 221/2000: average score 12.18"
     ]
    },
    {
     "name": "stdout",
     "output_type": "stream",
     "text": [
      "\r 222/2000: average score 12.18"
     ]
    },
    {
     "name": "stdout",
     "output_type": "stream",
     "text": [
      "\r 223/2000: average score 12.33"
     ]
    },
    {
     "name": "stdout",
     "output_type": "stream",
     "text": [
      "\r 224/2000: average score 12.45"
     ]
    },
    {
     "name": "stdout",
     "output_type": "stream",
     "text": [
      "\r 225/2000: average score 12.46"
     ]
    },
    {
     "name": "stdout",
     "output_type": "stream",
     "text": [
      "\r 226/2000: average score 12.62"
     ]
    },
    {
     "name": "stdout",
     "output_type": "stream",
     "text": [
      "\r 227/2000: average score 12.61"
     ]
    },
    {
     "name": "stdout",
     "output_type": "stream",
     "text": [
      "\r 228/2000: average score 12.61"
     ]
    },
    {
     "name": "stdout",
     "output_type": "stream",
     "text": [
      "\r 229/2000: average score 12.60"
     ]
    },
    {
     "name": "stdout",
     "output_type": "stream",
     "text": [
      "\r 230/2000: average score 12.54"
     ]
    },
    {
     "name": "stdout",
     "output_type": "stream",
     "text": [
      "\r 231/2000: average score 12.52"
     ]
    },
    {
     "name": "stdout",
     "output_type": "stream",
     "text": [
      "\r 232/2000: average score 12.48"
     ]
    },
    {
     "name": "stdout",
     "output_type": "stream",
     "text": [
      "\r 233/2000: average score 12.46"
     ]
    },
    {
     "name": "stdout",
     "output_type": "stream",
     "text": [
      "\r 234/2000: average score 12.49"
     ]
    },
    {
     "name": "stdout",
     "output_type": "stream",
     "text": [
      "\r 235/2000: average score 12.64"
     ]
    },
    {
     "name": "stdout",
     "output_type": "stream",
     "text": [
      "\r 236/2000: average score 12.64"
     ]
    },
    {
     "name": "stdout",
     "output_type": "stream",
     "text": [
      "\r 237/2000: average score 12.59"
     ]
    },
    {
     "name": "stdout",
     "output_type": "stream",
     "text": [
      "\r 238/2000: average score 12.59"
     ]
    },
    {
     "name": "stdout",
     "output_type": "stream",
     "text": [
      "\r 239/2000: average score 12.69"
     ]
    },
    {
     "name": "stdout",
     "output_type": "stream",
     "text": [
      "\r 240/2000: average score 12.70"
     ]
    },
    {
     "name": "stdout",
     "output_type": "stream",
     "text": [
      "\r 241/2000: average score 12.69"
     ]
    },
    {
     "name": "stdout",
     "output_type": "stream",
     "text": [
      "\r 242/2000: average score 12.66"
     ]
    },
    {
     "name": "stdout",
     "output_type": "stream",
     "text": [
      "\r 243/2000: average score 12.59"
     ]
    },
    {
     "name": "stdout",
     "output_type": "stream",
     "text": [
      "\r 244/2000: average score 12.71"
     ]
    },
    {
     "name": "stdout",
     "output_type": "stream",
     "text": [
      "\r 245/2000: average score 12.72"
     ]
    },
    {
     "name": "stdout",
     "output_type": "stream",
     "text": [
      "\r 246/2000: average score 12.83"
     ]
    },
    {
     "name": "stdout",
     "output_type": "stream",
     "text": [
      "\r 247/2000: average score 12.97"
     ]
    },
    {
     "name": "stdout",
     "output_type": "stream",
     "text": [
      "\r 248/2000: average score 12.92"
     ]
    },
    {
     "name": "stdout",
     "output_type": "stream",
     "text": [
      "\r 249/2000: average score 12.91"
     ]
    },
    {
     "name": "stdout",
     "output_type": "stream",
     "text": [
      "\r 250/2000: average score 12.91"
     ]
    },
    {
     "name": "stdout",
     "output_type": "stream",
     "text": [
      "\r 251/2000: average score 12.95"
     ]
    },
    {
     "name": "stdout",
     "output_type": "stream",
     "text": [
      "\r 252/2000: average score 12.99"
     ]
    },
    {
     "name": "stdout",
     "output_type": "stream",
     "text": [
      "\r 253/2000: average score 13.00"
     ]
    },
    {
     "name": "stdout",
     "output_type": "stream",
     "text": [
      "\nsolved in 253 episodes\n"
     ]
    },
    {
     "data": {
      "image/png": "[encoded data removed]",
      "text/plain": [
       "<Figure size 432x288 with 1 Axes>"
      ]
     },
     "metadata": {},
     "output_type": "display_data"
    },
    {
     "name": "stdout",
     "output_type": "stream",
     "text": [
      "save model to navigation_dueling.pth\n"
     ]
    }
   ],
   "source": [
    "dueling_monitor = Monitor()\n",
    "dueling_params = Parameters()\n",
    "dueling_params.double = True\n",
    "dueling_params.dueling = True\n",
    "\n",
    "dueling_monitor.run(dueling_params, \"dueling\")"
   ]
  },
  {
   "cell_type": "code",
   "execution_count": null,
   "metadata": {},
   "outputs": [],
   "source": []
  }
 ],
 "metadata": {
  "kernelspec": {
   "display_name": "Python 2",
   "language": "python",
   "name": "python2"
  },
  "language_info": {
   "codemirror_mode": {
    "name": "ipython",
    "version": 2
   },
   "file_extension": ".py",
   "mimetype": "text/x-python",
   "name": "python",
   "nbconvert_exporter": "python",
   "pygments_lexer": "ipython2",
   "version": "2.7.6"
  }
 },
 "nbformat": 4,
 "nbformat_minor": 0
}
